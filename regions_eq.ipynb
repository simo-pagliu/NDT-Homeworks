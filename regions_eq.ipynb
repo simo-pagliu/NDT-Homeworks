{
 "cells": [
  {
   "cell_type": "code",
   "execution_count": 12,
   "metadata": {},
   "outputs": [
    {
     "data": {
      "text/latex": [
       "$\\displaystyle - \\sqrt{\\frac{R_{columnar}^{2} density_{columnar ratio} - R_{columnar}^{2} density_{equiaxed ratio} + R_{equiaxed}^{2} density_{equiaxed ratio} - R_{equiaxed}^{2}}{density_{columnar ratio}}}$"
      ],
      "text/plain": [
       "<IPython.core.display.Math object>"
      ]
     },
     "metadata": {},
     "output_type": "display_data"
    }
   ],
   "source": [
    "import sympy as sp\n",
    "from IPython.display import display, Math\n",
    "\n",
    "R_void = sp.symbols('R_void')\n",
    "R_fuel = sp.symbols('R_fuel')\n",
    "R_columnar = sp.symbols('R_columnar')\n",
    "R_equiaxed = sp.symbols('R_equiaxed')\n",
    "density_TD = sp.symbols('density_TD')\n",
    "density_columnar_ratio = sp.symbols('density_columnar_ratio')   \n",
    "density_equiaxed_ratio = sp.symbols('density_equiaxed_ratio')\n",
    "\n",
    "eq = sp.solvers.solve(R_fuel**2*density_TD-(R_columnar**2-R_void**2)*(density_columnar_ratio*density_TD)-(R_equiaxed**2-R_columnar**2)*(\n",
    "        density_equiaxed_ratio*density_TD)-(R_fuel**2-R_equiaxed**2)*(density_TD), R_void)[0]\n",
    "\n",
    "display(Math(sp.latex(eq)))"
   ]
  },
  {
   "cell_type": "code",
   "execution_count": 13,
   "metadata": {},
   "outputs": [
    {
     "data": {
      "text/latex": [
       "$\\displaystyle \\frac{D \\left(1 - p\\right)^{2.5} e^{- \\frac{E}{T}}}{T^{2}} + \\frac{1}{A + B T}$"
      ],
      "text/plain": [
       "<IPython.core.display.Math object>"
      ]
     },
     "metadata": {},
     "output_type": "display_data"
    }
   ],
   "source": [
    "# Function to calculate A based on x and Pu_concentration\n",
    "def A_f(x, Pu_concentration):\n",
    "    A_value = 0.01926 + 1.06 * 10**-6 * x + 2.63 * 10**-8 * Pu_concentration\n",
    "    return A_value\n",
    "\n",
    "# Function to calculate B based on Pu_concentration\n",
    "def B_f(Pu_concentration):\n",
    "    B_value = 2.39 * 10**-4 + 1.37 * 10**-13 * Pu_concentration\n",
    "    return B_value\n",
    "\n",
    "# Function to calculate porosity based on density\n",
    "def porosity_f(density_value):\n",
    "    p = 1 - density_value  # porosity evaluation in different zones\n",
    "    return p\n",
    "\n",
    "# Definition of symbols\n",
    "T = sp.symbols('T')\n",
    "A = sp.symbols('A')\n",
    "B = sp.symbols('B')\n",
    "D = sp.symbols('D')\n",
    "E = sp.symbols('E')\n",
    "p = sp.symbols('p')\n",
    "k = sp.Function('k')(T)\n",
    "\n",
    "# Equation to integrate to obtain thermal conductivity\n",
    "k_function = sp.Eq(k, 1 / (A + B * T) + (D / T**2) * sp.exp(-E / T) * (1 - p)**2.5)\n",
    "Equation_to_integrate = k_function.rhs\n",
    "\n",
    "display(Math(sp.latex(Equation_to_integrate)))"
   ]
  },
  {
   "cell_type": "code",
   "execution_count": 14,
   "metadata": {},
   "outputs": [
    {
     "data": {
      "text/latex": [
       "$\\displaystyle \\begin{cases} \\frac{D \\left(1 - p\\right)^{2.5} e^{- \\frac{E}{T}}}{E} & \\text{for}\\: E \\neq 0 \\\\- \\frac{D \\left(1 - p\\right)^{2.5}}{T} & \\text{otherwise} \\end{cases} + \\frac{\\log{\\left(A + B T \\right)}}{B}$"
      ],
      "text/plain": [
       "<IPython.core.display.Math object>"
      ]
     },
     "metadata": {},
     "output_type": "display_data"
    }
   ],
   "source": [
    "# Symbolic integration\n",
    "integral_k = sp.integrate(Equation_to_integrate, T)\n",
    "display(Math(sp.latex(integral_k)))"
   ]
  },
  {
   "cell_type": "code",
   "execution_count": 16,
   "metadata": {},
   "outputs": [
    {
     "data": {
      "text/latex": [
       "$\\displaystyle \\begin{cases} \\frac{D \\rho^{2.5} e^{- \\frac{E}{T}}}{E} & \\text{for}\\: E \\neq 0 \\\\- \\frac{D \\rho^{2.5}}{T} & \\text{otherwise} \\end{cases} + \\frac{\\log{\\left(2.63 \\cdot 10^{-8} Pu + T \\left(1.37 \\cdot 10^{-13} Pu + 0.000239\\right) + 1.06 \\cdot 10^{-6} x + 0.01926 \\right)}}{1.37 \\cdot 10^{-13} Pu + 0.000239}$"
      ],
      "text/plain": [
       "<IPython.core.display.Math object>"
      ]
     },
     "metadata": {},
     "output_type": "display_data"
    }
   ],
   "source": [
    "# substitute the values of A, B, D, E, p\n",
    "Pu = sp.symbols('Pu')\n",
    "rho = sp.symbols('rho')\n",
    "x = sp.symbols('x')\n",
    "integral_k = integral_k.subs({\n",
    "    A: 0.01926 + 1.06 * 10**-6 * x + 2.63 * 10**-8 * Pu,\n",
    "    B: 2.39 * 10**-4 + 1.37 * 10**-13 * Pu,\n",
    "    p: 1 - rho,\n",
    "    })\n",
    "display(Math(sp.latex(integral_k)))"
   ]
  },
  {
   "cell_type": "code",
   "execution_count": 17,
   "metadata": {},
   "outputs": [
    {
     "name": "stdout",
     "output_type": "stream",
     "text": [
      "Symbolic integral of k(T) is:\n",
      "⎛⎧        -E            ⎞                                                     \n",
      "⎜⎪        ───           ⎟                                                     \n",
      "⎜⎪   2.5   T            ⎟                                                     \n",
      "⎜⎪D⋅ρ   ⋅ℯ              ⎟                                                     \n",
      "⎜⎪───────────  for E ≠ 0⎟   log(2.63e-8⋅Pu + T⋅(1.37e-13⋅Pu + 0.000239) + 1.06\n",
      "⎜⎨     E                ⎟ + ──────────────────────────────────────────────────\n",
      "⎜⎪                      ⎟                         1.37e-13⋅Pu + 0.000239      \n",
      "⎜⎪     2.5              ⎟                                                     \n",
      "⎜⎪ -D⋅ρ                 ⎟                                                     \n",
      "⎜⎪ ────────    otherwise⎟                                                     \n",
      "⎝⎩    T                 ⎠                                                     \n",
      "\n",
      "                \n",
      "                \n",
      "                \n",
      "                \n",
      "e-6⋅x + 0.01926)\n",
      "────────────────\n",
      "                \n",
      "                \n",
      "                \n",
      "                \n",
      "                \n",
      "Matrix([[308016.014494871*rho**2.5*exp(-17109.5/T) + log(2.63e-8*Pu + T*(1.37e-13*Pu + 0.000239) + 1.06e-6*x + 0.01926)/(1.37e-13*Pu + 0.000239), 308016.014494871*rho**2.5*exp(-17109.5/T) + log(2.63e-8*Pu + T*(1.37e-13*Pu + 0.000239) + 1.06e-6*x + 0.01926)/(1.37e-13*Pu + 0.000239), 308016.014494871*rho**2.5*exp(-17109.5/T) + log(2.63e-8*Pu + T*(1.37e-13*Pu + 0.000239) + 1.06e-6*x + 0.01926)/(1.37e-13*Pu + 0.000239)]])\n"
     ]
    }
   ],
   "source": [
    "# Initial data\n",
    "density_TD = 11.31  # g/cm^3\n",
    "Fuel_density = 11.31 * 0.945\n",
    "equiaxed_density = 0.95 * density_TD\n",
    "columnar_density = 0.98 * density_TD\n",
    "DENSITY = [columnar_density, equiaxed_density, Fuel_density]\n",
    "Pu_concentration = 0.29\n",
    "O_M = 1.957\n",
    "x = 2 - O_M\n",
    "A_value = A_f(x, Pu_concentration)\n",
    "B_value = B_f(Pu_concentration)\n",
    "D_value = 5.27 * 10**9\n",
    "E_value = 17109.5\n",
    "\n",
    "# Matrix creation for integrated k values\n",
    "n = 1\n",
    "m = 3\n",
    "matrix_of_integrals = sp.MutableDenseMatrix(n, m, [0] * n * m) #matrix contains all the integral_k equation for each zones\n",
    "\n",
    "# Print symbolic integral of k(T)\n",
    "print(\"Symbolic integral of k(T) is:\")\n",
    "sp.pprint(integral_k)\n",
    "\n",
    "# Calculation and substitution of values into matrix cells\n",
    "\n",
    "for i in range(m):\n",
    "    matrix_of_integrals[0, i] = integral_k.subs({\n",
    "        A: A_value,\n",
    "        B: B_value,\n",
    "        D: D_value,\n",
    "        E: E_value,\n",
    "        p: porosity_f(DENSITY[i])\n",
    "    })\n",
    "\n",
    "# Print the matrix\n",
    "print(matrix_of_integrals)"
   ]
  }
 ],
 "metadata": {
  "kernelspec": {
   "display_name": "base",
   "language": "python",
   "name": "python3"
  },
  "language_info": {
   "codemirror_mode": {
    "name": "ipython",
    "version": 3
   },
   "file_extension": ".py",
   "mimetype": "text/x-python",
   "name": "python",
   "nbconvert_exporter": "python",
   "pygments_lexer": "ipython3",
   "version": "3.11.5"
  }
 },
 "nbformat": 4,
 "nbformat_minor": 2
}
