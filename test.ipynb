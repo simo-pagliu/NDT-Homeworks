{
 "cells": [
  {
   "cell_type": "code",
   "execution_count": 38,
   "metadata": {},
   "outputs": [
    {
     "data": {
      "text/latex": [
       "$\\displaystyle 0.623378068050908 T + 2697.90301889634 \\log{\\left(0.00023900000003973 T + 0.019260053207 \\right)} + 188826.403530732 e^{- \\frac{17109.5}{T}}$"
      ],
      "text/plain": [
       "<IPython.core.display.Math object>"
      ]
     },
     "metadata": {},
     "output_type": "display_data"
    },
    {
     "data": {
      "text/latex": [
       "$\\displaystyle 0.623378068050908 T + 2697.90301889634 \\log{\\left(0.00023900000003973 T + 0.019260053207 \\right)} + 174705.48712102 e^{- \\frac{17109.5}{T}}$"
      ],
      "text/plain": [
       "<IPython.core.display.Math object>"
      ]
     },
     "metadata": {},
     "output_type": "display_data"
    },
    {
     "data": {
      "text/latex": [
       "$\\displaystyle 0.623378068050908 T + 2697.90301889634 \\log{\\left(0.00023900000003973 T + 0.019260053207 \\right)} + 172415.796785064 e^{- \\frac{17109.5}{T}}$"
      ],
      "text/plain": [
       "<IPython.core.display.Math object>"
      ]
     },
     "metadata": {},
     "output_type": "display_data"
    }
   ],
   "source": [
    "import sympy as sp\n",
    "import numpy as np\n",
    "from scipy.optimize import fsolve\n",
    "from IPython.display import display, Math\n",
    "\n",
    "# Function to calculate A based on x and Pu_concentration\n",
    "def A_f(x, Pu_concentration):\n",
    "    A_value = 0.01926 + 1.06e-6 * x + 2.63e-8 * Pu_concentration\n",
    "    return A_value\n",
    "\n",
    "# Function to calculate B based on Pu_concentration\n",
    "def B_f(Pu_concentration):\n",
    "    B_value = 2.39e-4 + 1.37e-13 * Pu_concentration\n",
    "    return B_value\n",
    "\n",
    "# Function to calculate porosity based on density\n",
    "def porosity_f(density_value, density_TD):\n",
    "    p = 1 - (density_value / density_TD)  # Corrected porosity evaluation\n",
    "    return p\n",
    "\n",
    "# Burnup calculation\n",
    "def bu_function(fuel_outer_diameter, fuel_height, fuel_density, uptime, q_linear_avg):\n",
    "    Bu = uptime / (24 * 3600) * q_linear_avg * fuel_height / (np.pi * (fuel_outer_diameter / 2)**2 * fuel_height * fuel_density)\n",
    "    Bu = Bu * 1e-6  # Conversion to GWd/tHM\n",
    "    return Bu\n",
    "\n",
    "# Initial data\n",
    "density_TD = 11.31  # g/cm^3\n",
    "Fuel_density = 11.31 * 0.945\n",
    "equiaxed_density = 0.95 * density_TD\n",
    "columnar_density = 0.98 * density_TD\n",
    "DENSITY = [columnar_density, equiaxed_density, Fuel_density]\n",
    "Pu_concentration = 0.29\n",
    "O_M = 1.957\n",
    "x = 2 - O_M\n",
    "A_value = A_f(x, Pu_concentration)\n",
    "B_value = B_f(Pu_concentration)\n",
    "D_value = 5.27e9\n",
    "E_value = 17109.5\n",
    "\n",
    "# Data needed for burnup calculation\n",
    "fuel_outer_diameter = 5.42e-3  # m\n",
    "fuel_height = 0.85  # m\n",
    "fuel_density = 11.31 * 0.945 * 1000  # kg/m^3\n",
    "uptime = 360 * 24 * 3600  # s\n",
    "q_linear_avg = 38.7e3  # W/m\n",
    "\n",
    "# Burnup calculation\n",
    "Burnup = bu_function(fuel_outer_diameter, fuel_height, fuel_density, uptime, q_linear_avg)\n",
    "\n",
    "# Definition of symbols for thermal conductivity calculation\n",
    "T = sp.symbols('T')\n",
    "A = sp.symbols('A')\n",
    "B = sp.symbols('B')\n",
    "D = sp.symbols('D')\n",
    "E = sp.symbols('E', positive=True)\n",
    "p = sp.symbols('p')\n",
    "k = sp.Function('k')(T)\n",
    "\n",
    "# Equation to integrate to obtain thermal conductivity\n",
    "k_function = sp.Eq(k, 1.755 + (((1 / (A + B * T) + (D / T**2) * sp.exp(-E / T) * (1 - p)**2.5)) - 1.755) * sp.exp(-Burnup / 128.75))\n",
    "Equation_to_integrate = k_function.rhs\n",
    "\n",
    "# Symbolic integration\n",
    "integral_k = sp.integrate(Equation_to_integrate, T)\n",
    "\n",
    "# Calculation and substitution of values in the matrix cells\n",
    "moitaiav = []\n",
    "for rho in DENSITY:\n",
    "    moitaiav.append(integral_k.subs({\n",
    "        A: A_value,\n",
    "        B: B_value,\n",
    "        D: D_value,\n",
    "        E: E_value,\n",
    "        p: porosity_f(rho, density_TD)\n",
    "    }))\n",
    "\n",
    "# Displaying results\n",
    "display(Math(sp.latex(moitaiav[0])))\n",
    "display(Math(sp.latex(moitaiav[1])))\n",
    "display(Math(sp.latex(moitaiav[2])))"
   ]
  },
  {
   "cell_type": "code",
   "execution_count": 39,
   "metadata": {},
   "outputs": [
    {
     "data": {
      "text/latex": [
       "$\\displaystyle \\text{Integral as fabricated }436.955233914648$"
      ],
      "text/plain": [
       "<IPython.core.display.Math object>"
      ]
     },
     "metadata": {},
     "output_type": "display_data"
    },
    {
     "data": {
      "text/latex": [
       "$\\displaystyle \\text{Integral equiaxed }417.987265709723$"
      ],
      "text/plain": [
       "<IPython.core.display.Math object>"
      ]
     },
     "metadata": {},
     "output_type": "display_data"
    }
   ],
   "source": [
    "# Integral calculations\n",
    "T_f_out = 1600  # max temperature at outer fuel radius\n",
    "T_equiaxed = 1800  # temperature at equiaxed radius\n",
    "T_columnar = 2000  # temperature at columnar radius\n",
    "\n",
    "integral_as_fabricated = - moitaiav[2].subs(T, T_f_out) + moitaiav[2].subs(T, T_equiaxed)\n",
    "integral_equiaxed = moitaiav[1].subs(T, T_columnar) - moitaiav[1].subs(T, T_equiaxed)\n",
    "\n",
    "display(Math(r\"\\text{Integral as fabricated }\" + f\"{integral_as_fabricated}\"))\n",
    "display(Math(r\"\\text{Integral equiaxed }\" + f\"{integral_equiaxed}\"))\n",
    "\n",
    "# Solve for R_equiaxed using equation 2\n",
    "q_first_avg = 38.7e3"
   ]
  },
  {
   "cell_type": "code",
   "execution_count": 40,
   "metadata": {},
   "outputs": [
    {
     "data": {
      "text/latex": [
       "$\\displaystyle R_{fuel} = 2.71mm$"
      ],
      "text/plain": [
       "<IPython.core.display.Math object>"
      ]
     },
     "metadata": {},
     "output_type": "display_data"
    }
   ],
   "source": [
    "R_fuel = 0.542 / 2\n",
    "# Solve for R_void and R_columnar\n",
    "R_columnar = sp.Symbol('R_columnar', positive=True)\n",
    "R_void = sp.Symbol('R_void', positive=True)\n",
    "display(Math(r\"R_{fuel} = \" + f\"{R_fuel*10}mm\"))"
   ]
  },
  {
   "cell_type": "code",
   "execution_count": 41,
   "metadata": {},
   "outputs": [
    {
     "data": {
      "text/latex": [
       "$\\displaystyle R_{equiaxed} = 2.51039516939092mm$"
      ],
      "text/plain": [
       "<IPython.core.display.Math object>"
      ]
     },
     "metadata": {},
     "output_type": "display_data"
    }
   ],
   "source": [
    "eq2 = sp.Eq(integral_as_fabricated, (q_first_avg / (4 * np.pi)) * (1 - (sp.Symbol('R_equiaxed', positive=True) / R_fuel)**2))\n",
    "R_equiaxed_solution = sp.solve(eq2, sp.Symbol('R_equiaxed', positive=True))\n",
    "R_equiaxed_value = [sol.evalf() for sol in R_equiaxed_solution if sol.is_real and sol > 0][0]\n",
    "display(Math(r\"R_{equiaxed} = \" + f\"{R_equiaxed_value*10}mm\"))"
   ]
  },
  {
   "cell_type": "code",
   "execution_count": 42,
   "metadata": {},
   "outputs": [
    {
     "data": {
      "text/latex": [
       "$\\displaystyle R_{columnar} = 0.198398204874814mm$"
      ],
      "text/plain": [
       "<IPython.core.display.Math object>"
      ]
     },
     "metadata": {},
     "output_type": "display_data"
    }
   ],
   "source": [
    "eq3 = sp.Eq(integral_equiaxed, \n",
    "        (q_first_avg / (4 * np.pi)) * (equiaxed_density / Fuel_density) * (R_equiaxed_value / R_fuel)**2 * (\n",
    "        1 - ((equiaxed_density - Fuel_density) / equiaxed_density) * ((R_equiaxed_value / R_columnar)**2)\n",
    "))\n",
    "R_columnar_solution = sp.solve(eq3, R_columnar)[0] \n",
    "display(Math(r\"R_{columnar} = \" + f\"{R_columnar_solution*10}mm\"))"
   ]
  },
  {
   "cell_type": "code",
   "execution_count": 43,
   "metadata": {},
   "outputs": [
    {
     "data": {
      "text/latex": [
       "$\\displaystyle R_{void} = 0.182642940844274mm$"
      ],
      "text/plain": [
       "<IPython.core.display.Math object>"
      ]
     },
     "metadata": {},
     "output_type": "display_data"
    }
   ],
   "source": [
    "eq1 = sp.Eq(np.pi * R_fuel**2 * Fuel_density,\n",
    "        (np.pi * (R_columnar_solution**2 - R_void**2) * columnar_density +\n",
    "        np.pi * (R_equiaxed_value**2 - R_columnar_solution**2) * equiaxed_density +\n",
    "        np.pi * (R_fuel**2 - R_equiaxed_value**2) *  Fuel_density))\n",
    "\n",
    "R_void_solution = sp.solve(eq1, R_void)[0]\n",
    "display(Math(r\"R_{void} = \" + f\"{R_void_solution*10}mm\"))"
   ]
  }
 ],
 "metadata": {
  "kernelspec": {
   "display_name": "base",
   "language": "python",
   "name": "python3"
  },
  "language_info": {
   "codemirror_mode": {
    "name": "ipython",
    "version": 3
   },
   "file_extension": ".py",
   "mimetype": "text/x-python",
   "name": "python",
   "nbconvert_exporter": "python",
   "pygments_lexer": "ipython3",
   "version": "3.11.5"
  }
 },
 "nbformat": 4,
 "nbformat_minor": 2
}
