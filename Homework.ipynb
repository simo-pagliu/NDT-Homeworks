{
 "cells": [
  {
   "cell_type": "markdown",
   "metadata": {},
   "source": [
    "# Preliminary Analysis\n",
    "In this notebook, we will validate the behavior of all functions to ensure they work as expected. We will also verify what can be simplified or neglected during the dimensioning process (handled in a separate notebook)."
   ]
  },
  {
   "cell_type": "code",
   "execution_count": 1,
   "metadata": {},
   "outputs": [],
   "source": [
    "# 3rd Party Libraries\n",
    "import numpy as np\n",
    "import sympy as sp\n",
    "import matplotlib.pyplot as plt\n",
    "import math\n",
    "from IPython.display import display, Math\n",
    "\n",
    "# Internal Libraries\n",
    "import functions as f\n",
    "from functions import Material_Proprieties"
   ]
  },
  {
   "cell_type": "markdown",
   "metadata": {},
   "source": [
    "## Input Data"
   ]
  },
  {
   "cell_type": "markdown",
   "metadata": {},
   "source": [
    "All material proprietes (Fuel, Helium, Cladding and Coolant) are saved in a custom defined class to avoid repeatedly passing many parameters to functions, reducing complexity and improving code readability and maintainability."
   ]
  },
  {
   "cell_type": "code",
   "execution_count": 2,
   "metadata": {},
   "outputs": [],
   "source": [
    "# Material: Cladding\n",
    "# 15-15, Ti stabilized, cold worked stainless steel\n",
    "Cladding_mat_prop = Material_Proprieties(\n",
    "    Elements=[\"Cr\", \"Ni\", \"Mo\", \"Mn\", \"Si\", \"Ti\", \"C\", \"B [ppm]\"],\n",
    "    Qualities=[15, 15, 1.5, 1.5, 0.9, 0.4, 0.09, 60],\n",
    "    Density=lambda eth: 7900 * (1 + eth)**-3,  # kg/m^3\n",
    "    Thermal_Conductivity=lambda t: 13.95 + 0.01163 * t,  # W/m K\n",
    "    Thermal_Expansion_Coeff=lambda t: -3.101e-4 + 1.545e-5 * t + 2.75e-9 * t**2,  # 1/°C\n",
    "    Specific_Heat=500,  # Approximate value in J/kg K for steel\n",
    "    Melting_Temperature=1673,  # K\n",
    "    Youngs_Modulus=lambda t: 202.7 - 0.08167 * t,  # GPa\n",
    "    Poissons_Ratio=lambda t: 0.277 + 6e-5 * t,  # Dimensionless\n",
    "    Yield_Stress=lambda t: 555.5 - 0.25 * t if t < 600 else (405.5 - 0.775 * (t - 600) if t < 1000 else 345.5 - 0.25 * t),  # MPa\n",
    "    Ultimate_Tensile_Strength=lambda t: 700 - 0.3125 * t if t < 600 else (512.5 - 0.969 * (t - 600) if t < 1000 else 437.5 - 0.3125 * t),  # MPa\n",
    ")\n",
    "\n",
    "# Material: Fuel\n",
    "# Homogeneous MOX fuel\n",
    "Fuel_mat_prop = Material_Proprieties(\n",
    "    Elements=[\"U-235\", \"U-238\", \"O-16\", \"Pu\"],\n",
    "    Qualities=[0.711 * (1 - 0.29), (1 - 0.711) * (1 - 0.29), 2, 0.29],  # To fix since 0.29 is in weight\n",
    "    Density=10.7,  # Approximate value for MOX fuel in g/cm^3\n",
    "    Molar_Mass=[235.0439299, 238.05078826, 15.99491461956, 244.064204],  # g/mol\n",
    "    Micro_Fission=[0.0001, 0.0001, 0.0001, 0.0001],  # cm^-1 ##############################################################################\n",
    "    Thermal_Conductivity=lambda k_inf, beta: 1.755 + (k_inf - 1.755) * math.exp(-beta),  # W/m K\n",
    "    Thermal_Expansion_Coeff=1.2e-5,  # 1/°C\n",
    "    Specific_Heat=270,  # Approximate value in J/kg K for MOX fuel\n",
    "    Melting_Temperature=lambda pu, x, beta: 2964.92 + ((3147 - 364.85 * pu - 1014.15 * x) - 2964.92) * math.exp(-beta),  # K\n",
    "    Youngs_Modulus=lambda t, p: (22.43 * 10**4 - 31.19 * t) * (1 - 2.6 * p),  # MPa\n",
    "    Poissons_Ratio=0.32,  # Dimensionless\n",
    ")\n",
    "\n",
    "# Material: Coolant (Sodium)\n",
    "Coolant_mat_prop = Material_Proprieties(\n",
    "    Elements=[\"Na\"],\n",
    "    Qualities=[1],\n",
    "    Density=lambda t: 954.1579 + (t * 9/5 +32) * ((t * 9/5 +32) * (0.9667e-9 - 0.46e-5) - 0.1273534),  # kg/m^3 (t * 9/5 +32) is the convertion from C to F\n",
    "    Viscosity=lambda t: math.exp(813.9 / t -2.530 ),  # mPa s\n",
    "    Thermal_Conductivity=lambda t: 110 - 0.0648 * t + 1.16e-5 * t**2,  # W/m K\n",
    "    Specific_Heat=lambda t: 1608 - 0.7481 * t + 3.929e-4 * t**2,  # J/kg K\n",
    "    Melting_Temperature=98,  # °C\n",
    "    Boiling_Temperature=882,  # °C\n",
    "    Nusselt_Number=lambda pe: 7 + 0.025 * pe**0.8\n",
    ")\n",
    "\n",
    "# Material: Helium (Filling Gas)\n",
    "Helium_mat_prop = Material_Proprieties(\n",
    "    Elements=[\"He\"],\n",
    "    Qualities=[1],\n",
    "    Density=0.1786,  # kg/m^3 at STP\n",
    "    Thermal_Conductivity=lambda t: 15.8e-4 * t**0.79,  # W/m K\n",
    "    Specific_Heat=5193,  # J/kg K at constant pressure\n",
    "    Thermal_Expansion_Coeff=3.66e-3  # Approximate value for helium in 1/°C\n",
    ")\n"
   ]
  },
  {
   "cell_type": "markdown",
   "metadata": {},
   "source": [
    "Other data is saved as common variables"
   ]
  },
  {
   "cell_type": "code",
   "execution_count": 3,
   "metadata": {},
   "outputs": [],
   "source": [
    "\n",
    "# Data for Fuel Pin Specifications\n",
    "fuel_column_height = 850  # mm\n",
    "fuel_pellet_outer_diameter = 5.42  # mm\n",
    "fuel_pellet_height = 7  # mm\n",
    "fuel_theoretical_density = 11.31  # g/cm^3\n",
    "fuel_density_percent_td = 94.5  # %\n",
    "fuel_grain_diameter = 10  # μm\n",
    "oxygen_to_metal_ratio = 1.957\n",
    "\n",
    "cladding_outer_diameter = 6.55  # mm\n",
    "initial_pressure_filling_gas = 0.1  # MPa\n",
    "initial_temperature_filling_gas = 20  # °C\n",
    "\n",
    "# Data for Neutronic Specifications\n",
    "neutron_flux_peak = 6.1  # Neutron Flux (> 100 keV) (10^15 n cm^-2 s^-1) at Peak Power Node\n",
    "\n",
    "# Data for Thermo-Hydraulic Specifications\n",
    "pin_pitch = 8.275  # mm\n",
    "coolant_inlet_temp = 395  # °C\n",
    "coolant_inlet_pressure = 0.1  # MPa\n",
    "coolant_mass_flow_rate = 0.049  # kg/s\n",
    "\n",
    "# Data for Axial Nodalization of the Fuel Pin\n",
    "node_numbers = [1, 2, 3, 4, 5, 6, 7, 8, 9, 10]\n",
    "heights_of_slice_centre = [42.5, 127.5, 212.5, 297.5, 382.5, 467.5, 552.5, 637.5, 722.5, 807.5]  # mm\n",
    "peak_factors = [0.572, 0.737, 0.868, 0.958, 1, 0.983, 0.912, 0.802, 0.658, 0.498]"
   ]
  },
  {
   "cell_type": "markdown",
   "metadata": {},
   "source": [
    "Verification parameters that will be needed for dimensioning"
   ]
  },
  {
   "cell_type": "code",
   "execution_count": 4,
   "metadata": {},
   "outputs": [],
   "source": [
    "\n",
    "# Data for Indicative Design Limits\n",
    "max_fuel_temp = 2600  # °C\n",
    "max_cladding_temp = 650  # °C\n",
    "max_plenum_pressure = 5  # MPa\n",
    "max_cladding_plastic_strain = 0.5  # %\n",
    "max_cladding_swelling = 3  # %\n",
    "max_coolant_velocity = 8  # m/s\n"
   ]
  },
  {
   "cell_type": "markdown",
   "metadata": {},
   "source": [
    "## Thermal - Hydraulics Analysis"
   ]
  },
  {
   "cell_type": "code",
   "execution_count": 5,
   "metadata": {},
   "outputs": [
    {
     "data": {
      "text/latex": [
       "$\\displaystyle \\rho_{coolant} =857.00\\text{ kg/m}^3$"
      ],
      "text/plain": [
       "<IPython.core.display.Math object>"
      ]
     },
     "metadata": {},
     "output_type": "display_data"
    },
    {
     "data": {
      "text/latex": [
       "$\\displaystyle v_{coolant} =4.03\\text{ m/s}$"
      ],
      "text/plain": [
       "<IPython.core.display.Math object>"
      ]
     },
     "metadata": {},
     "output_type": "display_data"
    },
    {
     "data": {
      "text/latex": [
       "$\\displaystyle A_{passage} =12.80\\text{ mm}^2$"
      ],
      "text/plain": [
       "<IPython.core.display.Math object>"
      ]
     },
     "metadata": {},
     "output_type": "display_data"
    }
   ],
   "source": [
    "# Velocity and Passage Area Calculation\n",
    "# To be modified with a proper evaluation\n",
    "density = Coolant_mat_prop.Density(coolant_inlet_temp)\n",
    "display(Math(r'\\rho_{coolant} =' + f'{density:.2f}' + r'\\text{ kg/m}^3' ))\n",
    "velocity, passage_area= f.hydraulic_flow(coolant_mass_flow_rate, pin_pitch*1e-3, cladding_outer_diameter*1e-3, Coolant_mat_prop, coolant_inlet_pressure)\n",
    "display(Math(r'v_{coolant} =' + f'{velocity:.2f}' + r'\\text{ m/s}' ))\n",
    "display(Math(r'A_{passage} =' + f'{passage_area*1e6:.2f}' + r'\\text{ mm}^2' ))\n"
   ]
  },
  {
   "cell_type": "code",
   "execution_count": 6,
   "metadata": {},
   "outputs": [
    {
     "name": "stdout",
     "output_type": "stream",
     "text": [
      "\u001b[93mThe sum of the qualites values is not 1, default behaviour is ignoring.\u001b[0m\n"
     ]
    },
    {
     "data": {
      "text/latex": [
       "$\\displaystyle P_{peak} =9.38\\text{ W}$"
      ],
      "text/plain": [
       "<IPython.core.display.Math object>"
      ]
     },
     "metadata": {},
     "output_type": "display_data"
    }
   ],
   "source": [
    "# Peak Power Node Calculation\n",
    "energy_per_fission = 200  # eV\n",
    "peak = f.peak_power(neutron_flux_peak, Fuel_mat_prop, energy_per_fission, fuel_pellet_outer_diameter, fuel_column_height)\n",
    "# Display the peak power node\n",
    "display(Math(r'P_{peak} =' + f'{peak:.2f}' + r'\\text{ W}' ))"
   ]
  },
  {
   "cell_type": "code",
   "execution_count": 7,
   "metadata": {},
   "outputs": [
    {
     "data": {
      "image/png": "[encoded data removed]",
      "text/plain": [
       "<Figure size 640x480 with 1 Axes>"
      ]
     },
     "metadata": {},
     "output_type": "display_data"
    }
   ],
   "source": [
    "# Plotting the Axial Power Profile\n",
    "power_profile = f.power_profile(peak, heights_of_slice_centre, peak_factors, 850)\n",
    "z_plot = np.linspace(0, 850, 1000)\n",
    "power_plot = power_profile(z_plot)\n",
    "plt.plot(power_plot, z_plot)\n",
    "plt.grid()\n",
    "plt.xlabel(\"Power Profile (W/m)\")\n",
    "plt.ylabel(\"Height (mm)\")\n",
    "# make the y-axis line dot-dash line\n",
    "plt.gca().spines['left'].set_linestyle('-.')\n",
    "plt.show()"
   ]
  },
  {
   "cell_type": "markdown",
   "metadata": {},
   "source": [
    "##### Linee guida da chatGPT:  \n",
    "\n",
    "Verification\n",
    "Margin to Melting of the Fuel\n",
    "Code to verify that the fuel temperature remains below the limit.\n",
    "\n",
    "Temperature of the Cladding\n",
    "Code for cladding temperature calculations.\n",
    "\n",
    "Yielding of the Cladding\n",
    "Code to determine the safety against yielding based on stress analysis.\n",
    "\n",
    "Time to Rupture for Thermal Creep of the Cladding\n",
    "Calculation and analysis of thermal creep failure time.\n",
    "\n",
    "Considerations for Double Irradiation Time\n",
    "Identify critical aspects to be considered if the irradiation time is doubled.\n",
    "\n",
    "Results Visualization\n",
    "Create plots where necessary, for example:\n",
    "- Temperature profiles\n",
    "- Creep stress against time"
   ]
  }
 ],
 "metadata": {
  "kernelspec": {
   "display_name": "base",
   "language": "python",
   "name": "python3"
  },
  "language_info": {
   "codemirror_mode": {
    "name": "ipython",
    "version": 3
   },
   "file_extension": ".py",
   "mimetype": "text/x-python",
   "name": "python",
   "nbconvert_exporter": "python",
   "pygments_lexer": "ipython3",
   "version": "3.11.5"
  }
 },
 "nbformat": 4,
 "nbformat_minor": 2
}
