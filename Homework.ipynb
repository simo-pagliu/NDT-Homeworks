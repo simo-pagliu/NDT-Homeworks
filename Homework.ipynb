{
 "cells": [
  {
   "cell_type": "markdown",
   "metadata": {},
   "source": [
    "# Preliminary Analysis\n",
    "In this notebook, we will validate the behavior of all functions to ensure they work as expected. We will also verify what can be simplified or neglected during the dimensioning process (handled in a separate notebook)."
   ]
  },
  {
   "cell_type": "code",
   "execution_count": 1,
   "metadata": {},
   "outputs": [],
   "source": [
    "# 3rd Party Libraries\n",
    "import numpy as np\n",
    "import sympy as sp\n",
    "import matplotlib.pyplot as plt\n",
    "import plotly.graph_objects as go\n",
    "import math\n",
    "import another_try as at\n",
    "from IPython.display import display, Math\n",
    "\n",
    "# Internal Libraries\n",
    "import functions as f\n",
    "import nuclei_func as nf\n",
    "from functions import Material_Proprieties, ThermoHydraulicSpecs, GeometryData, DimensioningData, Temperature_Map"
   ]
  },
  {
   "cell_type": "markdown",
   "metadata": {},
   "source": [
    "## Input Data"
   ]
  },
  {
   "cell_type": "markdown",
   "metadata": {},
   "source": [
    "All material proprietes (Fuel, Helium, Cladding and Coolant) are saved in a custom defined class to avoid repeatedly passing many parameters to functions, reducing complexity and improving code readability and maintainability."
   ]
  },
  {
   "cell_type": "code",
   "execution_count": 2,
   "metadata": {},
   "outputs": [],
   "source": [
    "# Material: Cladding\n",
    "# 15-15, Ti stabilized, cold worked stainless steel\n",
    "Cladding_Proprieties = Material_Proprieties(\n",
    "    Elements=[\"Cr\", \"Ni\", \"Mo\", \"Mn\", \"Si\", \"Ti\", \"C\", \"B [ppm]\"],\n",
    "    Qualities=[15, 15, 1.5, 1.5, 0.9, 0.4, 0.09, 60],\n",
    "    Density=lambda eth: 7900 * (1 + eth)**-3,  # kg/m^3\n",
    "    Thermal_Conductivity=lambda t: 13.95 + 0.01163 * t,  # W/m K\n",
    "    Emissivity = 0.32, # -\n",
    "    Thermal_Expansion_Coeff=lambda t: -3.101e-4 + 1.545e-5 * t + 2.75e-9 * t**2,  # 1/°C\n",
    "    Specific_Heat=500,  # Approximate value in J/kg K for steel\n",
    "    Melting_Temperature=1673,  # K\n",
    "    \n",
    "    Youngs_Modulus=lambda t: 202.7 - 0.08167 * t,  # GPa\n",
    "    Poissons_Ratio=lambda t: 0.277 + 6e-5 * t,  # Dimensionless\n",
    "    Yield_Stress=lambda t: 555.5 - 0.25 * t if t < 600 else (405.5 - 0.775 * (t - 600) if t < 1000 else 345.5 - 0.25 * t),  # MPa\n",
    "    Ultimate_Tensile_Strength=lambda t: 700 - 0.3125 * t if t < 600 else (512.5 - 0.969 * (t - 600) if t < 1000 else 437.5 - 0.3125 * t),  # MPa\n",
    ")\n",
    "\n",
    "# Material: Fuel\n",
    "# Homogeneous MOX fuel\n",
    "\n",
    "# Qualities have to be converted from weight to molar (won't change in hot condition):\n",
    "mol_qual = nf.w2mol([0.711, 0.29], [235 + 2*16, 239 + 2*16])  # UO2, PuO2\n",
    "\n",
    "Fuel_Proprieties = Material_Proprieties(\n",
    "    Elements=[\"U-235\", \"U-238\", \"O-16\", \"Pu\"],\n",
    "    Qualities=[mol_qual[0] * (1 - mol_qual[1]), (1 - mol_qual[0]) * (1 - mol_qual[1]), 2, mol_qual[1]], # Molar fractions\n",
    "    Theoretical_Density=11.31, # g/cm^3\n",
    "    Percent_of_Theoretical_Density = 94.5, # %\n",
    "    Molar_Mass=[235.0439299, 238.05078826, 15.99491461956, 244.064204],  # g/mol\n",
    "    Thermal_Conductivity=lambda k_inf, beta: 1.755 + (k_inf - 1.755) * math.exp(-beta),  # W/m K\n",
    "    Emissivity = 0.79, # -\n",
    "    Thermal_Expansion_Coeff=1.2e-5,  # 1/°C\n",
    "    Specific_Heat=270,  # Approximate value in J/kg K for MOX fuel\n",
    "    Melting_Temperature=lambda pu, x, beta: 2964.92 + ((3147 - 364.85 * pu - 1014.15 * x) - 2964.92) * math.exp(-beta/41.01),  # K\n",
    "    Oxigen_to_metal_ratio = 1.957, # -\n",
    "    Grain_diameter = 10 * 1e-6,  # m\n",
    "    Youngs_Modulus=lambda t, p: (22.43 * 10**4 - 31.19 * t) * (1 - 2.6 * p),  # MPa\n",
    "    Poissons_Ratio=0.32,  # Dimensionless\n",
    ")\n",
    "\n",
    "# Material: Coolant (Sodium)\n",
    "Coolant_Proprieties = Material_Proprieties(\n",
    "    Elements=[\"Na\"],\n",
    "    Qualities=[1],\n",
    "    Density=lambda t: 954.1579 + ((t-273) * 9/5 +32) *( ((t-273) * 9/5 +32) * ((((t-273) * 9/5 +32) * 0.9667e-9 - 0.46e-5)) - 0.1273534),  # kg/m^3 (t * 9/5 +32) is the convertion from C to K to F\n",
    "    Viscosity=lambda t: (math.exp(813.9 / t -2.530 ))/1000,  # Pa s\n",
    "    Thermal_Conductivity=lambda t: 110 - 0.0648 * t + 1.16e-5 * t**2,  # W/m K\n",
    "    Specific_Heat=lambda t: 1608 - 0.7481 * t + 3.929e-4 * t**2,  # J/kg K\n",
    "    \n",
    "    Melting_Temperature=98,  # °C\n",
    "    Boiling_Temperature=882,  # °C\n",
    "    Nusselt_Number=lambda pe: 7 + 0.025 * pe**0.8\n",
    ")\n",
    "\n",
    "# Material: Helium (Filling Gas)\n",
    "Helium_Proprieties = Material_Proprieties(\n",
    "    Elements=[\"He\"],\n",
    "    Qualities=[1],\n",
    "    Density=0.1786,  # kg/m^3 at STP\n",
    "    Thermal_Conductivity=lambda t: 15.8e-4 * t**0.79,  # W/m K\n",
    "    Specific_Heat=5193,  # J/kg K at constant pressure\n",
    "    Thermal_Expansion_Coeff=3.66e-3  # Approximate value for helium in 1/°C\n",
    ")\n"
   ]
  },
  {
   "cell_type": "markdown",
   "metadata": {},
   "source": [
    "Other data is saved as common variables"
   ]
  },
  {
   "cell_type": "code",
   "execution_count": 3,
   "metadata": {},
   "outputs": [],
   "source": [
    "Geometrical_Data = GeometryData(\n",
    "    fuel_outer_diameter=5.42 * 1e-3,  # m - GIVEN\n",
    "    fuel_inner_diameter=0.00 * 1e-3,  # m\n",
    "    cladding_outer_diameter=6.55 * 1e-3,  # m - GIVEN\n",
    "    thickness_cladding=0.3 * 1e-3, # m\n",
    "    pin_pitch=8.275 * 1e-3,  # m\n",
    "    h_values = np.linspace(0, 0.85, 10), # m\n",
    "    fuel_pellet_height = 7e-3, # m\n",
    "    fuel_roughness = 2e-6, # m\n",
    "    cladding_roughness = 1e-6 # m\n",
    ")\n",
    "\n",
    "# Example of initializing Thermo-Hydraulic specifications\n",
    "heights_of_slice_centre = [42.5, 127.5, 212.5, 297.5, 382.5, 467.5, 552.5, 637.5, 722.5, 807.5] # mm\n",
    "ThermoHydraulics = ThermoHydraulicSpecs(\n",
    "    coolant_inlet_temp=395 + 273,  # K\n",
    "    coolant_inlet_pressure=1e5,  # Pa\n",
    "    coolant_mass_flow_rate=0.049,  # kg/s\n",
    "    q_linear_avg = 38.7e3,  #W/m,\n",
    "    uptime = 360 * 24 * 3600,  # s\n",
    "    h_peak_factor = [h * 1e-3 for h in heights_of_slice_centre],  # m\n",
    "    peak_factors = [0.572, 0.737, 0.868, 0.958, 1, 0.983, 0.912, 0.802, 0.658, 0.498],\n",
    "    neutron_flux_peak = 6.1e15  # Neutron Flux (> 100 keV) (10^15 n cm^-2 s^-1) at Peak Power Node    \n",
    ")\n",
    "\n",
    "vars = DimensioningData(\n",
    "    filling_gas_pressure = 1e5,  # Pa\n",
    "    filling_gas_temperature = 20,  # °C\n",
    "    temperature_map = ''\n",
    ")\n",
    "\n",
    "# Data for Axial Nodalization of the Fuel Pin\n",
    "\n"
   ]
  },
  {
   "cell_type": "markdown",
   "metadata": {},
   "source": [
    "Verification parameters that will be needed for dimensioning"
   ]
  },
  {
   "cell_type": "code",
   "execution_count": 4,
   "metadata": {},
   "outputs": [],
   "source": [
    "# Data for Indicative Design Limits\n",
    "max_fuel_temp = 2600  # °C\n",
    "max_cladding_temp = 650  # °C\n",
    "max_plenum_pressure = 5  # MPa\n",
    "max_cladding_plastic_strain = 0.5  # %\n",
    "max_cladding_swelling = 3  # %\n",
    "max_coolant_velocity = 8  # m/s"
   ]
  },
  {
   "cell_type": "markdown",
   "metadata": {},
   "source": [
    "## Thermal - Hydraulics Analysis"
   ]
  },
  {
   "cell_type": "code",
   "execution_count": 5,
   "metadata": {},
   "outputs": [
    {
     "data": {
      "text/latex": [
       "$\\displaystyle T_{\\text{Computing}} = 668 \\, \\text{K}$"
      ],
      "text/plain": [
       "<IPython.core.display.Math object>"
      ]
     },
     "metadata": {},
     "output_type": "display_data"
    }
   ],
   "source": [
    "Computing_Temperature = ThermoHydraulics.coolant_inlet_temp  # K\n",
    "display(Math(r'T_{\\text{Computing}} = %s \\, \\text{K}' % Computing_Temperature))"
   ]
  },
  {
   "cell_type": "code",
   "execution_count": 6,
   "metadata": {},
   "outputs": [
    {
     "data": {
      "text/latex": [
       "$\\displaystyle \\rho_{coolant} =857.39\\text{ kg/m}^3$"
      ],
      "text/plain": [
       "<IPython.core.display.Math object>"
      ]
     },
     "metadata": {},
     "output_type": "display_data"
    },
    {
     "data": {
      "text/latex": [
       "$\\displaystyle \\mu_{coolant} =0.27\\text{ mPa s}$"
      ],
      "text/plain": [
       "<IPython.core.display.Math object>"
      ]
     },
     "metadata": {},
     "output_type": "display_data"
    },
    {
     "data": {
      "text/latex": [
       "$\\displaystyle k_{coolant} =71.89\\text{ W/m K}$"
      ],
      "text/plain": [
       "<IPython.core.display.Math object>"
      ]
     },
     "metadata": {},
     "output_type": "display_data"
    },
    {
     "data": {
      "text/latex": [
       "$\\displaystyle c_p =1283.59\\text{ J/kg K}$"
      ],
      "text/plain": [
       "<IPython.core.display.Math object>"
      ]
     },
     "metadata": {},
     "output_type": "display_data"
    }
   ],
   "source": [
    "#Preliminary check of coolant properties\n",
    "\n",
    "density = Coolant_Proprieties.Density(Computing_Temperature)\n",
    "viscosity = Coolant_Proprieties.Viscosity(Computing_Temperature)\n",
    "thermal_conductivity = Coolant_Proprieties.Thermal_Conductivity(Computing_Temperature)\n",
    "c_p = Coolant_Proprieties.Specific_Heat(Computing_Temperature)\n",
    "\n",
    "display(Math(r'\\rho_{coolant} =' + f'{density:.2f}' + r'\\text{ kg/m}^3' ))\n",
    "display(Math(r'\\mu_{coolant} =' + f'{viscosity*1000:.2f}' + r'\\text{ mPa s}' ))\n",
    "display(Math(r'k_{coolant} =' + f'{thermal_conductivity:.2f}' + r'\\text{ W/m K}' ))\n",
    "display(Math(r'c_p =' + f'{c_p:.2f}' + r'\\text{ J/kg K}' ))"
   ]
  },
  {
   "cell_type": "code",
   "execution_count": 7,
   "metadata": {},
   "outputs": [
    {
     "data": {
      "text/latex": [
       "$\\displaystyle v_{coolant} =4.46\\text{ m/s}$"
      ],
      "text/plain": [
       "<IPython.core.display.Math object>"
      ]
     },
     "metadata": {},
     "output_type": "display_data"
    },
    {
     "data": {
      "text/latex": [
       "$\\displaystyle A_{passage} =12.80\\text{ mm}^2$"
      ],
      "text/plain": [
       "<IPython.core.display.Math object>"
      ]
     },
     "metadata": {},
     "output_type": "display_data"
    },
    {
     "data": {
      "text/latex": [
       "$\\displaystyle D_{hydr} =4.98\\text{ mm}$"
      ],
      "text/plain": [
       "<IPython.core.display.Math object>"
      ]
     },
     "metadata": {},
     "output_type": "display_data"
    }
   ],
   "source": [
    "# Velocity and Passage Area Calculation\n",
    "# To be modified with a proper evaluation\n",
    "\n",
    "velocity, passage_area, d_h = f.hydraulic_flow(ThermoHydraulics, Geometrical_Data, Coolant_Proprieties, Computing_Temperature)\n",
    "\n",
    "display(Math(r'v_{coolant} =' + f'{velocity:.2f}' + r'\\text{ m/s}' ))\n",
    "display(Math(r'A_{passage} =' + f'{passage_area*1e6:.2f}' + r'\\text{ mm}^2' ))\n",
    "display(Math(r'D_{hydr} =' + f'{d_h*1e3:.2f}' + r'\\text{ mm}'))\n",
    "\n"
   ]
  },
  {
   "cell_type": "code",
   "execution_count": 8,
   "metadata": {},
   "outputs": [
    {
     "data": {
      "text/latex": [
       "$\\displaystyle \\alpha_{cladding - coolant} =139.38\\text{ kW/m}^2\\text{K}$"
      ],
      "text/plain": [
       "<IPython.core.display.Math object>"
      ]
     },
     "metadata": {},
     "output_type": "display_data"
    },
    {
     "data": {
      "text/latex": [
       "$\\displaystyle Re =70714.72$"
      ],
      "text/plain": [
       "<IPython.core.display.Math object>"
      ]
     },
     "metadata": {},
     "output_type": "display_data"
    },
    {
     "data": {
      "text/latex": [
       "$\\displaystyle Pe =340.14$"
      ],
      "text/plain": [
       "<IPython.core.display.Math object>"
      ]
     },
     "metadata": {},
     "output_type": "display_data"
    },
    {
     "data": {
      "text/latex": [
       "$\\displaystyle Pr =0.0048$"
      ],
      "text/plain": [
       "<IPython.core.display.Math object>"
      ]
     },
     "metadata": {},
     "output_type": "display_data"
    },
    {
     "data": {
      "text/latex": [
       "$\\displaystyle D_{h} =4.98\\text{ mm}$"
      ],
      "text/plain": [
       "<IPython.core.display.Math object>"
      ]
     },
     "metadata": {},
     "output_type": "display_data"
    },
    {
     "data": {
      "text/latex": [
       "$\\displaystyle Nu =9.65$"
      ],
      "text/plain": [
       "<IPython.core.display.Math object>"
      ]
     },
     "metadata": {},
     "output_type": "display_data"
    }
   ],
   "source": [
    "# Computing the Heat Transfer Coefficient between the Coolant and the cladding\n",
    "htc, reynolds, prandtl, peclet, nusselt, d_h = f.heat_trans_coefficient(Geometrical_Data, ThermoHydraulics, Coolant_Proprieties, Computing_Temperature)\n",
    "# Display the heat transfer coefficient\n",
    "display(Math(r'\\alpha_{cladding - coolant} =' + f'{htc*1e-3:.2f}' + r'\\text{ kW/m}^2\\text{K}'))\n",
    "display(Math(r'Re =' + f'{reynolds:.2f}'))\n",
    "display(Math(r'Pe =' + f'{peclet:.2f}' ))\n",
    "display(Math(r'Pr =' + f'{prandtl:.4f}' ))\n",
    "display(Math(r'D_{h} =' + f'{d_h*1e3:.2f}' + r'\\text{ mm}' ))\n",
    "display(Math(r'Nu =' + f'{nusselt:.2f}' ))"
   ]
  },
  {
   "cell_type": "markdown",
   "metadata": {},
   "source": [
    "### Axial Power Profile"
   ]
  },
  {
   "cell_type": "code",
   "execution_count": 9,
   "metadata": {},
   "outputs": [
    {
     "data": {
      "image/png": "[encoded data removed]",
      "text/plain": [
       "<Figure size 640x480 with 1 Axes>"
      ]
     },
     "metadata": {},
     "output_type": "display_data"
    }
   ],
   "source": [
    "q_values = [f.power_profile(h, ThermoHydraulics) for h in Geometrical_Data.h_values]\n",
    "\n",
    "# Create a figure with one subplot\n",
    "fig, (power1) = plt.subplots(1)\n",
    "\n",
    "# Plot the power profile\n",
    "power1.plot(np.array(q_values)*1e-3, np.array(Geometrical_Data.h_values)*1e3, label='Power Profile', color='blue')\n",
    "\n",
    "# Set title and axis labels\n",
    "power1.set_title(r'P [kW/m]')\n",
    "power1.set_xlabel(r'$q_{linear} [kW/m]$')\n",
    "power1.set_ylabel(r'h [mm]')\n",
    "\n",
    "# Add legend to the plot\n",
    "power1.legend()\n",
    "\n",
    "# Adjusts spacing between the plots\n",
    "plt.tight_layout()\n",
    "\n",
    "# Show the figure\n",
    "plt.show()"
   ]
  },
  {
   "cell_type": "markdown",
   "metadata": {},
   "source": [
    "### Radial temperature profile\n",
    "Thermal resistances  \n",
    "Fuel - Helium (gap) - Cladding - Coolant"
   ]
  },
  {
   "cell_type": "code",
   "execution_count": 10,
   "metadata": {},
   "outputs": [
    {
     "data": {
      "text/latex": [
       "$\\displaystyle R_{coolant} =0.000349\\frac{m \\cdot K}{W}$"
      ],
      "text/plain": [
       "<IPython.core.display.Math object>"
      ]
     },
     "metadata": {},
     "output_type": "display_data"
    }
   ],
   "source": [
    "R_coolant = f.thermal_resistance_coolant(Geometrical_Data, htc)\n",
    "display(Math(r'R_{coolant} =' + f'{R_coolant:.6f}' + r'\\frac{m \\cdot K}{W}'))"
   ]
  },
  {
   "cell_type": "code",
   "execution_count": 11,
   "metadata": {},
   "outputs": [
    {
     "data": {
      "text/latex": [
       "$\\displaystyle R_{cladding} =0.000704\\frac{m \\cdot K}{W}$"
      ],
      "text/plain": [
       "<IPython.core.display.Math object>"
      ]
     },
     "metadata": {},
     "output_type": "display_data"
    }
   ],
   "source": [
    "R_cladding = f.thermal_resistance_cladding(Geometrical_Data, Cladding_Proprieties, Computing_Temperature)\n",
    "display(Math(r'R_{cladding} =' + f'{R_cladding:.6f}' + r'\\frac{m \\cdot K}{W}'))"
   ]
  },
  {
   "cell_type": "code",
   "execution_count": 12,
   "metadata": {},
   "outputs": [
    {
     "data": {
      "text/latex": [
       "$\\displaystyle R_{gap} =0.057309\\frac{m \\cdot K}{W}$"
      ],
      "text/plain": [
       "<IPython.core.display.Math object>"
      ]
     },
     "metadata": {},
     "output_type": "display_data"
    }
   ],
   "source": [
    "R_gap = f.thermal_resistance_gap(\n",
    "    Geometrical_Data, Helium_Proprieties, Fuel_Proprieties, Cladding_Proprieties)\n",
    "\n",
    "# Just to print a value\n",
    "Temperature_Fuel_Out = Computing_Temperature # K\n",
    "Temperature_Cladding_In = Computing_Temperature\n",
    "Temperature_Gas = (Temperature_Fuel_Out + Temperature_Cladding_In) / 2\n",
    "R_gap_eval = R_gap(Temperature_Gas, Temperature_Fuel_Out)\n",
    "display(Math(r'R_{gap} =' + f'{R_gap_eval:.6f}' + r'\\frac{m \\cdot K}{W}'))"
   ]
  },
  {
   "cell_type": "code",
   "execution_count": 13,
   "metadata": {},
   "outputs": [
    {
     "data": {
      "text/latex": [
       "$\\displaystyle Burnup =56.497678\\frac{GWd}{t(HM)}$"
      ],
      "text/plain": [
       "<IPython.core.display.Math object>"
      ]
     },
     "metadata": {},
     "output_type": "display_data"
    },
    {
     "data": {
      "text/latex": [
       "$\\displaystyle R_{fuel} =0.021360\\frac{m \\cdot K}{W}$"
      ],
      "text/plain": [
       "<IPython.core.display.Math object>"
      ]
     },
     "metadata": {},
     "output_type": "display_data"
    }
   ],
   "source": [
    "Temperature_Fuel = Computing_Temperature\n",
    "Burnup = ThermoHydraulics.uptime / (24*3600) \\\n",
    "        * ThermoHydraulics.q_linear_avg * Geometrical_Data.h_values[-1] \\\n",
    "        / (np.pi * (Geometrical_Data.fuel_outer_diameter/2)**2 * Geometrical_Data.h_values[-1] \\\n",
    "        * Fuel_Proprieties.Density*1000)\n",
    "Burnup = Burnup * 1e-6  # Wd/kgU * 1e-9/1e-3 --> GWd/t(HM) \n",
    "display(Math(r'Burnup =' + f'{Burnup:.6f}' + r'\\frac{GWd}{t(HM)}'))\n",
    "\n",
    "R_fuel = f.thermal_resistance_fuel(Burnup, Fuel_Proprieties) # Outputs a lambda function\n",
    "R_fuel_eval = R_fuel(Temperature_Fuel) # Evaluate the lambda function for display\n",
    "display(Math(r'R_{fuel} =' + f'{R_fuel_eval:.6f}' + r'\\frac{m \\cdot K}{W}'))"
   ]
  },
  {
   "cell_type": "code",
   "execution_count": 14,
   "metadata": {},
   "outputs": [],
   "source": [
    "class th_resistances:\n",
    "    def __init__(self, R_fuel, R_gap, R_cladding, R_coolant):\n",
    "        self.Fuel = R_fuel\n",
    "        self.Gap = R_gap\n",
    "        self.Cladding = R_cladding\n",
    "        self.Coolant = R_coolant\n",
    "\n",
    "Resistances = th_resistances(R_fuel, R_gap, R_cladding, R_coolant)"
   ]
  },
  {
   "cell_type": "markdown",
   "metadata": {},
   "source": [
    "### Temperature Profile\n"
   ]
  },
  {
   "cell_type": "markdown",
   "metadata": {},
   "source": [
    "3D plot computes all the points"
   ]
  },
  {
   "cell_type": "code",
   "execution_count": 15,
   "metadata": {},
   "outputs": [
    {
     "data": {
      "application/vnd.plotly.v1+json": {
       "config": {
        "plotlyServerURL": "https://plot.ly"
       },
       "data": [
        {
         "colorscale": [
          [
           0,
           "#440154"
          ],
          [
           0.1111111111111111,
           "#482878"
          ],
          [
           0.2222222222222222,
           "#3e4989"
          ],
          [
           0.3333333333333333,
           "#31688e"
          ],
          [
           0.4444444444444444,
           "#26828e"
          ],
          [
           0.5555555555555556,
           "#1f9e89"
          ],
          [
           0.6666666666666666,
           "#35b779"
          ],
          [
           0.7777777777777778,
           "#6ece58"
          ],
          [
           0.8888888888888888,
           "#b5de2b"
          ],
          [
           1,
           "#fde725"
          ]
         ],
         "type": "surface",
         "x": [
          [
           8.052573477544154,
           3.2750000000000004,
           2.975,
           2.9087500000000004,
           2.8425000000000002,
           2.77625,
           2.71,
           2.5970833333333334,
           2.484166666666667,
           2.3712500000000003,
           2.2583333333333337,
           2.145416666666667,
           2.0325,
           1.9195833333333334,
           1.8066666666666669,
           1.69375,
           1.5808333333333333,
           1.4679166666666668,
           1.355,
           1.2420833333333334,
           1.1291666666666669,
           1.0162500000000003,
           0.9033333333333334,
           0.7904166666666667,
           0.6775000000000001,
           0.5645833333333337,
           0.4516666666666666,
           0.33875000000000005,
           0.22583333333333352,
           0.11291666666666698,
           0
          ],
          [
           8.052573477544154,
           3.2750000000000004,
           2.975,
           2.9087500000000004,
           2.8425000000000002,
           2.77625,
           2.71,
           2.5970833333333334,
           2.484166666666667,
           2.3712500000000003,
           2.2583333333333337,
           2.145416666666667,
           2.0325,
           1.9195833333333334,
           1.8066666666666669,
           1.69375,
           1.5808333333333333,
           1.4679166666666668,
           1.355,
           1.2420833333333334,
           1.1291666666666669,
           1.0162500000000003,
           0.9033333333333334,
           0.7904166666666667,
           0.6775000000000001,
           0.5645833333333337,
           0.4516666666666666,
           0.33875000000000005,
           0.22583333333333352,
           0.11291666666666698,
           0
          ],
          [
           8.052573477544154,
           3.2750000000000004,
           2.975,
           2.9087500000000004,
           2.8425000000000002,
           2.77625,
           2.71,
           2.5970833333333334,
           2.484166666666667,
           2.3712500000000003,
           2.2583333333333337,
           2.145416666666667,
           2.0325,
           1.9195833333333334,
           1.8066666666666669,
           1.69375,
           1.5808333333333333,
           1.4679166666666668,
           1.355,
           1.2420833333333334,
           1.1291666666666669,
           1.0162500000000003,
           0.9033333333333334,
           0.7904166666666667,
           0.6775000000000001,
           0.5645833333333337,
           0.4516666666666666,
           0.33875000000000005,
           0.22583333333333352,
           0.11291666666666698,
           0
          ],
          [
           8.052573477544154,
           3.2750000000000004,
           2.975,
           2.9087500000000004,
           2.8425000000000002,
           2.77625,
           2.71,
           2.5970833333333334,
           2.484166666666667,
           2.3712500000000003,
           2.2583333333333337,
           2.145416666666667,
           2.0325,
           1.9195833333333334,
           1.8066666666666669,
           1.69375,
           1.5808333333333333,
           1.4679166666666668,
           1.355,
           1.2420833333333334,
           1.1291666666666669,
           1.0162500000000003,
           0.9033333333333334,
           0.7904166666666667,
           0.6775000000000001,
           0.5645833333333337,
           0.4516666666666666,
           0.33875000000000005,
           0.22583333333333352,
           0.11291666666666698,
           0
          ],
          [
           8.052573477544154,
           3.2750000000000004,
           2.975,
           2.9087500000000004,
           2.8425000000000002,
           2.77625,
           2.71,
           2.5970833333333334,
           2.484166666666667,
           2.3712500000000003,
           2.2583333333333337,
           2.145416666666667,
           2.0325,
           1.9195833333333334,
           1.8066666666666669,
           1.69375,
           1.5808333333333333,
           1.4679166666666668,
           1.355,
           1.2420833333333334,
           1.1291666666666669,
           1.0162500000000003,
           0.9033333333333334,
           0.7904166666666667,
           0.6775000000000001,
           0.5645833333333337,
           0.4516666666666666,
           0.33875000000000005,
           0.22583333333333352,
           0.11291666666666698,
           0
          ],
          [
           8.052573477544154,
           3.2750000000000004,
           2.975,
           2.9087500000000004,
           2.8425000000000002,
           2.77625,
           2.71,
           2.5970833333333334,
           2.484166666666667,
           2.3712500000000003,
           2.2583333333333337,
           2.145416666666667,
           2.0325,
           1.9195833333333334,
           1.8066666666666669,
           1.69375,
           1.5808333333333333,
           1.4679166666666668,
           1.355,
           1.2420833333333334,
           1.1291666666666669,
           1.0162500000000003,
           0.9033333333333334,
           0.7904166666666667,
           0.6775000000000001,
           0.5645833333333337,
           0.4516666666666666,
           0.33875000000000005,
           0.22583333333333352,
           0.11291666666666698,
           0
          ],
          [
           8.052573477544154,
           3.2750000000000004,
           2.975,
           2.9087500000000004,
           2.8425000000000002,
           2.77625,
           2.71,
           2.5970833333333334,
           2.484166666666667,
           2.3712500000000003,
           2.2583333333333337,
           2.145416666666667,
           2.0325,
           1.9195833333333334,
           1.8066666666666669,
           1.69375,
           1.5808333333333333,
           1.4679166666666668,
           1.355,
           1.2420833333333334,
           1.1291666666666669,
           1.0162500000000003,
           0.9033333333333334,
           0.7904166666666667,
           0.6775000000000001,
           0.5645833333333337,
           0.4516666666666666,
           0.33875000000000005,
           0.22583333333333352,
           0.11291666666666698,
           0
          ],
          [
           8.052573477544154,
           3.2750000000000004,
           2.975,
           2.9087500000000004,
           2.8425000000000002,
           2.77625,
           2.71,
           2.5970833333333334,
           2.484166666666667,
           2.3712500000000003,
           2.2583333333333337,
           2.145416666666667,
           2.0325,
           1.9195833333333334,
           1.8066666666666669,
           1.69375,
           1.5808333333333333,
           1.4679166666666668,
           1.355,
           1.2420833333333334,
           1.1291666666666669,
           1.0162500000000003,
           0.9033333333333334,
           0.7904166666666667,
           0.6775000000000001,
           0.5645833333333337,
           0.4516666666666666,
           0.33875000000000005,
           0.22583333333333352,
           0.11291666666666698,
           0
          ],
          [
           8.052573477544154,
           3.2750000000000004,
           2.975,
           2.9087500000000004,
           2.8425000000000002,
           2.77625,
           2.71,
           2.5970833333333334,
           2.484166666666667,
           2.3712500000000003,
           2.2583333333333337,
           2.145416666666667,
           2.0325,
           1.9195833333333334,
           1.8066666666666669,
           1.69375,
           1.5808333333333333,
           1.4679166666666668,
           1.355,
           1.2420833333333334,
           1.1291666666666669,
           1.0162500000000003,
           0.9033333333333334,
           0.7904166666666667,
           0.6775000000000001,
           0.5645833333333337,
           0.4516666666666666,
           0.33875000000000005,
           0.22583333333333352,
           0.11291666666666698,
           0
          ],
          [
           8.052573477544154,
           3.2750000000000004,
           2.975,
           2.9087500000000004,
           2.8425000000000002,
           2.77625,
           2.71,
           2.5970833333333334,
           2.484166666666667,
           2.3712500000000003,
           2.2583333333333337,
           2.145416666666667,
           2.0325,
           1.9195833333333334,
           1.8066666666666669,
           1.69375,
           1.5808333333333333,
           1.4679166666666668,
           1.355,
           1.2420833333333334,
           1.1291666666666669,
           1.0162500000000003,
           0.9033333333333334,
           0.7904166666666667,
           0.6775000000000001,
           0.5645833333333337,
           0.4516666666666666,
           0.33875000000000005,
           0.22583333333333352,
           0.11291666666666698,
           0
          ]
         ],
         "y": [
          [
           0,
           0,
           0,
           0,
           0,
           0,
           0,
           0,
           0,
           0,
           0,
           0,
           0,
           0,
           0,
           0,
           0,
           0,
           0,
           0,
           0,
           0,
           0,
           0,
           0,
           0,
           0,
           0,
           0,
           0,
           0
          ],
          [
           94.44444444444444,
           94.44444444444444,
           94.44444444444444,
           94.44444444444444,
           94.44444444444444,
           94.44444444444444,
           94.44444444444444,
           94.44444444444444,
           94.44444444444444,
           94.44444444444444,
           94.44444444444444,
           94.44444444444444,
           94.44444444444444,
           94.44444444444444,
           94.44444444444444,
           94.44444444444444,
           94.44444444444444,
           94.44444444444444,
           94.44444444444444,
           94.44444444444444,
           94.44444444444444,
           94.44444444444444,
           94.44444444444444,
           94.44444444444444,
           94.44444444444444,
           94.44444444444444,
           94.44444444444444,
           94.44444444444444,
           94.44444444444444,
           94.44444444444444,
           94.44444444444444
          ],
          [
           188.88888888888889,
           188.88888888888889,
           188.88888888888889,
           188.88888888888889,
           188.88888888888889,
           188.88888888888889,
           188.88888888888889,
           188.88888888888889,
           188.88888888888889,
           188.88888888888889,
           188.88888888888889,
           188.88888888888889,
           188.88888888888889,
           188.88888888888889,
           188.88888888888889,
           188.88888888888889,
           188.88888888888889,
           188.88888888888889,
           188.88888888888889,
           188.88888888888889,
           188.88888888888889,
           188.88888888888889,
           188.88888888888889,
           188.88888888888889,
           188.88888888888889,
           188.88888888888889,
           188.88888888888889,
           188.88888888888889,
           188.88888888888889,
           188.88888888888889,
           188.88888888888889
          ],
          [
           283.3333333333333,
           283.3333333333333,
           283.3333333333333,
           283.3333333333333,
           283.3333333333333,
           283.3333333333333,
           283.3333333333333,
           283.3333333333333,
           283.3333333333333,
           283.3333333333333,
           283.3333333333333,
           283.3333333333333,
           283.3333333333333,
           283.3333333333333,
           283.3333333333333,
           283.3333333333333,
           283.3333333333333,
           283.3333333333333,
           283.3333333333333,
           283.3333333333333,
           283.3333333333333,
           283.3333333333333,
           283.3333333333333,
           283.3333333333333,
           283.3333333333333,
           283.3333333333333,
           283.3333333333333,
           283.3333333333333,
           283.3333333333333,
           283.3333333333333,
           283.3333333333333
          ],
          [
           377.77777777777777,
           377.77777777777777,
           377.77777777777777,
           377.77777777777777,
           377.77777777777777,
           377.77777777777777,
           377.77777777777777,
           377.77777777777777,
           377.77777777777777,
           377.77777777777777,
           377.77777777777777,
           377.77777777777777,
           377.77777777777777,
           377.77777777777777,
           377.77777777777777,
           377.77777777777777,
           377.77777777777777,
           377.77777777777777,
           377.77777777777777,
           377.77777777777777,
           377.77777777777777,
           377.77777777777777,
           377.77777777777777,
           377.77777777777777,
           377.77777777777777,
           377.77777777777777,
           377.77777777777777,
           377.77777777777777,
           377.77777777777777,
           377.77777777777777,
           377.77777777777777
          ],
          [
           472.22222222222223,
           472.22222222222223,
           472.22222222222223,
           472.22222222222223,
           472.22222222222223,
           472.22222222222223,
           472.22222222222223,
           472.22222222222223,
           472.22222222222223,
           472.22222222222223,
           472.22222222222223,
           472.22222222222223,
           472.22222222222223,
           472.22222222222223,
           472.22222222222223,
           472.22222222222223,
           472.22222222222223,
           472.22222222222223,
           472.22222222222223,
           472.22222222222223,
           472.22222222222223,
           472.22222222222223,
           472.22222222222223,
           472.22222222222223,
           472.22222222222223,
           472.22222222222223,
           472.22222222222223,
           472.22222222222223,
           472.22222222222223,
           472.22222222222223,
           472.22222222222223
          ],
          [
           566.6666666666666,
           566.6666666666666,
           566.6666666666666,
           566.6666666666666,
           566.6666666666666,
           566.6666666666666,
           566.6666666666666,
           566.6666666666666,
           566.6666666666666,
           566.6666666666666,
           566.6666666666666,
           566.6666666666666,
           566.6666666666666,
           566.6666666666666,
           566.6666666666666,
           566.6666666666666,
           566.6666666666666,
           566.6666666666666,
           566.6666666666666,
           566.6666666666666,
           566.6666666666666,
           566.6666666666666,
           566.6666666666666,
           566.6666666666666,
           566.6666666666666,
           566.6666666666666,
           566.6666666666666,
           566.6666666666666,
           566.6666666666666,
           566.6666666666666,
           566.6666666666666
          ],
          [
           661.1111111111111,
           661.1111111111111,
           661.1111111111111,
           661.1111111111111,
           661.1111111111111,
           661.1111111111111,
           661.1111111111111,
           661.1111111111111,
           661.1111111111111,
           661.1111111111111,
           661.1111111111111,
           661.1111111111111,
           661.1111111111111,
           661.1111111111111,
           661.1111111111111,
           661.1111111111111,
           661.1111111111111,
           661.1111111111111,
           661.1111111111111,
           661.1111111111111,
           661.1111111111111,
           661.1111111111111,
           661.1111111111111,
           661.1111111111111,
           661.1111111111111,
           661.1111111111111,
           661.1111111111111,
           661.1111111111111,
           661.1111111111111,
           661.1111111111111,
           661.1111111111111
          ],
          [
           755.5555555555555,
           755.5555555555555,
           755.5555555555555,
           755.5555555555555,
           755.5555555555555,
           755.5555555555555,
           755.5555555555555,
           755.5555555555555,
           755.5555555555555,
           755.5555555555555,
           755.5555555555555,
           755.5555555555555,
           755.5555555555555,
           755.5555555555555,
           755.5555555555555,
           755.5555555555555,
           755.5555555555555,
           755.5555555555555,
           755.5555555555555,
           755.5555555555555,
           755.5555555555555,
           755.5555555555555,
           755.5555555555555,
           755.5555555555555,
           755.5555555555555,
           755.5555555555555,
           755.5555555555555,
           755.5555555555555,
           755.5555555555555,
           755.5555555555555,
           755.5555555555555
          ],
          [
           850,
           850,
           850,
           850,
           850,
           850,
           850,
           850,
           850,
           850,
           850,
           850,
           850,
           850,
           850,
           850,
           850,
           850,
           850,
           850,
           850,
           850,
           850,
           850,
           850,
           850,
           850,
           850,
           850,
           850,
           850
          ]
         ],
         "z": [
          [
           688.8061989510566,
           698.4687190478169,
           717.9787315637159,
           746.4018872483597,
           774.0395061712773,
           801.0501829828438,
           827.5596697279432,
           884.1366933551387,
           943.7858087111964,
           1006.3775443667723,
           1071.705028448852,
           1139.4735910623228,
           1209.2883848918127,
           1280.638375586279,
           1352.8764842305795,
           1425.1998394186528,
           1496.6409482005445,
           1566.0873833138971,
           1632.348026935705,
           1694.270552554555,
           1750.887020281693,
           1801.5372835080575,
           1845.9188156268324,
           1884.046339238926,
           1916.150701198458,
           1942.567143077914,
           1963.6493348945287,
           1979.718878945742,
           1991.0425431735794,
           1997.8255617273076,
           2000.2123444115102
          ],
          [
           715.7079437793111,
           728.1577292885985,
           753.2956300302376,
           788.7858310657034,
           822.9514644609608,
           856.0816276003595,
           888.3920570109409,
           965.1640173272984,
           1047.9627368207769,
           1136.7584742253273,
           1231.3281120958575,
           1331.1729160314596,
           1435.3799150538716,
           1542.413830845588,
           1649.8928885160444,
           1754.5371048973725,
           1852.5850463127588,
           1940.782931541079,
           2017.441932407768,
           2082.7019414129254,
           2137.8313777279536,
           2184.3304921107883,
           2223.4730212116756,
           2256.236327242598,
           2283.356587523472,
           2305.3879718988924,
           2322.746786959815,
           2335.742771223236,
           2344.6009262762354,
           2349.4765710006877,
           2350.465485899263
          ],
          [
           747.5227341953457,
           762.185439517003,
           791.7915424257449,
           832.2411927095455,
           870.9661137379727,
           908.3614164697293,
           944.7125090295017,
           1039.2505447860872,
           1142.8733976446308,
           1255.6813849341293,
           1377.345130406149,
           1506.7551010040606,
           1641.404447865043,
           1776.6529916843,
           1905.6708683922284,
           2021.31453396876,
           2119.5626914728064,
           2201.070866411156,
           2268.973251365316,
           2326.1903012968123,
           2374.74669970093,
           2416.0456842449803,
           2451.093455363154,
           2480.627396216894,
           2505.1970816891544,
           2525.2156555099377,
           2540.993841662093,
           2552.7627127101887,
           2560.6891816831194,
           2564.8864578168964,
           2565.4209220947623
          ],
          [
           782.788843210488,
           798.9718751207964,
           831.6477352435784,
           874.8625630396242,
           916.1703695848194,
           956.013916131137,
           994.710188369879,
           1102.996557628122,
           1222.8427359140182,
           1354.396035053032,
           1496.976820100327,
           1648.1997887283371,
           1802.613306518103,
           1950.963601309578,
           2082.7457032008706,
           2192.313164272883,
           2281.6227049753425,
           2355.656231597138,
           2418.136387072076,
           2471.3871907682196,
           2516.991778981478,
           2556.063146638291,
           2589.411804312404,
           2617.6393282260096,
           2641.1994134276542,
           2660.4360897077568,
           2675.609902764762,
           2686.9152818258217,
           2694.49266820954,
           2698.4365940807775,
           2698.8010552111996
          ],
          [
           819.7519836510126,
           836.6445013026914,
           870.7529147920254,
           914.502084349722,
           956.3986294180297,
           996.8653791926848,
           1036.208425870716,
           1152.5944924875826,
           1281.804347893554,
           1423.8903791047958,
           1577.6604796010145,
           1739.3085484030626,
           1900.7030332462887,
           2049.791419062687,
           2176.3851835218534,
           2279.0769786547116,
           2363.1627964543713,
           2433.686519918042,
           2493.675670030104,
           2545.1172586116318,
           2589.379135686747,
           2627.4406114145722,
           2660.021476904939,
           2687.661601265462,
           2710.7707099189474,
           2729.6614621222916,
           2744.571497233289,
           2755.678686850197,
           2763.1115421890345,
           2766.956365559654,
           2767.2618782188556
          ],
          [
           856.2131436834663,
           872.8184885350668,
           906.3470589950821,
           948.2136958509501,
           988.5087080931002,
           1027.5750928652994,
           1065.6686382992063,
           1182.3797839540443,
           1311.4127094386652,
           1452.6419873375194,
           1604.6133110524504,
           1763.2006907507152,
           1920.1778232026022,
           2064.1694749816315,
           2186.375506637697,
           2286.1689969986537,
           2368.4497450522285,
           2437.723739333267,
           2496.791358395839,
           2547.5256725536947,
           2591.230022323035,
           2628.8447636547467,
           2661.064743319397,
           2688.413277161728,
           2711.288750663119,
           2729.9959232885994,
           2744.766877705311,
           2755.7756080010377,
           2763.1479985372753,
           2766.968709897446,
           2767.285642762511
          ],
          [
           890.1288270290192,
           905.5348031273504,
           936.6416762296229,
           974.6346268831325,
           1011.4657071478215,
           1047.3737857472158,
           1082.5449125621096,
           1192.0381895706769,
           1311.8275858666168,
           1441.643754448919,
           1580.2053098088797,
           1724.3420049778074,
           1868.0735024020432,
           2002.9907904347433,
           2121.4699535827185,
           2220.842123070478,
           2303.4658400495437,
           2373.0168070514583,
           2432.2562407315627,
           2483.0631459370843,
           2526.768389487044,
           2564.33614132716,
           2596.48201643816,
           2623.7454327248515,
           2646.537635178446,
           2665.173310020535,
           2679.892368727111,
           2690.8748766849376,
           2698.251481709727,
           2702.1105250396795,
           2702.5027555231045
          ],
          [
           920.0038084573408,
           933.5516076139874,
           960.9065552324332,
           993.7451294681374,
           1025.8453217835274,
           1057.3519240366868,
           1088.3837509415062,
           1185.0374776506237,
           1289.1911666032895,
           1400.5100675408098,
           1518.0816807121212,
           1640.0221464258955,
           1763.0364959496683,
           1882.3518577053992,
           1992.6623274313183,
           2090.0768824516963,
           2173.577473443166,
           2244.508992902579,
           2304.9467515132174,
           2356.687397177753,
           2401.088199526558,
           2439.1629626279178,
           2471.67454108142,
           2499.202507211852,
           2522.1904197758586,
           2540.978628892542,
           2555.8271701816548,
           2566.931827783181,
           2574.435406399668,
           2578.435548565897,
           2578.9899715325437
          ],
          [
           944.5362795094745,
           955.6515561242793,
           978.094892200261,
           1004.7159412570795,
           1030.9781012051844,
           1056.954828338468,
           1082.7102582400144,
           1161.7172317679301,
           1245.2031454581622,
           1332.8416977441325,
           1424.0667710813602,
           1517.9671445167687,
           1613.1656112934045,
           1707.7452970990157,
           1799.3362608246985,
           1885.4623826000548,
           1964.0935783294785,
           2034.1185207711878,
           2095.4262257922774,
           2148.5912261288536,
           2194.455006688858,
           2233.8503022148298,
           2267.494543492957,
           2295.973554378703,
           2319.755063297246,
           2339.207779283778,
           2354.6188099685387,
           2366.2077549970336,
           2374.1375057254577,
           2378.5222213190527,
           2379.432982736882
          ],
          [
           963.1090556513407,
           971.5215294418767,
           988.5075193595651,
           1008.5112686610807,
           1028.4291682718285,
           1048.2925242341437,
           1068.1306998606713,
           1127.354868208591,
           1188.557103935224,
           1251.4772405738142,
           1315.7804925117719,
           1381.0440127738057,
           1446.7431692154673,
           1512.2424778137524,
           1576.7991737045452,
           1639.5885634570782,
           1699.756846496762,
           1756.4975017222969,
           1809.134348483638,
           1857.1859492836193,
           1900.3902568521844,
           1938.6850308590574,
           1972.1577351826365,
           2000.9865090854908,
           2025.3892353899603,
           2045.5877723729907,
           2061.7865918609477,
           2074.1618302945335,
           2082.8567145382513,
           2087.980436306252,
           2089.608672732415
          ]
         ]
        }
       ],
       "layout": {
        "autosize": false,
        "height": 800,
        "scene": {
         "xaxis": {
          "title": {
           "text": "Radius (mm)"
          }
         },
         "yaxis": {
          "title": {
           "text": "Height (mm)"
          }
         },
         "zaxis": {
          "title": {
           "text": "Temperature (K)"
          }
         }
        },
        "template": {
         "data": {
          "bar": [
           {
            "error_x": {
             "color": "#2a3f5f"
            },
            "error_y": {
             "color": "#2a3f5f"
            },
            "marker": {
             "line": {
              "color": "#E5ECF6",
              "width": 0.5
             },
             "pattern": {
              "fillmode": "overlay",
              "size": 10,
              "solidity": 0.2
             }
            },
            "type": "bar"
           }
          ],
          "barpolar": [
           {
            "marker": {
             "line": {
              "color": "#E5ECF6",
              "width": 0.5
             },
             "pattern": {
              "fillmode": "overlay",
              "size": 10,
              "solidity": 0.2
             }
            },
            "type": "barpolar"
           }
          ],
          "carpet": [
           {
            "aaxis": {
             "endlinecolor": "#2a3f5f",
             "gridcolor": "white",
             "linecolor": "white",
             "minorgridcolor": "white",
             "startlinecolor": "#2a3f5f"
            },
            "baxis": {
             "endlinecolor": "#2a3f5f",
             "gridcolor": "white",
             "linecolor": "white",
             "minorgridcolor": "white",
             "startlinecolor": "#2a3f5f"
            },
            "type": "carpet"
           }
          ],
          "choropleth": [
           {
            "colorbar": {
             "outlinewidth": 0,
             "ticks": ""
            },
            "type": "choropleth"
           }
          ],
          "contour": [
           {
            "colorbar": {
             "outlinewidth": 0,
             "ticks": ""
            },
            "colorscale": [
             [
              0,
              "#0d0887"
             ],
             [
              0.1111111111111111,
              "#46039f"
             ],
             [
              0.2222222222222222,
              "#7201a8"
             ],
             [
              0.3333333333333333,
              "#9c179e"
             ],
             [
              0.4444444444444444,
              "#bd3786"
             ],
             [
              0.5555555555555556,
              "#d8576b"
             ],
             [
              0.6666666666666666,
              "#ed7953"
             ],
             [
              0.7777777777777778,
              "#fb9f3a"
             ],
             [
              0.8888888888888888,
              "#fdca26"
             ],
             [
              1,
              "#f0f921"
             ]
            ],
            "type": "contour"
           }
          ],
          "contourcarpet": [
           {
            "colorbar": {
             "outlinewidth": 0,
             "ticks": ""
            },
            "type": "contourcarpet"
           }
          ],
          "heatmap": [
           {
            "colorbar": {
             "outlinewidth": 0,
             "ticks": ""
            },
            "colorscale": [
             [
              0,
              "#0d0887"
             ],
             [
              0.1111111111111111,
              "#46039f"
             ],
             [
              0.2222222222222222,
              "#7201a8"
             ],
             [
              0.3333333333333333,
              "#9c179e"
             ],
             [
              0.4444444444444444,
              "#bd3786"
             ],
             [
              0.5555555555555556,
              "#d8576b"
             ],
             [
              0.6666666666666666,
              "#ed7953"
             ],
             [
              0.7777777777777778,
              "#fb9f3a"
             ],
             [
              0.8888888888888888,
              "#fdca26"
             ],
             [
              1,
              "#f0f921"
             ]
            ],
            "type": "heatmap"
           }
          ],
          "heatmapgl": [
           {
            "colorbar": {
             "outlinewidth": 0,
             "ticks": ""
            },
            "colorscale": [
             [
              0,
              "#0d0887"
             ],
             [
              0.1111111111111111,
              "#46039f"
             ],
             [
              0.2222222222222222,
              "#7201a8"
             ],
             [
              0.3333333333333333,
              "#9c179e"
             ],
             [
              0.4444444444444444,
              "#bd3786"
             ],
             [
              0.5555555555555556,
              "#d8576b"
             ],
             [
              0.6666666666666666,
              "#ed7953"
             ],
             [
              0.7777777777777778,
              "#fb9f3a"
             ],
             [
              0.8888888888888888,
              "#fdca26"
             ],
             [
              1,
              "#f0f921"
             ]
            ],
            "type": "heatmapgl"
           }
          ],
          "histogram": [
           {
            "marker": {
             "pattern": {
              "fillmode": "overlay",
              "size": 10,
              "solidity": 0.2
             }
            },
            "type": "histogram"
           }
          ],
          "histogram2d": [
           {
            "colorbar": {
             "outlinewidth": 0,
             "ticks": ""
            },
            "colorscale": [
             [
              0,
              "#0d0887"
             ],
             [
              0.1111111111111111,
              "#46039f"
             ],
             [
              0.2222222222222222,
              "#7201a8"
             ],
             [
              0.3333333333333333,
              "#9c179e"
             ],
             [
              0.4444444444444444,
              "#bd3786"
             ],
             [
              0.5555555555555556,
              "#d8576b"
             ],
             [
              0.6666666666666666,
              "#ed7953"
             ],
             [
              0.7777777777777778,
              "#fb9f3a"
             ],
             [
              0.8888888888888888,
              "#fdca26"
             ],
             [
              1,
              "#f0f921"
             ]
            ],
            "type": "histogram2d"
           }
          ],
          "histogram2dcontour": [
           {
            "colorbar": {
             "outlinewidth": 0,
             "ticks": ""
            },
            "colorscale": [
             [
              0,
              "#0d0887"
             ],
             [
              0.1111111111111111,
              "#46039f"
             ],
             [
              0.2222222222222222,
              "#7201a8"
             ],
             [
              0.3333333333333333,
              "#9c179e"
             ],
             [
              0.4444444444444444,
              "#bd3786"
             ],
             [
              0.5555555555555556,
              "#d8576b"
             ],
             [
              0.6666666666666666,
              "#ed7953"
             ],
             [
              0.7777777777777778,
              "#fb9f3a"
             ],
             [
              0.8888888888888888,
              "#fdca26"
             ],
             [
              1,
              "#f0f921"
             ]
            ],
            "type": "histogram2dcontour"
           }
          ],
          "mesh3d": [
           {
            "colorbar": {
             "outlinewidth": 0,
             "ticks": ""
            },
            "type": "mesh3d"
           }
          ],
          "parcoords": [
           {
            "line": {
             "colorbar": {
              "outlinewidth": 0,
              "ticks": ""
             }
            },
            "type": "parcoords"
           }
          ],
          "pie": [
           {
            "automargin": true,
            "type": "pie"
           }
          ],
          "scatter": [
           {
            "fillpattern": {
             "fillmode": "overlay",
             "size": 10,
             "solidity": 0.2
            },
            "type": "scatter"
           }
          ],
          "scatter3d": [
           {
            "line": {
             "colorbar": {
              "outlinewidth": 0,
              "ticks": ""
             }
            },
            "marker": {
             "colorbar": {
              "outlinewidth": 0,
              "ticks": ""
             }
            },
            "type": "scatter3d"
           }
          ],
          "scattercarpet": [
           {
            "marker": {
             "colorbar": {
              "outlinewidth": 0,
              "ticks": ""
             }
            },
            "type": "scattercarpet"
           }
          ],
          "scattergeo": [
           {
            "marker": {
             "colorbar": {
              "outlinewidth": 0,
              "ticks": ""
             }
            },
            "type": "scattergeo"
           }
          ],
          "scattergl": [
           {
            "marker": {
             "colorbar": {
              "outlinewidth": 0,
              "ticks": ""
             }
            },
            "type": "scattergl"
           }
          ],
          "scattermapbox": [
           {
            "marker": {
             "colorbar": {
              "outlinewidth": 0,
              "ticks": ""
             }
            },
            "type": "scattermapbox"
           }
          ],
          "scatterpolar": [
           {
            "marker": {
             "colorbar": {
              "outlinewidth": 0,
              "ticks": ""
             }
            },
            "type": "scatterpolar"
           }
          ],
          "scatterpolargl": [
           {
            "marker": {
             "colorbar": {
              "outlinewidth": 0,
              "ticks": ""
             }
            },
            "type": "scatterpolargl"
           }
          ],
          "scatterternary": [
           {
            "marker": {
             "colorbar": {
              "outlinewidth": 0,
              "ticks": ""
             }
            },
            "type": "scatterternary"
           }
          ],
          "surface": [
           {
            "colorbar": {
             "outlinewidth": 0,
             "ticks": ""
            },
            "colorscale": [
             [
              0,
              "#0d0887"
             ],
             [
              0.1111111111111111,
              "#46039f"
             ],
             [
              0.2222222222222222,
              "#7201a8"
             ],
             [
              0.3333333333333333,
              "#9c179e"
             ],
             [
              0.4444444444444444,
              "#bd3786"
             ],
             [
              0.5555555555555556,
              "#d8576b"
             ],
             [
              0.6666666666666666,
              "#ed7953"
             ],
             [
              0.7777777777777778,
              "#fb9f3a"
             ],
             [
              0.8888888888888888,
              "#fdca26"
             ],
             [
              1,
              "#f0f921"
             ]
            ],
            "type": "surface"
           }
          ],
          "table": [
           {
            "cells": {
             "fill": {
              "color": "#EBF0F8"
             },
             "line": {
              "color": "white"
             }
            },
            "header": {
             "fill": {
              "color": "#C8D4E3"
             },
             "line": {
              "color": "white"
             }
            },
            "type": "table"
           }
          ]
         },
         "layout": {
          "annotationdefaults": {
           "arrowcolor": "#2a3f5f",
           "arrowhead": 0,
           "arrowwidth": 1
          },
          "autotypenumbers": "strict",
          "coloraxis": {
           "colorbar": {
            "outlinewidth": 0,
            "ticks": ""
           }
          },
          "colorscale": {
           "diverging": [
            [
             0,
             "#8e0152"
            ],
            [
             0.1,
             "#c51b7d"
            ],
            [
             0.2,
             "#de77ae"
            ],
            [
             0.3,
             "#f1b6da"
            ],
            [
             0.4,
             "#fde0ef"
            ],
            [
             0.5,
             "#f7f7f7"
            ],
            [
             0.6,
             "#e6f5d0"
            ],
            [
             0.7,
             "#b8e186"
            ],
            [
             0.8,
             "#7fbc41"
            ],
            [
             0.9,
             "#4d9221"
            ],
            [
             1,
             "#276419"
            ]
           ],
           "sequential": [
            [
             0,
             "#0d0887"
            ],
            [
             0.1111111111111111,
             "#46039f"
            ],
            [
             0.2222222222222222,
             "#7201a8"
            ],
            [
             0.3333333333333333,
             "#9c179e"
            ],
            [
             0.4444444444444444,
             "#bd3786"
            ],
            [
             0.5555555555555556,
             "#d8576b"
            ],
            [
             0.6666666666666666,
             "#ed7953"
            ],
            [
             0.7777777777777778,
             "#fb9f3a"
            ],
            [
             0.8888888888888888,
             "#fdca26"
            ],
            [
             1,
             "#f0f921"
            ]
           ],
           "sequentialminus": [
            [
             0,
             "#0d0887"
            ],
            [
             0.1111111111111111,
             "#46039f"
            ],
            [
             0.2222222222222222,
             "#7201a8"
            ],
            [
             0.3333333333333333,
             "#9c179e"
            ],
            [
             0.4444444444444444,
             "#bd3786"
            ],
            [
             0.5555555555555556,
             "#d8576b"
            ],
            [
             0.6666666666666666,
             "#ed7953"
            ],
            [
             0.7777777777777778,
             "#fb9f3a"
            ],
            [
             0.8888888888888888,
             "#fdca26"
            ],
            [
             1,
             "#f0f921"
            ]
           ]
          },
          "colorway": [
           "#636efa",
           "#EF553B",
           "#00cc96",
           "#ab63fa",
           "#FFA15A",
           "#19d3f3",
           "#FF6692",
           "#B6E880",
           "#FF97FF",
           "#FECB52"
          ],
          "font": {
           "color": "#2a3f5f"
          },
          "geo": {
           "bgcolor": "white",
           "lakecolor": "white",
           "landcolor": "#E5ECF6",
           "showlakes": true,
           "showland": true,
           "subunitcolor": "white"
          },
          "hoverlabel": {
           "align": "left"
          },
          "hovermode": "closest",
          "mapbox": {
           "style": "light"
          },
          "paper_bgcolor": "white",
          "plot_bgcolor": "#E5ECF6",
          "polar": {
           "angularaxis": {
            "gridcolor": "white",
            "linecolor": "white",
            "ticks": ""
           },
           "bgcolor": "#E5ECF6",
           "radialaxis": {
            "gridcolor": "white",
            "linecolor": "white",
            "ticks": ""
           }
          },
          "scene": {
           "xaxis": {
            "backgroundcolor": "#E5ECF6",
            "gridcolor": "white",
            "gridwidth": 2,
            "linecolor": "white",
            "showbackground": true,
            "ticks": "",
            "zerolinecolor": "white"
           },
           "yaxis": {
            "backgroundcolor": "#E5ECF6",
            "gridcolor": "white",
            "gridwidth": 2,
            "linecolor": "white",
            "showbackground": true,
            "ticks": "",
            "zerolinecolor": "white"
           },
           "zaxis": {
            "backgroundcolor": "#E5ECF6",
            "gridcolor": "white",
            "gridwidth": 2,
            "linecolor": "white",
            "showbackground": true,
            "ticks": "",
            "zerolinecolor": "white"
           }
          },
          "shapedefaults": {
           "line": {
            "color": "#2a3f5f"
           }
          },
          "ternary": {
           "aaxis": {
            "gridcolor": "white",
            "linecolor": "white",
            "ticks": ""
           },
           "baxis": {
            "gridcolor": "white",
            "linecolor": "white",
            "ticks": ""
           },
           "bgcolor": "#E5ECF6",
           "caxis": {
            "gridcolor": "white",
            "linecolor": "white",
            "ticks": ""
           }
          },
          "title": {
           "x": 0.05
          },
          "xaxis": {
           "automargin": true,
           "gridcolor": "white",
           "linecolor": "white",
           "ticks": "",
           "title": {
            "standoff": 15
           },
           "zerolinecolor": "white",
           "zerolinewidth": 2
          },
          "yaxis": {
           "automargin": true,
           "gridcolor": "white",
           "linecolor": "white",
           "ticks": "",
           "title": {
            "standoff": 15
           },
           "zerolinecolor": "white",
           "zerolinewidth": 2
          }
         }
        },
        "title": {
         "text": "3D Temperature Profile vs. Radius and Height (q_values)"
        },
        "width": 800
       }
      }
     },
     "metadata": {},
     "output_type": "display_data"
    }
   ],
   "source": [
    "# Pre-compute the temperature matrix using the plot function\n",
    "r_coolant_infinity = Geometrical_Data.cladding_outer_diameter / 2 + Geometrical_Data.pin_pitch / np.sqrt(3)\n",
    "r_coolant_cladding = Geometrical_Data.cladding_outer_diameter / 2\n",
    "r_cladding_gap = Geometrical_Data.cladding_outer_diameter / 2 - Geometrical_Data.thickness_cladding\n",
    "r_gap_fuel = Geometrical_Data.fuel_outer_diameter / 2\n",
    "r_end = Geometrical_Data.fuel_inner_diameter / 2\n",
    "\n",
    "r_coolant = np.linspace(r_coolant_infinity, r_coolant_cladding, 2)[0:-1]\n",
    "r_cladding = np.linspace(r_coolant_cladding, r_cladding_gap, 2)[0:-1]\n",
    "r_gap = np.linspace(r_cladding_gap, r_gap_fuel,5)[0:-1]\n",
    "r_fuel = np.linspace(r_gap_fuel, r_end, 25)\n",
    "\n",
    "r_plot = np.concatenate((r_coolant, r_cladding, r_gap, r_fuel))\n",
    "\n",
    "# 3D plot of the temperature profile\n",
    "T_fuel_out = 1500 # K (Initial guess)\n",
    "vars.T_map = f.temperature_profile_3D(r_plot, Resistances, Coolant_Proprieties, ThermoHydraulics, Geometrical_Data, T_fuel_out, Burnup)\n",
    "\n",
    "# Create a 3D surface plot\n",
    "fig = go.Figure(data=[go.Surface(z=vars.T_map.T, x=vars.T_map.r*1e3, y=vars.T_map.h*1e3, colorscale='Viridis')])\n",
    "\n",
    "# Update the layout\n",
    "fig.update_layout(\n",
    "    scene=dict(\n",
    "        xaxis_title='Radius (mm)',\n",
    "        yaxis_title='Height (mm)',\n",
    "        zaxis_title='Temperature (K)'\n",
    "    ),\n",
    "    title=\"3D Temperature Profile vs. Radius and Height (q_values)\",\n",
    "    autosize=False,\n",
    "    width=800,\n",
    "    height=800\n",
    ")\n",
    "\n",
    "# Show the plot\n",
    "fig.show()\n",
    "    "
   ]
  },
  {
   "cell_type": "markdown",
   "metadata": {},
   "source": [
    "We can get the temperature value at any point"
   ]
  },
  {
   "cell_type": "code",
   "execution_count": 16,
   "metadata": {},
   "outputs": [
    {
     "name": "stdout",
     "output_type": "stream",
     "text": [
      "Temperature at height 0.0 mm and radius 8.0 mm: 688.81 K\n"
     ]
    }
   ],
   "source": [
    "# Get temperature at a specific point (height and radius) using pre-computed data\n",
    "height = 0e-3 # mm\n",
    "radius = 8e-3 # mm\n",
    "temperature_at_point = f.get_temperature_at_point(height, radius, vars.T_map)\n",
    "print(f\"Temperature at height {height*1e3} mm and radius {radius*1e3} mm: {temperature_at_point:.2f} K\")"
   ]
  },
  {
   "cell_type": "markdown",
   "metadata": {},
   "source": [
    "We can plot the radial temperature profile"
   ]
  },
  {
   "cell_type": "code",
   "execution_count": 17,
   "metadata": {},
   "outputs": [
    {
     "data": {
      "image/png": "[encoded data removed]",
      "text/plain": [
       "<Figure size 640x480 with 1 Axes>"
      ]
     },
     "metadata": {},
     "output_type": "display_data"
    }
   ],
   "source": [
    "# 2D plot of the temperature profile\n",
    "temp_plot_bottom = [f.get_temperature_at_point(0, r, vars.T_map) for r in r_plot]\n",
    "temp_plot_center = [f.get_temperature_at_point(0.425, r, vars.T_map) for r in r_plot]\n",
    "temp_plot_top = [f.get_temperature_at_point(0.850, r, vars.T_map) for r in r_plot]\n",
    "\n",
    "# Create plot\n",
    "plt.plot(r_plot * 1e3, temp_plot_bottom, label='Bottom', marker='o')\n",
    "plt.plot(r_plot * 1e3, temp_plot_center, label='Center', marker='o')\n",
    "plt.plot(r_plot * 1e3, temp_plot_top, label='Top', marker='o')\n",
    "\n",
    "r_0 = Geometrical_Data.fuel_inner_diameter/2 * 1e3\n",
    "r_1 = Geometrical_Data.fuel_outer_diameter/2 * 1e3\n",
    "r_2 = Geometrical_Data.cladding_outer_diameter/2 * 1e3 - Geometrical_Data.thickness_cladding * 1e3\n",
    "r_3 = Geometrical_Data.cladding_outer_diameter/2 * 1e3 \n",
    "r_4 = r_plot[0]*1e3\n",
    "\n",
    "# Add shading to different regions\n",
    "colors = ['#00008B', '#0000CD', '#4169E1', '#6495ED', '#87CEEB']\n",
    "plt.axvspan(r_3, r_4, color=colors[1], alpha=0.3, label='Coolant Region')\n",
    "plt.axvspan(r_2, r_3, color=colors[2], alpha=0.3, label='Cladding Region')\n",
    "plt.axvspan(r_1, r_2, color=colors[3], alpha=0.3, label='Gap Region')\n",
    "plt.axvspan(r_0, r_1, color=colors[4], alpha=0.3, label='Fuel Region')\n",
    "\n",
    "# Set title and axis labels\n",
    "plt.title('Temperature Profile')\n",
    "plt.xlabel('Radius [mm]')\n",
    "plt.xlim(r_0, r_4)\n",
    "plt.ylabel('Temperature [K]')\n",
    "\n",
    "# Add legend to the plot\n",
    "plt.legend()\n",
    "\n",
    "# Put the legend out of the figure\n",
    "plt.legend(loc='center left', bbox_to_anchor=(1, 0.5))\n",
    "\n",
    "# Show the figure\n",
    "plt.show()"
   ]
  },
  {
   "cell_type": "code",
   "execution_count": 18,
   "metadata": {},
   "outputs": [
    {
     "data": {
      "image/png": "[encoded data removed]",
      "text/plain": [
       "<Figure size 640x480 with 1 Axes>"
      ]
     },
     "metadata": {},
     "output_type": "display_data"
    }
   ],
   "source": [
    "# 2D plot of the temperature profiles along the axial direction\n",
    "r_to_plot = [vars.T_map.r[-1],\n",
    "             Geometrical_Data.cladding_outer_diameter/2,\n",
    "             Geometrical_Data.cladding_outer_diameter / 2 - Geometrical_Data.thickness_cladding,\n",
    "             Geometrical_Data.fuel_outer_diameter/2,\n",
    "             Geometrical_Data.fuel_inner_diameter/2]\n",
    "\n",
    "labels = ['Coolant', \n",
    "          'Cladding-Coolant Interface', \n",
    "          'Gap-Cladding Interface', \n",
    "          'Fuel-Gap Interface', \n",
    "          'Fuel Center']\n",
    "\n",
    "colors = ['#00008B', '#0000CD', '#4169E1', '#6495ED', '#87CEEB']\n",
    "h_vals = Geometrical_Data.h_values\n",
    "\n",
    "to_plot = 5\n",
    "for i in range(to_plot):\n",
    "    temp_axial = [f.get_temperature_at_point(h, r_to_plot[i], vars.T_map) for h in h_vals]\n",
    "    plt.plot(temp_axial, h_vals*1e3, label=labels[i], color=colors[i])\n",
    "\n",
    "# Plot a line at the coolant inlet temperature\n",
    "plt.axvline(x=ThermoHydraulics.coolant_inlet_temp, color='b', linestyle='--', label='Coolant Inlet Temperature')\n",
    "\n",
    "# Plot a line at the coolant boling temperature\n",
    "plt.axvline(x=Coolant_Proprieties.Boiling_Temperature + 273, color='yellow', linestyle='--', label='Coolant Boiling Temperature')\n",
    "\n",
    "# Plot a line at the cladding melting temperature\n",
    "plt.axvline(x=Cladding_Proprieties.Melting_Temperature, color='orange', linestyle='--', label='Cladding Melting Temperature')\n",
    "\n",
    "# Plot a line at the fuel melting temperature\n",
    "stechiometry = 2 - Fuel_Proprieties.Oxigen_to_metal_ratio\n",
    "pu_weight = 0.29\n",
    "plt.axvline(x=Fuel_Proprieties.Melting_Temperature(pu_weight,stechiometry,Burnup), color='r', linestyle='--', label='Fuel Melting Temperature')\n",
    "\n",
    "# Set title and axis labels\n",
    "plt.title('Temperature Profile')\n",
    "plt.ylabel('Height [mm]')\n",
    "plt.ylim(0, 850)\n",
    "plt.xlabel('Temperature [K]')\n",
    "\n",
    "# Put the legend outside the plot\n",
    "plt.legend()\n",
    "plt.legend(loc='center left', bbox_to_anchor=(1, 0.5))\n",
    "\n",
    "# Show the figure\n",
    "plt.show()"
   ]
  },
  {
   "cell_type": "code",
   "execution_count": 19,
   "metadata": {},
   "outputs": [
    {
     "data": {
      "image/png": "[encoded data removed]",
      "text/plain": [
       "<Figure size 640x480 with 1 Axes>"
      ]
     },
     "metadata": {},
     "output_type": "display_data"
    }
   ],
   "source": [
    "# plot the difference between the coolant profile and the cladding profile\n",
    "temp_coolant = [-f.get_temperature_at_point(h, r_to_plot[0], vars.T_map) + f.get_temperature_at_point(h, r_to_plot[1], vars.T_map) for h in h_vals]\n",
    "\n",
    "plt.plot(temp_coolant, h_vals*1e3, label='Coolant', color='blue')\n",
    "plt.show()"
   ]
  },
  {
   "cell_type": "code",
   "execution_count": 20,
   "metadata": {},
   "outputs": [
    {
     "data": {
      "image/png": "[encoded data removed]",
      "text/plain": [
       "<Figure size 640x480 with 2 Axes>"
      ]
     },
     "metadata": {},
     "output_type": "display_data"
    }
   ],
   "source": [
    "void_swell = f.void_swelling(vars.T_map, Geometrical_Data, ThermoHydraulics)\n",
    "\n",
    "# Calculate void swelling and average temperature\n",
    "void_swell = np.array(void_swell)\n",
    "avg_temp = np.mean(vars.T_map.T[:, 0])\n",
    "y_axis = vars.T_map.h[:, 0] * 1e3\n",
    "\n",
    "# Create the main plot for Void Swelling\n",
    "fig, ax1 = plt.subplots()\n",
    "\n",
    "# Plot Void Swelling\n",
    "ax1.plot(void_swell, y_axis, label='Void Swelling', color='blue')\n",
    "ax1.set_xlabel('Void Swelling [%]')\n",
    "ax1.set_ylabel('Height [mm]')\n",
    "ax1.grid(True)\n",
    "ax1.set_xlim(0, 3)\n",
    "\n",
    "# Create a secondary x-axis sharing the same y-axis for Temperature\n",
    "ax2 = ax1.twiny()\n",
    "ax2.plot(vars.T_map.T[:, 0], y_axis, label=f'Temperature (K)', color='red')\n",
    "ax2.set_xlabel('Temperature [K]')\n",
    "ax2.grid(True)\n",
    "# ax2.set_xlim(min(vars.T_map.T[:, 0]), max(vars.T_map.T[:, 0]))\n",
    "\n",
    "# Add the legend and title\n",
    "ax1.legend(loc='upper left')\n",
    "ax2.legend(loc='upper right')\n",
    "plt.title('Void Swelling and Temperature Comparison')\n",
    "plt.ylim(0, 850)\n",
    "plt.axvline(Cladding_Proprieties.Melting_Temperature * 0.4, color='orange', linestyle='--', label='30% Melting Temperature')\n",
    "plt.axvline(Cladding_Proprieties.Melting_Temperature * 0.6, color='orange', linestyle='--', label='60% Melting Temperature')\n",
    "\n",
    "# Show the plot\n",
    "plt.show()\n"
   ]
  },
  {
   "cell_type": "markdown",
   "metadata": {},
   "source": [
    "RESTRUCTURING VOID :)"
   ]
  },
  {
   "cell_type": "code",
   "execution_count": 21,
   "metadata": {},
   "outputs": [
    {
     "data": {
      "image/png": "[encoded data removed]",
      "text/plain": [
       "<Figure size 640x480 with 1 Axes>"
      ]
     },
     "metadata": {},
     "output_type": "display_data"
    }
   ],
   "source": [
    "\n",
    "\n",
    "r_col = at.get_radius_at_temprature(1800, vars.T_map)\n",
    "r_eq = at.get_radius_at_temprature(1600, vars.T_map)\n",
    "\n",
    "r_void = at.get_R_void(Fuel_Proprieties, r_col, r_eq)\n",
    "\n",
    "\n",
    "# plot the radius profile versus height\n",
    "\n",
    "plt.plot(np.array(r_void)*1e3, np.array(vars.T_map.h[:,0])*1e3, color='navy', label='Void')\n",
    "plt.plot(np.array(r_col)*1e3, np.array(vars.T_map.h[:,0])*1e3, color='purple', label='Columnar')\n",
    "plt.plot(np.array(r_eq)*1e3, np.array(vars.T_map.h[:,0])*1e3, color='pink', label='Equiaxed')\n",
    "\n",
    "plt.axvline(x=Geometrical_Data.fuel_outer_diameter/2 * 1e3, color='brown', linestyle='--', label='Fuel Outer Diameter')\n",
    "\n",
    "plt.title('Pellet Regions')\n",
    "plt.xlabel('Radius [mm]')\n",
    "plt.ylabel('Height [mm]')\n",
    "plt.legend(loc='center left', bbox_to_anchor=(1, 0.5))\n",
    "\n",
    "plt.fill_betweenx(np.array(vars.T_map.h[:,0])*1e3, 0, np.array(r_void)*1e3, color='navy', alpha=0.3)\n",
    "plt.fill_betweenx(np.array(vars.T_map.h[:,0])*1e3, np.array(r_void)*1e3, np.array(r_col)*1e3, color='purple', alpha=0.3)\n",
    "plt.fill_betweenx(np.array(vars.T_map.h[:,0])*1e3, np.array(r_col)*1e3, np.array(r_eq)*1e3, color='pink', alpha=0.3)\n",
    "\n",
    "plt.show()"
   ]
  }
 ],
 "metadata": {
  "kernelspec": {
   "display_name": "base",
   "language": "python",
   "name": "python3"
  },
  "language_info": {
   "codemirror_mode": {
    "name": "ipython",
    "version": 3
   },
   "file_extension": ".py",
   "mimetype": "text/x-python",
   "name": "python",
   "nbconvert_exporter": "python",
   "pygments_lexer": "ipython3",
   "version": "3.11.5"
  }
 },
 "nbformat": 4,
 "nbformat_minor": 2
}
