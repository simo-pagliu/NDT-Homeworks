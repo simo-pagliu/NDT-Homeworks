{
 "cells": [
  {
   "cell_type": "markdown",
   "metadata": {},
   "source": [
    "# Preliminary Analysis\n",
    "In this notebook, we will validate the behavior of all functions to ensure they work as expected. We will also verify what can be simplified or neglected during the dimensioning process (handled in a separate notebook)."
   ]
  },
  {
   "cell_type": "code",
   "execution_count": 1,
   "metadata": {},
   "outputs": [],
   "source": [
    "# 3rd Party Libraries\n",
    "import numpy as np\n",
    "import sympy as sp\n",
    "import matplotlib.pyplot as plt\n",
    "import math\n",
    "from IPython.display import display, Math\n",
    "\n",
    "# Internal Libraries\n",
    "import functions as f\n",
    "import nuclei_func as nf\n",
    "from functions import Material_Proprieties"
   ]
  },
  {
   "cell_type": "markdown",
   "metadata": {},
   "source": [
    "## Input Data"
   ]
  },
  {
   "cell_type": "markdown",
   "metadata": {},
   "source": [
    "All material proprietes (Fuel, Helium, Cladding and Coolant) are saved in a custom defined class to avoid repeatedly passing many parameters to functions, reducing complexity and improving code readability and maintainability."
   ]
  },
  {
   "cell_type": "code",
   "execution_count": 2,
   "metadata": {},
   "outputs": [],
   "source": [
    "# Material: Cladding\n",
    "# 15-15, Ti stabilized, cold worked stainless steel\n",
    "Cladding_mat_prop = Material_Proprieties(\n",
    "    Elements=[\"Cr\", \"Ni\", \"Mo\", \"Mn\", \"Si\", \"Ti\", \"C\", \"B [ppm]\"],\n",
    "    Qualities=[15, 15, 1.5, 1.5, 0.9, 0.4, 0.09, 60],\n",
    "    Density=lambda eth: 7900 * (1 + eth)**-3,  # kg/m^3\n",
    "    Thermal_Conductivity=lambda t: 13.95 + 0.01163 * t,  # W/m K\n",
    "    Thermal_Expansion_Coeff=lambda t: -3.101e-4 + 1.545e-5 * t + 2.75e-9 * t**2,  # 1/°C\n",
    "    Specific_Heat=500,  # Approximate value in J/kg K for steel\n",
    "    Melting_Temperature=1673,  # K\n",
    "    Youngs_Modulus=lambda t: 202.7 - 0.08167 * t,  # GPa\n",
    "    Poissons_Ratio=lambda t: 0.277 + 6e-5 * t,  # Dimensionless\n",
    "    Yield_Stress=lambda t: 555.5 - 0.25 * t if t < 600 else (405.5 - 0.775 * (t - 600) if t < 1000 else 345.5 - 0.25 * t),  # MPa\n",
    "    Ultimate_Tensile_Strength=lambda t: 700 - 0.3125 * t if t < 600 else (512.5 - 0.969 * (t - 600) if t < 1000 else 437.5 - 0.3125 * t),  # MPa\n",
    ")\n",
    "\n",
    "# Material: Fuel\n",
    "# Homogeneous MOX fuel\n",
<<<<<<< Updated upstream
    "Fuel_mat_prop = Material_Proprieties(\n",
    "    Elements=[\"U-235\", \"U-238\", \"O-16\", \"Pu\"],\n",
    "    Qualities=[0.711 * (1 - 0.29), (1 - 0.711) * (1 - 0.29), 2, 0.29],  # To fix since 0.29 is in weight\n",
    "    Density=10.7,  # Approximate value for MOX fuel in g/cm^3\n",
=======
    "# Qualities have to be converted from weight to molar:\n",
    "mol_qual = nf.w2mol([0.711, 0.29], [235.0439299, 238.05078826])  # U-235, U-238\n",
    "Fuel_mat_prop = Material_Proprieties(\n",
    "    Elements=[\"U-235\", \"U-238\", \"O-16\", \"Pu\"],\n",
    "    Qualities=[mol_qual[0] * (1 - mol_qual[1]), (1 - mol_qual[0]) * (1 - mol_qual[1]), 2, mol_qual[1]],  # To fix since 0.29 is in weight\n",
    "    Density=11.31*94.5/100,  # g/cm^3\n",
>>>>>>> Stashed changes
    "    Molar_Mass=[235.0439299, 238.05078826, 15.99491461956, 244.064204],  # g/mol\n",
    "    Micro_Fission=[1.047756375, 0.55801001, 0, 1.689844625],  # barns\n",
    "    Thermal_Conductivity=lambda k_inf, beta: 1.755 + (k_inf - 1.755) * math.exp(-beta),  # W/m K\n",
    "    Thermal_Expansion_Coeff=1.2e-5,  # 1/°C\n",
    "    Specific_Heat=270,  # Approximate value in J/kg K for MOX fuel\n",
    "    Melting_Temperature=lambda pu, x, beta: 2964.92 + ((3147 - 364.85 * pu - 1014.15 * x) - 2964.92) * math.exp(-beta),  # K\n",
    "    Youngs_Modulus=lambda t, p: (22.43 * 10**4 - 31.19 * t) * (1 - 2.6 * p),  # MPa\n",
    "    Poissons_Ratio=0.32,  # Dimensionless\n",
    ")\n",
    "\n",
    "# Material: Coolant (Sodium)\n",
    "Coolant_mat_prop = Material_Proprieties(\n",
    "    Elements=[\"Na\"],\n",
    "    Qualities=[1],\n",
    "    Density=lambda t: 954.1579 + ((t-273) * 9/5 +32) *( ((t-273) * 9/5 +32) * ((((t-273) * 9/5 +32) * 0.9667e-9 - 0.46e-5)) - 0.1273534),  # kg/m^3 (t * 9/5 +32) is the convertion from C to K to F\n",
    "    Viscosity=lambda t: math.exp(813.9 / t -2.530 ),  # mPa s\n",
    "    Thermal_Conductivity=lambda t: 110 - 0.0648 * t + 1.16e-5 * t**2,  # W/m K\n",
    "    Specific_Heat=lambda t: 1608 - 0.7481 * t + 3.929e-4 * t**2,  # J/kg K\n",
    "    Melting_Temperature=98,  # °C\n",
    "    Boiling_Temperature=882,  # °C\n",
    "    Nusselt_Number=lambda pe: 7 + 0.025 * pe**0.8\n",
    ")\n",
    "\n",
    "# Material: Helium (Filling Gas)\n",
    "Helium_mat_prop = Material_Proprieties(\n",
    "    Elements=[\"He\"],\n",
    "    Qualities=[1],\n",
    "    Density=0.1786,  # kg/m^3 at STP\n",
    "    Thermal_Conductivity=lambda t: 15.8e-4 * t**0.79,  # W/m K\n",
    "    Specific_Heat=5193,  # J/kg K at constant pressure\n",
    "    Thermal_Expansion_Coeff=3.66e-3  # Approximate value for helium in 1/°C\n",
    ")\n"
   ]
  },
  {
   "cell_type": "markdown",
   "metadata": {},
   "source": [
    "Computed secondary data"
   ]
  },
  {
   "cell_type": "code",
   "execution_count": 3,
   "metadata": {},
   "outputs": [
    {
     "name": "stdout",
     "output_type": "stream",
     "text": [
      "\u001b[93mThe sum of the qualites values is not 1, default behaviour is ignoring.\u001b[0m\n"
     ]
    },
    {
     "data": {
      "text/latex": [
       "$\\displaystyle E_{fission} = 203.93 \\, \\text{MeV}$"
      ],
      "text/plain": [
       "<IPython.core.display.Math object>"
      ]
     },
     "metadata": {},
     "output_type": "display_data"
    }
   ],
   "source": [
    "# Energy per Fission\n",
    "E_fission = nf.mixture([200, 205, 0, 210], Fuel_mat_prop.Qualities)  # MeV\n",
    "display(Math(r'E_{fission} = %.2f \\, \\text{MeV}' % E_fission))"
   ]
  },
  {
   "cell_type": "markdown",
   "metadata": {},
   "source": [
    "Other data is saved as common variables"
   ]
  },
  {
   "cell_type": "code",
   "execution_count": 4,
   "metadata": {},
   "outputs": [],
   "source": [
    "# Data for Fuel Pin Specifications\n",
    "fuel_column_height = 850  # mm\n",
    "fuel_pellet_outer_diameter = 5.42  # mm\n",
    "fuel_pellet_height = 7  # mm\n",
    "fuel_theoretical_density = 11.31  # g/cm^3\n",
    "fuel_density_percent_td = 94.5  # %\n",
    "fuel_grain_diameter = 10  # μm\n",
    "oxygen_to_metal_ratio = 1.957\n",
    "\n",
    "cladding_outer_diameter = 6.55  # mm\n",
    "initial_pressure_filling_gas = 0.1  # MPa\n",
    "initial_temperature_filling_gas = 20  # °C\n",
    "\n",
    "# Data for Neutronic Specifications\n",
    "neutron_flux_peak = 6.1e15  # Neutron Flux (> 100 keV) (10^15 n cm^-2 s^-1) at Peak Power Node\n",
    "\n",
    "# Data for Thermo-Hydraulic Specifications\n",
    "pin_pitch = 8.275  # mm\n",
    "coolant_inlet_temp = 395  # °C\n",
    "coolant_inlet_pressure = 0.1  # MPa\n",
    "coolant_mass_flow_rate = 0.049  # kg/s\n",
    "\n",
    "# Data for Axial Nodalization of the Fuel Pin\n",
    "node_numbers = [1, 2, 3, 4, 5, 6, 7, 8, 9, 10]\n",
    "heights_of_slice_centre = [42.5, 127.5, 212.5, 297.5, 382.5, 467.5, 552.5, 637.5, 722.5, 807.5]  # mm\n",
    "peak_factors = [0.572, 0.737, 0.868, 0.958, 1, 0.983, 0.912, 0.802, 0.658, 0.498]"
   ]
  },
  {
   "cell_type": "markdown",
   "metadata": {},
   "source": [
    "Verification parameters that will be needed for dimensioning"
   ]
  },
  {
   "cell_type": "code",
   "execution_count": 5,
   "metadata": {},
   "outputs": [],
   "source": [
    "# Data for Indicative Design Limits\n",
    "max_fuel_temp = 2600  # °C\n",
    "max_cladding_temp = 650  # °C\n",
    "max_plenum_pressure = 5  # MPa\n",
    "max_cladding_plastic_strain = 0.5  # %\n",
    "max_cladding_swelling = 3  # %\n",
    "max_coolant_velocity = 8  # m/s"
   ]
  },
  {
   "cell_type": "markdown",
   "metadata": {},
   "source": [
    "## Thermal - Hydraulics Analysis"
   ]
  },
  {
   "cell_type": "code",
   "execution_count": 6,
   "metadata": {},
   "outputs": [
    {
     "data": {
      "text/latex": [
       "$\\displaystyle T_{\\text{Preliminary}} = 668 \\, \\text{K}$"
      ],
      "text/plain": [
       "<IPython.core.display.Math object>"
      ]
     },
     "metadata": {},
     "output_type": "display_data"
    }
   ],
   "source": [
    "Temperaure_Preliminary = coolant_inlet_temp + 273  # K\n",
    "display(Math(r'T_{\\text{Preliminary}} = %s \\, \\text{K}' % Temperaure_Preliminary))"
   ]
  },
  {
   "cell_type": "code",
   "execution_count": 7,
   "metadata": {},
   "outputs": [
    {
     "data": {
      "text/latex": [
       "$\\displaystyle \\rho_{coolant} =857.00\\text{ kg/m}^3$"
      ],
      "text/plain": [
       "<IPython.core.display.Math object>"
      ]
     },
     "metadata": {},
     "output_type": "display_data"
    },
    {
     "data": {
      "text/latex": [
       "$\\displaystyle v_{coolant} =3.78\\text{ m/s}$"
      ],
      "text/plain": [
       "<IPython.core.display.Math object>"
      ]
     },
     "metadata": {},
     "output_type": "display_data"
    },
    {
     "data": {
      "text/latex": [
       "$\\displaystyle A_{passage} =12.80\\text{ mm}^2$"
      ],
      "text/plain": [
       "<IPython.core.display.Math object>"
      ]
     },
     "metadata": {},
     "output_type": "display_data"
<<<<<<< Updated upstream
=======
    },
    {
     "data": {
      "text/latex": [
       "$\\displaystyle D_{hydr} =0.004977508609028048\\text{ m}$"
      ],
      "text/plain": [
       "<IPython.core.display.Math object>"
      ]
     },
     "metadata": {},
     "output_type": "display_data"
>>>>>>> Stashed changes
    }
   ],
   "source": [
    "# Velocity and Passage Area Calculation\n",
    "# To be modified with a proper evaluation\n",
    "density = Coolant_mat_prop.Density(Temperaure_Preliminary)\n",
    "display(Math(r'\\rho_{coolant} =' + f'{density:.2f}' + r'\\text{ kg/m}^3' ))\n",
    "velocity, passage_area= f.hydraulic_flow(coolant_mass_flow_rate, pin_pitch*1e-3, cladding_outer_diameter*1e-3, Coolant_mat_prop, coolant_inlet_pressure)\n",
    "display(Math(r'v_{coolant} =' + f'{velocity:.2f}' + r'\\text{ m/s}' ))\n",
<<<<<<< Updated upstream
    "display(Math(r'A_{passage} =' + f'{passage_area*1e6:.2f}' + r'\\text{ mm}^2' ))\n"
=======
    "display(Math(r'A_{passage} =' + f'{passage_area*1e6:.2f}' + r'\\text{ mm}^2' ))\n",
    "display(Math(r'D_{hydr} =' + f'{d_h:}' + r'\\text{ m}'))\n",
    "\n"
>>>>>>> Stashed changes
   ]
  },
  {
   "cell_type": "code",
<<<<<<< Updated upstream
   "execution_count": 8,
   "metadata": {},
   "outputs": [
    {
     "name": "stdout",
     "output_type": "stream",
     "text": [
      "\u001b[93mThe sum of the qualites values is not 1, default behaviour is ignoring.\u001b[0m\n"
     ]
    },
    {
     "data": {
      "text/latex": [
       "$\\displaystyle P_{peak} =477.43\\text{ kW}$"
      ],
      "text/plain": [
       "<IPython.core.display.Math object>"
      ]
     },
     "metadata": {},
     "output_type": "display_data"
    },
    {
     "data": {
      "text/latex": [
       "$\\displaystyle \\Sigma_{fission} =0.03\\frac{1}{cm}$"
      ],
      "text/plain": [
       "<IPython.core.display.Math object>"
      ]
     },
     "metadata": {},
     "output_type": "display_data"
    }
   ],
   "source": [
    "# Peak Power Node Calculation\n",
    "peak, fission_crosssec = f.peak_power(neutron_flux_peak, Fuel_mat_prop, E_fission*1.60218e-13, fuel_pellet_outer_diameter*0.1, fuel_column_height*0.1)\n",
    "# Display the peak power node\n",
    "display(Math(r'P_{peak} =' + f'{peak/1000:.2f}' + r'\\text{ kW}' ))\n",
    "display(Math(r'\\Sigma_{fission} =' + f'{fission_crosssec:.2f}' + r'\\frac{1}{cm}' ))"
   ]
  },
  {
   "cell_type": "code",
=======
>>>>>>> Stashed changes
   "execution_count": 9,
   "metadata": {},
   "outputs": [
    {
     "data": {
<<<<<<< Updated upstream
      "image/png": "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",
      "text/plain": [
       "<Figure size 640x480 with 1 Axes>"
=======
      "text/latex": [
       "$\\displaystyle \\alpha_{cladding - coolant} =139.38\\text{ kW/m}^2\\text{K}$"
      ],
      "text/plain": [
       "<IPython.core.display.Math object>"
>>>>>>> Stashed changes
      ]
     },
     "metadata": {},
     "output_type": "display_data"
<<<<<<< Updated upstream
    }
   ],
   "source": [
    "# Plotting the Axial Power Profile\n",
    "power_profile = f.power_profile(peak, heights_of_slice_centre, peak_factors, 850)\n",
    "z_plot = np.linspace(0, 850, 1000)\n",
    "power_plot = power_profile(z_plot)\n",
    "plt.plot(power_plot, z_plot)\n",
    "plt.grid()\n",
    "plt.xlabel(\"Power Profile (W/m)\")\n",
    "plt.ylabel(\"Height (mm)\")\n",
    "# make the y-axis line dot-dash line\n",
    "plt.gca().spines['left'].set_linestyle('-.')\n",
    "plt.show()"
   ]
  },
  {
   "cell_type": "code",
   "execution_count": 10,
   "metadata": {},
   "outputs": [
    {
     "name": "stdout",
     "output_type": "stream",
     "text": [
      "204.90856778170868\n",
      "8.766802897918128\n"
     ]
=======
>>>>>>> Stashed changes
    },
    {
     "data": {
      "text/latex": [
<<<<<<< Updated upstream
       "$\\displaystyle \\alpha_{cladding - coolant} =148.55\\text{ kW/m}^2\\text{K}$"
=======
       "$\\displaystyle Re =70714.71828393388$"
      ],
      "text/plain": [
       "<IPython.core.display.Math object>"
      ]
     },
     "metadata": {},
     "output_type": "display_data"
    },
    {
     "data": {
      "text/latex": [
       "$\\displaystyle Pe =340.137221596937$"
      ],
      "text/plain": [
       "<IPython.core.display.Math object>"
      ]
     },
     "metadata": {},
     "output_type": "display_data"
    },
    {
     "data": {
      "text/latex": [
       "$\\displaystyle Pr =0.004809991892086982$"
      ],
      "text/plain": [
       "<IPython.core.display.Math object>"
      ]
     },
     "metadata": {},
     "output_type": "display_data"
    },
    {
     "data": {
      "text/latex": [
       "$\\displaystyle D_{h} =0.004977508609028048$"
      ],
      "text/plain": [
       "<IPython.core.display.Math object>"
      ]
     },
     "metadata": {},
     "output_type": "display_data"
    },
    {
     "data": {
      "text/latex": [
       "$\\displaystyle Nu =9.65010655648107$"
>>>>>>> Stashed changes
      ],
      "text/plain": [
       "<IPython.core.display.Math object>"
      ]
     },
     "metadata": {},
     "output_type": "display_data"
    }
   ],
   "source": [
    "# Computing the Heat Transfer Coefficient between the Coolant and the cladding\n",
<<<<<<< Updated upstream
    "htc = f.heat_trans_coefficient(fuel_pellet_outer_diameter*1e-3, coolant_mass_flow_rate, pin_pitch*1e-3, Coolant_mat_prop, Temperaure_Preliminary)\n",
    "# Display the heat transfer coefficient\n",
    "display(Math(r'\\alpha_{cladding - coolant} =' + f'{htc*1e-3:.2f}' + r'\\text{ kW/m}^2\\text{K}' ))"
=======
    "htc, reynolds, prandtl, peclet, nusselt, d_h = f.heat_trans_coefficient(cladding_outer_diameter*1e-3, coolant_mass_flow_rate, pin_pitch*1e-3, Coolant_mat_prop, Temperaure_Preliminary)\n",
    "# Display the heat transfer coefficient\n",
    "display(Math(r'\\alpha_{cladding - coolant} =' + f'{htc*1e-3:.2f}' + r'\\text{ kW/m}^2\\text{K}'))\n",
    "display(Math(r'Re =' + f'{reynolds}'))\n",
    "display(Math(r'Pe =' + f'{peclet}' ))\n",
    "display(Math(r'Pr =' + f'{prandtl}' ))\n",
    "display(Math(r'D_{h} =' + f'{d_h}' ))\n",
    "display(Math(r'Nu =' + f'{nusselt}' ))"
>>>>>>> Stashed changes
   ]
  },
  {
   "cell_type": "markdown",
   "metadata": {},
   "source": [
    "##### Linee guida da chatGPT:  \n",
    "\n",
    "Verification\n",
    "Margin to Melting of the Fuel\n",
    "Code to verify that the fuel temperature remains below the limit.\n",
    "\n",
    "Temperature of the Cladding\n",
    "Code for cladding temperature calculations.\n",
    "\n",
    "Yielding of the Cladding\n",
    "Code to determine the safety against yielding based on stress analysis.\n",
    "\n",
    "Time to Rupture for Thermal Creep of the Cladding\n",
    "Calculation and analysis of thermal creep failure time.\n",
    "\n",
    "Considerations for Double Irradiation Time\n",
    "Identify critical aspects to be considered if the irradiation time is doubled.\n",
    "\n",
    "Results Visualization\n",
    "Create plots where necessary, for example:\n",
    "- Temperature profiles\n",
    "- Creep stress against time"
   ]
  },
  {
   "cell_type": "markdown",
   "metadata": {},
   "source": [
    "Axial coolant temperature profile and jump"
   ]
  },
  {
   "cell_type": "code",
   "execution_count": 12,
   "metadata": {},
   "outputs": [
    {
     "data": {
      "image/png": "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",
      "text/plain": [
       "<Figure size 640x480 with 1 Axes>"
      ]
     },
     "metadata": {},
     "output_type": "display_data"
    },
    {
     "data": {
      "text/latex": [
       "$\\displaystyle T_{\\text{inlet}} =668.00\\text{ K}$"
      ],
      "text/plain": [
       "<IPython.core.display.Math object>"
      ]
     },
     "metadata": {},
     "output_type": "display_data"
    },
    {
     "data": {
      "text/latex": [
       "$\\displaystyle T_{\\text{outlet}} =920.14\\text{ K}$"
      ],
      "text/plain": [
       "<IPython.core.display.Math object>"
      ]
     },
     "metadata": {},
     "output_type": "display_data"
    }
   ],
   "source": [
    "z_vec, T_profile = f.axial_T_profile(Temperaure_Preliminary, Coolant_mat_prop, coolant_mass_flow_rate)\n",
    "\n",
    "# plot this temperature profile\n",
    "plt.plot(T_profile, z_vec, marker='o')\n",
    "plt.grid()\n",
    "plt.xlabel(\"Temperature (K)\")\n",
    "plt.ylabel(\"Height (m)\")\n",
    "plt.show()\n",
    "\n",
    "display(Math(r'T_{\\text{inlet}} =' + f'{np.min(T_profile):.2f}' + r'\\text{ K}' ))\n",
    "display(Math(r'T_{\\text{outlet}} =' + f'{T_profile[-1]:.2f}' + r'\\text{ K}' ))"
   ]
  }
 ],
 "metadata": {
  "kernelspec": {
   "display_name": "base",
   "language": "python",
   "name": "python3"
  },
  "language_info": {
   "codemirror_mode": {
    "name": "ipython",
    "version": 3
   },
   "file_extension": ".py",
   "mimetype": "text/x-python",
   "name": "python",
   "nbconvert_exporter": "python",
   "pygments_lexer": "ipython3",
   "version": "3.11.5"
  }
 },
 "nbformat": 4,
 "nbformat_minor": 2
}
