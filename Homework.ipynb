{
 "cells": [
  {
   "cell_type": "markdown",
   "metadata": {},
   "source": [
    "# Preliminary Analysis\n",
    "In this notebook, we will validate the behavior of all functions to ensure they work as expected. We will also verify what can be simplified or neglected during the dimensioning process (handled in a separate notebook)."
   ]
  },
  {
   "cell_type": "code",
   "execution_count": 76,
   "metadata": {},
   "outputs": [],
   "source": [
    "# 3rd Party Libraries\n",
    "import numpy as np\n",
    "import sympy as sp\n",
    "import matplotlib.pyplot as plt\n",
    "import plotly.graph_objects as go\n",
    "import math\n",
    "from IPython.display import display, Math\n",
    "\n",
    "# Internal Libraries\n",
    "import functions as f\n",
    "import nuclei_func as nf\n",
    "from functions import Material_Proprieties, ThermoHydraulicSpecs, GeometryData, DimensioningData, Temperature_Map"
   ]
  },
  {
   "cell_type": "markdown",
   "metadata": {},
   "source": [
    "## Input Data"
   ]
  },
  {
   "cell_type": "markdown",
   "metadata": {},
   "source": [
    "All material proprietes (Fuel, Helium, Cladding and Coolant) are saved in a custom defined class to avoid repeatedly passing many parameters to functions, reducing complexity and improving code readability and maintainability."
   ]
  },
  {
   "cell_type": "code",
   "execution_count": 77,
   "metadata": {},
   "outputs": [],
   "source": [
    "# Material: Cladding\n",
    "# 15-15, Ti stabilized, cold worked stainless steel\n",
    "Cladding_Proprieties = Material_Proprieties(\n",
    "    Elements=[\"Cr\", \"Ni\", \"Mo\", \"Mn\", \"Si\", \"Ti\", \"C\", \"B [ppm]\"],\n",
    "    Qualities=[15, 15, 1.5, 1.5, 0.9, 0.4, 0.09, 60],\n",
    "    Density=lambda eth: 7900 * (1 + eth)**-3,  # kg/m^3\n",
    "    Thermal_Conductivity=lambda t: 13.95 + 0.01163 * t,  # W/m K\n",
    "    Emissivity = 0.32, # -\n",
    "    Thermal_Expansion_Coeff=lambda t: -3.101e-4 + 1.545e-5 * t + 2.75e-9 * t**2,  # 1/°C\n",
    "    Specific_Heat=500,  # Approximate value in J/kg K for steel\n",
    "    Melting_Temperature=1673,  # K\n",
    "    \n",
    "    Youngs_Modulus=lambda t: 202.7 - 0.08167 * t,  # GPa\n",
    "    Poissons_Ratio=lambda t: 0.277 + 6e-5 * t,  # Dimensionless\n",
    "    Yield_Stress=lambda t: 555.5 - 0.25 * t if t < 600 else (405.5 - 0.775 * (t - 600) if t < 1000 else 345.5 - 0.25 * t),  # MPa\n",
    "    Ultimate_Tensile_Strength=lambda t: 700 - 0.3125 * t if t < 600 else (512.5 - 0.969 * (t - 600) if t < 1000 else 437.5 - 0.3125 * t),  # MPa\n",
    ")\n",
    "\n",
    "# Material: Fuel\n",
    "# Homogeneous MOX fuel\n",
    "\n",
    "# Qualities have to be converted from weight to molar (won't change in hot condition):\n",
    "mol_qual = nf.w2mol([0.711, 0.29], [235 + 2*16, 239 + 2*16])  # UO2, PuO2\n",
    "\n",
    "Fuel_Proprieties = Material_Proprieties(\n",
    "    Elements=[\"U-235\", \"U-238\", \"O-16\", \"Pu\"],\n",
    "    Qualities=[mol_qual[0] * (1 - mol_qual[1]), (1 - mol_qual[0]) * (1 - mol_qual[1]), 2, mol_qual[1]], # Molar fractions\n",
    "    Theoretical_Density=11.31, # g/cm^3\n",
    "    Percent_of_Theoretical_Density = 94.5, # %\n",
    "    Molar_Mass=[235.0439299, 238.05078826, 15.99491461956, 244.064204],  # g/mol\n",
    "    Thermal_Conductivity=lambda k_inf, beta: 1.755 + (k_inf - 1.755) * math.exp(-beta),  # W/m K\n",
    "    Emissivity = 0.79, # -\n",
    "    Thermal_Expansion_Coeff=1.2e-5,  # 1/°C\n",
    "    Specific_Heat=270,  # Approximate value in J/kg K for MOX fuel\n",
    "    Melting_Temperature=lambda pu, x, beta: 2964.92 + ((3147 - 364.85 * pu - 1014.15 * x) - 2964.92) * math.exp(-beta/41.01),  # K\n",
    "    Oxigen_to_metal_ratio = 1.957, # -\n",
    "    Grain_diameter = 10 * 1e-6,  # m\n",
    "    Youngs_Modulus=lambda t, p: (22.43 * 10**4 - 31.19 * t) * (1 - 2.6 * p),  # MPa\n",
    "    Poissons_Ratio=0.32,  # Dimensionless\n",
    ")\n",
    "\n",
    "# Material: Coolant (Sodium)\n",
    "Coolant_Proprieties = Material_Proprieties(\n",
    "    Elements=[\"Na\"],\n",
    "    Qualities=[1],\n",
    "    Density=lambda t: 954.1579 + ((t-273) * 9/5 +32) *( ((t-273) * 9/5 +32) * ((((t-273) * 9/5 +32) * 0.9667e-9 - 0.46e-5)) - 0.1273534),  # kg/m^3 (t * 9/5 +32) is the convertion from C to K to F\n",
    "    Viscosity=lambda t: (math.exp(813.9 / t -2.530 ))/1000,  # Pa s\n",
    "    Thermal_Conductivity=lambda t: 110 - 0.0648 * t + 1.16e-5 * t**2,  # W/m K\n",
    "    Specific_Heat=lambda t: 1608 - 0.7481 * t + 3.929e-4 * t**2,  # J/kg K\n",
    "    \n",
    "    Melting_Temperature=98,  # °C\n",
    "    Boiling_Temperature=882,  # °C\n",
    "    Nusselt_Number=lambda pe: 7 + 0.025 * pe**0.8\n",
    ")\n",
    "\n",
    "# Material: Helium (Filling Gas)\n",
    "Helium_Proprieties = Material_Proprieties(\n",
    "    Elements=[\"He\"],\n",
    "    Qualities=[1],\n",
    "    Density=0.1786,  # kg/m^3 at STP\n",
    "    Thermal_Conductivity=lambda t: 15.8e-4 * t**0.79,  # W/m K\n",
    "    Specific_Heat=5193,  # J/kg K at constant pressure\n",
    "    Thermal_Expansion_Coeff=3.66e-3  # Approximate value for helium in 1/°C\n",
    ")\n"
   ]
  },
  {
   "cell_type": "markdown",
   "metadata": {},
   "source": [
    "Other data is saved as common variables"
   ]
  },
  {
   "cell_type": "code",
   "execution_count": 78,
   "metadata": {},
   "outputs": [],
   "source": [
    "Geometrical_Data = GeometryData(\n",
    "    fuel_outer_diameter=5.42 * 1e-3,  # m - GIVEN\n",
    "    fuel_inner_diameter=0.00 * 1e-3,  # m\n",
    "    cladding_outer_diameter=6.55 * 1e-3,  # m - GIVEN\n",
    "    thickness_cladding=0.52 * 1e-3, # m\n",
    "    pin_pitch=8.275 * 1e-3,  # m\n",
    "    h_values = np.linspace(0, 0.85, 10), # m\n",
    "    fuel_pellet_height = 7e-3, # m\n",
    "    fuel_roughness = 2e-6, # m\n",
    "    cladding_roughness = 1e-6 # m\n",
    ")\n",
    "\n",
    "# Example of initializing Thermo-Hydraulic specifications\n",
    "heights_of_slice_centre = [42.5, 127.5, 212.5, 297.5, 382.5, 467.5, 552.5, 637.5, 722.5, 807.5] # mm\n",
    "ThermoHydraulics = ThermoHydraulicSpecs(\n",
    "    coolant_inlet_temp=395 + 273,  # K\n",
    "    coolant_inlet_pressure=1e5,  # Pa\n",
    "    coolant_mass_flow_rate=0.049,  # kg/s\n",
    "    q_linear_avg = 38.7e3,  #W/m,\n",
    "    uptime = 360 * 24 * 3600,  # s\n",
    "    h_peak_factor = [h * 1e-3 for h in heights_of_slice_centre],  # m\n",
    "    peak_factors = [0.572, 0.737, 0.868, 0.958, 1, 0.983, 0.912, 0.802, 0.658, 0.498],\n",
    "    neutron_flux_peak = 6.1e15  # Neutron Flux (> 100 keV) (10^15 n cm^-2 s^-1) at Peak Power Node    \n",
    ")\n",
    "\n",
    "vars = DimensioningData(\n",
    "    filling_gas_pressure = 1e5,  # Pa\n",
    "    filling_gas_temperature = 20,  # °C\n",
    "    temperature_map = ''\n",
    ")\n",
    "\n",
    "# Data for Axial Nodalization of the Fuel Pin\n",
    "\n"
   ]
  },
  {
   "cell_type": "markdown",
   "metadata": {},
   "source": [
    "Verification parameters that will be needed for dimensioning"
   ]
  },
  {
   "cell_type": "code",
   "execution_count": 79,
   "metadata": {},
   "outputs": [],
   "source": [
    "# Data for Indicative Design Limits\n",
    "max_fuel_temp = 2600  # °C\n",
    "max_cladding_temp = 650  # °C\n",
    "max_plenum_pressure = 5  # MPa\n",
    "max_cladding_plastic_strain = 0.5  # %\n",
    "max_cladding_swelling = 3  # %\n",
    "max_coolant_velocity = 8  # m/s"
   ]
  },
  {
   "cell_type": "markdown",
   "metadata": {},
   "source": [
    "## Thermal - Hydraulics Analysis"
   ]
  },
  {
   "cell_type": "code",
   "execution_count": 80,
   "metadata": {},
   "outputs": [
    {
     "data": {
      "text/latex": [
       "$\\displaystyle T_{\\text{Computing}} = 668 \\, \\text{K}$"
      ],
      "text/plain": [
       "<IPython.core.display.Math object>"
      ]
     },
     "metadata": {},
     "output_type": "display_data"
    }
   ],
   "source": [
    "Computing_Temperature = ThermoHydraulics.coolant_inlet_temp  # K\n",
    "display(Math(r'T_{\\text{Computing}} = %s \\, \\text{K}' % Computing_Temperature))"
   ]
  },
  {
   "cell_type": "code",
   "execution_count": 81,
   "metadata": {},
   "outputs": [
    {
     "data": {
      "text/latex": [
       "$\\displaystyle \\rho_{coolant} =857.39\\text{ kg/m}^3$"
      ],
      "text/plain": [
       "<IPython.core.display.Math object>"
      ]
     },
     "metadata": {},
     "output_type": "display_data"
    },
    {
     "data": {
      "text/latex": [
       "$\\displaystyle \\mu_{coolant} =0.27\\text{ mPa s}$"
      ],
      "text/plain": [
       "<IPython.core.display.Math object>"
      ]
     },
     "metadata": {},
     "output_type": "display_data"
    },
    {
     "data": {
      "text/latex": [
       "$\\displaystyle k_{coolant} =71.89\\text{ W/m K}$"
      ],
      "text/plain": [
       "<IPython.core.display.Math object>"
      ]
     },
     "metadata": {},
     "output_type": "display_data"
    },
    {
     "data": {
      "text/latex": [
       "$\\displaystyle c_p =1283.59\\text{ J/kg K}$"
      ],
      "text/plain": [
       "<IPython.core.display.Math object>"
      ]
     },
     "metadata": {},
     "output_type": "display_data"
    }
   ],
   "source": [
    "#Preliminary check of coolant properties\n",
    "\n",
    "density = Coolant_Proprieties.Density(Computing_Temperature)\n",
    "viscosity = Coolant_Proprieties.Viscosity(Computing_Temperature)\n",
    "thermal_conductivity = Coolant_Proprieties.Thermal_Conductivity(Computing_Temperature)\n",
    "c_p = Coolant_Proprieties.Specific_Heat(Computing_Temperature)\n",
    "\n",
    "display(Math(r'\\rho_{coolant} =' + f'{density:.2f}' + r'\\text{ kg/m}^3' ))\n",
    "display(Math(r'\\mu_{coolant} =' + f'{viscosity*1000:.2f}' + r'\\text{ mPa s}' ))\n",
    "display(Math(r'k_{coolant} =' + f'{thermal_conductivity:.2f}' + r'\\text{ W/m K}' ))\n",
    "display(Math(r'c_p =' + f'{c_p:.2f}' + r'\\text{ J/kg K}' ))"
   ]
  },
  {
   "cell_type": "code",
   "execution_count": 82,
   "metadata": {},
   "outputs": [
    {
     "data": {
      "text/latex": [
       "$\\displaystyle v_{coolant} =4.46\\text{ m/s}$"
      ],
      "text/plain": [
       "<IPython.core.display.Math object>"
      ]
     },
     "metadata": {},
     "output_type": "display_data"
    },
    {
     "data": {
      "text/latex": [
       "$\\displaystyle A_{passage} =12.80\\text{ mm}^2$"
      ],
      "text/plain": [
       "<IPython.core.display.Math object>"
      ]
     },
     "metadata": {},
     "output_type": "display_data"
    },
    {
     "data": {
      "text/latex": [
       "$\\displaystyle D_{hydr} =4.98\\text{ mm}$"
      ],
      "text/plain": [
       "<IPython.core.display.Math object>"
      ]
     },
     "metadata": {},
     "output_type": "display_data"
    }
   ],
   "source": [
    "# Velocity and Passage Area Calculation\n",
    "# To be modified with a proper evaluation\n",
    "\n",
    "velocity, passage_area, d_h = f.hydraulic_flow(ThermoHydraulics, Geometrical_Data, Coolant_Proprieties, Computing_Temperature)\n",
    "\n",
    "display(Math(r'v_{coolant} =' + f'{velocity:.2f}' + r'\\text{ m/s}' ))\n",
    "display(Math(r'A_{passage} =' + f'{passage_area*1e6:.2f}' + r'\\text{ mm}^2' ))\n",
    "display(Math(r'D_{hydr} =' + f'{d_h*1e3:.2f}' + r'\\text{ mm}'))\n",
    "\n"
   ]
  },
  {
   "cell_type": "code",
   "execution_count": 83,
   "metadata": {},
   "outputs": [
    {
     "data": {
      "text/latex": [
       "$\\displaystyle \\alpha_{cladding - coolant} =139.38\\text{ kW/m}^2\\text{K}$"
      ],
      "text/plain": [
       "<IPython.core.display.Math object>"
      ]
     },
     "metadata": {},
     "output_type": "display_data"
    },
    {
     "data": {
      "text/latex": [
       "$\\displaystyle Re =70714.72$"
      ],
      "text/plain": [
       "<IPython.core.display.Math object>"
      ]
     },
     "metadata": {},
     "output_type": "display_data"
    },
    {
     "data": {
      "text/latex": [
       "$\\displaystyle Pe =340.14$"
      ],
      "text/plain": [
       "<IPython.core.display.Math object>"
      ]
     },
     "metadata": {},
     "output_type": "display_data"
    },
    {
     "data": {
      "text/latex": [
       "$\\displaystyle Pr =0.0048$"
      ],
      "text/plain": [
       "<IPython.core.display.Math object>"
      ]
     },
     "metadata": {},
     "output_type": "display_data"
    },
    {
     "data": {
      "text/latex": [
       "$\\displaystyle D_{h} =4.98\\text{ mm}$"
      ],
      "text/plain": [
       "<IPython.core.display.Math object>"
      ]
     },
     "metadata": {},
     "output_type": "display_data"
    },
    {
     "data": {
      "text/latex": [
       "$\\displaystyle Nu =9.65$"
      ],
      "text/plain": [
       "<IPython.core.display.Math object>"
      ]
     },
     "metadata": {},
     "output_type": "display_data"
    }
   ],
   "source": [
    "# Computing the Heat Transfer Coefficient between the Coolant and the cladding\n",
    "htc_coolant, reynolds, prandtl, peclet, nusselt, d_h = f.heat_trans_coefficient(Geometrical_Data, ThermoHydraulics, Coolant_Proprieties, Computing_Temperature)\n",
    "# Display the heat transfer coefficient\n",
    "display(Math(r'\\alpha_{cladding - coolant} =' + f'{htc_coolant*1e-3:.2f}' + r'\\text{ kW/m}^2\\text{K}'))\n",
    "display(Math(r'Re =' + f'{reynolds:.2f}'))\n",
    "display(Math(r'Pe =' + f'{peclet:.2f}' ))\n",
    "display(Math(r'Pr =' + f'{prandtl:.4f}' ))\n",
    "display(Math(r'D_{h} =' + f'{d_h*1e3:.2f}' + r'\\text{ mm}' ))\n",
    "display(Math(r'Nu =' + f'{nusselt:.2f}' ))"
   ]
  },
  {
   "cell_type": "markdown",
   "metadata": {},
   "source": [
    "### Axial Power Profile"
   ]
  },
  {
   "cell_type": "code",
   "execution_count": 84,
   "metadata": {},
   "outputs": [
    {
     "data": {
      "image/png": "[encoded data removed]",
      "text/plain": [
       "<Figure size 640x480 with 1 Axes>"
      ]
     },
     "metadata": {},
     "output_type": "display_data"
    }
   ],
   "source": [
    "q_values = [f.power_profile(h, ThermoHydraulics) for h in Geometrical_Data.h_values]\n",
    "\n",
    "# Create a figure with one subplot\n",
    "fig, (power1) = plt.subplots(1)\n",
    "\n",
    "# Plot the power profile\n",
    "power1.plot(np.array(q_values)*1e-3, np.array(Geometrical_Data.h_values)*1e3, label='Power Profile', color='blue')\n",
    "\n",
    "# Set title and axis labels\n",
    "power1.set_title(r'P [kW/m]')\n",
    "power1.set_xlabel(r'$q_{linear} [kW/m]$')\n",
    "power1.set_ylabel(r'h [mm]')\n",
    "\n",
    "# Add legend to the plot\n",
    "power1.legend()\n",
    "\n",
    "# Adjusts spacing between the plots\n",
    "plt.tight_layout()\n",
    "\n",
    "# Show the figure\n",
    "plt.show()"
   ]
  },
  {
   "cell_type": "markdown",
   "metadata": {},
   "source": [
    "### Radial temperature profile\n",
    "Thermal resistances  \n",
    "Fuel - Helium (gap) - Cladding - Coolant"
   ]
  },
  {
   "cell_type": "code",
   "execution_count": 85,
   "metadata": {},
   "outputs": [
    {
     "data": {
      "text/latex": [
       "$\\displaystyle R_{coolant} =0.000349\\frac{m \\cdot K}{W}$"
      ],
      "text/plain": [
       "<IPython.core.display.Math object>"
      ]
     },
     "metadata": {},
     "output_type": "display_data"
    }
   ],
   "source": [
    "R_coolant = f.thermal_resistance_coolant(Geometrical_Data, htc_coolant)\n",
    "display(Math(r'R_{coolant} =' + f'{R_coolant:.6f}' + r'\\frac{m \\cdot K}{W}'))"
   ]
  },
  {
   "cell_type": "code",
   "execution_count": 86,
   "metadata": {},
   "outputs": [
    {
     "data": {
      "text/latex": [
       "$\\displaystyle R_{cladding} =0.001267\\frac{m \\cdot K}{W}$"
      ],
      "text/plain": [
       "<IPython.core.display.Math object>"
      ]
     },
     "metadata": {},
     "output_type": "display_data"
    }
   ],
   "source": [
    "R_cladding = f.thermal_resistance_cladding(Geometrical_Data, Cladding_Proprieties, Computing_Temperature)\n",
    "display(Math(r'R_{cladding} =' + f'{R_cladding:.6f}' + r'\\frac{m \\cdot K}{W}'))"
   ]
  },
  {
   "cell_type": "code",
   "execution_count": 87,
   "metadata": {},
   "outputs": [
    {
     "data": {
      "text/latex": [
       "$\\displaystyle R_{gap} =0.010431\\frac{m \\cdot K}{W}$"
      ],
      "text/plain": [
       "<IPython.core.display.Math object>"
      ]
     },
     "metadata": {},
     "output_type": "display_data"
    }
   ],
   "source": [
    "R_gap = f.thermal_resistance_gap(\n",
    "    Geometrical_Data, Helium_Proprieties, Fuel_Proprieties, Cladding_Proprieties)\n",
    "\n",
    "# Just to print a value\n",
    "Temperature_Fuel_Out = Computing_Temperature # K\n",
    "Temperature_Cladding_In = Computing_Temperature\n",
    "Temperature_Gas = (Temperature_Fuel_Out + Temperature_Cladding_In) / 2\n",
    "R_gap_eval = R_gap(Temperature_Gas, Temperature_Fuel_Out)\n",
    "display(Math(r'R_{gap} =' + f'{R_gap_eval:.6f}' + r'\\frac{m \\cdot K}{W}'))"
   ]
  },
  {
   "cell_type": "code",
   "execution_count": 88,
   "metadata": {},
   "outputs": [
    {
     "data": {
      "text/latex": [
       "$\\displaystyle R_{fuel} =0.016541\\frac{m \\cdot K}{W}$"
      ],
      "text/plain": [
       "<IPython.core.display.Math object>"
      ]
     },
     "metadata": {},
     "output_type": "display_data"
    }
   ],
   "source": [
    "Temperature_Fuel = Computing_Temperature\n",
    "Burnup = 0\n",
    "\n",
    "R_fuel = f.thermal_resistance_fuel(Burnup, Fuel_Proprieties) # Outputs a lambda function\n",
    "R_fuel_eval = R_fuel(Temperature_Fuel) # Evaluate the lambda function for display\n",
    "display(Math(r'R_{fuel} =' + f'{R_fuel_eval:.6f}' + r'\\frac{m \\cdot K}{W}'))"
   ]
  },
  {
   "cell_type": "code",
   "execution_count": 89,
   "metadata": {},
   "outputs": [],
   "source": [
    "class th_resistances:\n",
    "    def __init__(self, R_fuel, R_gap, R_cladding, R_coolant):\n",
    "        self.Fuel = R_fuel\n",
    "        self.Gap = R_gap\n",
    "        self.Cladding = R_cladding\n",
    "        self.Coolant = R_coolant\n",
    "\n",
    "Resistances = th_resistances(R_fuel, R_gap, R_cladding, R_coolant)"
   ]
  },
  {
   "cell_type": "markdown",
   "metadata": {},
   "source": [
    "### Temperature Profile\n"
   ]
  },
  {
   "cell_type": "markdown",
   "metadata": {},
   "source": [
    "3D plot computes all the points"
   ]
  },
  {
   "cell_type": "code",
   "execution_count": 90,
   "metadata": {},
   "outputs": [
    {
     "name": "stdout",
     "output_type": "stream",
     "text": [
      "16\n"
     ]
    },
    {
     "data": {
      "application/vnd.plotly.v1+json": {
       "config": {
        "plotlyServerURL": "https://plot.ly"
       },
       "data": [
        {
         "colorscale": [
          [
           0,
           "#440154"
          ],
          [
           0.1111111111111111,
           "#482878"
          ],
          [
           0.2222222222222222,
           "#3e4989"
          ],
          [
           0.3333333333333333,
           "#31688e"
          ],
          [
           0.4444444444444444,
           "#26828e"
          ],
          [
           0.5555555555555556,
           "#1f9e89"
          ],
          [
           0.6666666666666666,
           "#35b779"
          ],
          [
           0.7777777777777778,
           "#6ece58"
          ],
          [
           0.8888888888888888,
           "#b5de2b"
          ],
          [
           1,
           "#fde725"
          ]
         ],
         "type": "surface",
         "x": [
          [
           8.052573477544154,
           3.2750000000000004,
           2.755,
           2.74375,
           2.7325,
           2.72125,
           2.71,
           2.4088888888888893,
           2.1077777777777778,
           1.8066666666666666,
           1.5055555555555555,
           1.2044444444444444,
           0.9033333333333332,
           0.6022222222222223,
           0.30111111111111094,
           0
          ],
          [
           8.052573477544154,
           3.2750000000000004,
           2.755,
           2.74375,
           2.7325,
           2.72125,
           2.71,
           2.4088888888888893,
           2.1077777777777778,
           1.8066666666666666,
           1.5055555555555555,
           1.2044444444444444,
           0.9033333333333332,
           0.6022222222222223,
           0.30111111111111094,
           0
          ],
          [
           8.052573477544154,
           3.2750000000000004,
           2.755,
           2.74375,
           2.7325,
           2.72125,
           2.71,
           2.4088888888888893,
           2.1077777777777778,
           1.8066666666666666,
           1.5055555555555555,
           1.2044444444444444,
           0.9033333333333332,
           0.6022222222222223,
           0.30111111111111094,
           0
          ],
          [
           8.052573477544154,
           3.2750000000000004,
           2.755,
           2.74375,
           2.7325,
           2.72125,
           2.71,
           2.4088888888888893,
           2.1077777777777778,
           1.8066666666666666,
           1.5055555555555555,
           1.2044444444444444,
           0.9033333333333332,
           0.6022222222222223,
           0.30111111111111094,
           0
          ],
          [
           8.052573477544154,
           3.2750000000000004,
           2.755,
           2.74375,
           2.7325,
           2.72125,
           2.71,
           2.4088888888888893,
           2.1077777777777778,
           1.8066666666666666,
           1.5055555555555555,
           1.2044444444444444,
           0.9033333333333332,
           0.6022222222222223,
           0.30111111111111094,
           0
          ],
          [
           8.052573477544154,
           3.2750000000000004,
           2.755,
           2.74375,
           2.7325,
           2.72125,
           2.71,
           2.4088888888888893,
           2.1077777777777778,
           1.8066666666666666,
           1.5055555555555555,
           1.2044444444444444,
           0.9033333333333332,
           0.6022222222222223,
           0.30111111111111094,
           0
          ],
          [
           8.052573477544154,
           3.2750000000000004,
           2.755,
           2.74375,
           2.7325,
           2.72125,
           2.71,
           2.4088888888888893,
           2.1077777777777778,
           1.8066666666666666,
           1.5055555555555555,
           1.2044444444444444,
           0.9033333333333332,
           0.6022222222222223,
           0.30111111111111094,
           0
          ],
          [
           8.052573477544154,
           3.2750000000000004,
           2.755,
           2.74375,
           2.7325,
           2.72125,
           2.71,
           2.4088888888888893,
           2.1077777777777778,
           1.8066666666666666,
           1.5055555555555555,
           1.2044444444444444,
           0.9033333333333332,
           0.6022222222222223,
           0.30111111111111094,
           0
          ],
          [
           8.052573477544154,
           3.2750000000000004,
           2.755,
           2.74375,
           2.7325,
           2.72125,
           2.71,
           2.4088888888888893,
           2.1077777777777778,
           1.8066666666666666,
           1.5055555555555555,
           1.2044444444444444,
           0.9033333333333332,
           0.6022222222222223,
           0.30111111111111094,
           0
          ],
          [
           8.052573477544154,
           3.2750000000000004,
           2.755,
           2.74375,
           2.7325,
           2.72125,
           2.71,
           2.4088888888888893,
           2.1077777777777778,
           1.8066666666666666,
           1.5055555555555555,
           1.2044444444444444,
           0.9033333333333332,
           0.6022222222222223,
           0.30111111111111094,
           0
          ]
         ],
         "y": [
          [
           0,
           0,
           0,
           0,
           0,
           0,
           0,
           0,
           0,
           0,
           0,
           0,
           0,
           0,
           0,
           0
          ],
          [
           94.44444444444444,
           94.44444444444444,
           94.44444444444444,
           94.44444444444444,
           94.44444444444444,
           94.44444444444444,
           94.44444444444444,
           94.44444444444444,
           94.44444444444444,
           94.44444444444444,
           94.44444444444444,
           94.44444444444444,
           94.44444444444444,
           94.44444444444444,
           94.44444444444444,
           94.44444444444444
          ],
          [
           188.88888888888889,
           188.88888888888889,
           188.88888888888889,
           188.88888888888889,
           188.88888888888889,
           188.88888888888889,
           188.88888888888889,
           188.88888888888889,
           188.88888888888889,
           188.88888888888889,
           188.88888888888889,
           188.88888888888889,
           188.88888888888889,
           188.88888888888889,
           188.88888888888889,
           188.88888888888889
          ],
          [
           283.3333333333333,
           283.3333333333333,
           283.3333333333333,
           283.3333333333333,
           283.3333333333333,
           283.3333333333333,
           283.3333333333333,
           283.3333333333333,
           283.3333333333333,
           283.3333333333333,
           283.3333333333333,
           283.3333333333333,
           283.3333333333333,
           283.3333333333333,
           283.3333333333333,
           283.3333333333333
          ],
          [
           377.77777777777777,
           377.77777777777777,
           377.77777777777777,
           377.77777777777777,
           377.77777777777777,
           377.77777777777777,
           377.77777777777777,
           377.77777777777777,
           377.77777777777777,
           377.77777777777777,
           377.77777777777777,
           377.77777777777777,
           377.77777777777777,
           377.77777777777777,
           377.77777777777777,
           377.77777777777777
          ],
          [
           472.22222222222223,
           472.22222222222223,
           472.22222222222223,
           472.22222222222223,
           472.22222222222223,
           472.22222222222223,
           472.22222222222223,
           472.22222222222223,
           472.22222222222223,
           472.22222222222223,
           472.22222222222223,
           472.22222222222223,
           472.22222222222223,
           472.22222222222223,
           472.22222222222223,
           472.22222222222223
          ],
          [
           566.6666666666666,
           566.6666666666666,
           566.6666666666666,
           566.6666666666666,
           566.6666666666666,
           566.6666666666666,
           566.6666666666666,
           566.6666666666666,
           566.6666666666666,
           566.6666666666666,
           566.6666666666666,
           566.6666666666666,
           566.6666666666666,
           566.6666666666666,
           566.6666666666666,
           566.6666666666666
          ],
          [
           661.1111111111111,
           661.1111111111111,
           661.1111111111111,
           661.1111111111111,
           661.1111111111111,
           661.1111111111111,
           661.1111111111111,
           661.1111111111111,
           661.1111111111111,
           661.1111111111111,
           661.1111111111111,
           661.1111111111111,
           661.1111111111111,
           661.1111111111111,
           661.1111111111111,
           661.1111111111111
          ],
          [
           755.5555555555555,
           755.5555555555555,
           755.5555555555555,
           755.5555555555555,
           755.5555555555555,
           755.5555555555555,
           755.5555555555555,
           755.5555555555555,
           755.5555555555555,
           755.5555555555555,
           755.5555555555555,
           755.5555555555555,
           755.5555555555555,
           755.5555555555555,
           755.5555555555555,
           755.5555555555555
          ],
          [
           850,
           850,
           850,
           850,
           850,
           850,
           850,
           850,
           850,
           850,
           850,
           850,
           850,
           850,
           850,
           850
          ]
         ],
         "z": [
          [
           688.8061989510566,
           698.4687190478169,
           733.5801482635349,
           734.6427901297221,
           735.7074516585034,
           736.7741565172495,
           737.8429285952401,
           843.0209690862398,
           961.266612460239,
           1092.2468745744254,
           1234.2398900361172,
           1383.2288575099474,
           1531.315256490263,
           1664.811375732434,
           1765.3258599269207,
           1818.3106918350172
          ],
          [
           715.7079437793111,
           728.1577292885985,
           773.3974553934659,
           774.7125713622512,
           776.0296776605718,
           777.3488051270025,
           778.6699848210225,
           920.9477668004965,
           1090.8271750182162,
           1292.004708168634,
           1525.9636161535054,
           1783.9727431451527,
           2023.4436899546936,
           2165.682052325192,
           2209.120997973041,
           2217.0852852537228
          ],
          [
           747.5227341953457,
           762.185439517003,
           815.4664195156801,
           816.953929430687,
           818.4434043634081,
           819.9348805924323,
           821.4283946075234,
           997.3337025745335,
           1217.0953813665037,
           1490.7219274908648,
           1821.588775163267,
           2159.241163478032,
           2338.9414218144225,
           2380.575877968906,
           2419.095785482852,
           2416.3957899299858
          ],
          [
           782.788843210488,
           798.9718751207964,
           857.777380695373,
           859.3568682621526,
           860.938394991954,
           862.5219996685549,
           864.1077212929429,
           1067.4372421772632,
           1329.157820453068,
           1665.214015928525,
           2068.912069578668,
           2386.3866351011975,
           2447.8503719968367,
           2518.6924958764967,
           2531.5830363454575,
           2542.486683709459
          ],
          [
           819.7519836510126,
           836.6445013026914,
           898.0281188126879,
           899.6200042894471,
           901.2141071772901,
           902.8104656902194,
           904.4091182845899,
           1125.7058748884233,
           1414.40308987642,
           1788.8461444088946,
           2220.000581859013,
           2467.402928425257,
           2506.428715276138,
           2588.988815723145,
           2587.8136438449224,
           2609.8472306361537
          ],
          [
           856.2131436834663,
           872.8184885350668,
           933.1585845473933,
           934.6780822181802,
           936.2000284309892,
           937.7244582169425,
           939.251406880158,
           1164.4787645403412,
           1456.595393701509,
           1831.435253112174,
           2247.8789855100185,
           2466.7648857247173,
           2514.457546869354,
           2589.2389152088763,
           2593.8332069709263,
           2610.7002381492075
          ],
          [
           890.1288270290192,
           905.5348031273504,
           961.5166622964672,
           962.8944256369832,
           964.2748194309996,
           965.6578743336609,
           967.0436212889031,
           1181.6951386117562,
           1453.6063979798869,
           1793.3063937759962,
           2168.462206665302,
           2404.716327380842,
           2464.7443822873074,
           2531.284421648059,
           2545.3243046094176,
           2554.6271700807592
          ],
          [
           920.0038084573408,
           933.5516076139874,
           982.7812688570045,
           983.9726949694876,
           985.1667976786042,
           986.363603224199,
           987.5631381276555,
           1180.0194271741539,
           1414.8763407022152,
           1697.0924545811356,
           2009.4505229718384,
           2260.968811755281,
           2363.8754923204306,
           2416.552646626187,
           2444.472215886004,
           2446.6592216832464
          ],
          [
           944.5362795094745,
           955.6515561242793,
           996.041976445857,
           997.0094787480896,
           997.9795119312408,
           998.9520978721544,
           999.9272587004003,
           1159.6540209263558,
           1344.8939304447429,
           1556.0948572366297,
           1785.7171423139355,
           2003.759057306689,
           2156.864322102869,
           2230.5537746763557,
           2263.050647738225,
           2269.6413666036706
          ],
          [
           963.1090556513407,
           971.5215294418767,
           1002.090570961855,
           1002.8194196303123,
           1003.5504479286636,
           1004.2836734225835,
           1005.0191138869624,
           1126.4756796707418,
           1259.1574432797279,
           1401.274815446076,
           1548.6002191810412,
           1692.6092652599318,
           1819.4037953775482,
           1913.7373044501112,
           1968.488629262631,
           1987.4501942385145
          ]
         ]
        }
       ],
       "layout": {
        "autosize": false,
        "height": 800,
        "scene": {
         "xaxis": {
          "title": {
           "text": "Radius (mm)"
          }
         },
         "yaxis": {
          "title": {
           "text": "Height (mm)"
          }
         },
         "zaxis": {
          "title": {
           "text": "Temperature (K)"
          }
         }
        },
        "template": {
         "data": {
          "bar": [
           {
            "error_x": {
             "color": "#2a3f5f"
            },
            "error_y": {
             "color": "#2a3f5f"
            },
            "marker": {
             "line": {
              "color": "#E5ECF6",
              "width": 0.5
             },
             "pattern": {
              "fillmode": "overlay",
              "size": 10,
              "solidity": 0.2
             }
            },
            "type": "bar"
           }
          ],
          "barpolar": [
           {
            "marker": {
             "line": {
              "color": "#E5ECF6",
              "width": 0.5
             },
             "pattern": {
              "fillmode": "overlay",
              "size": 10,
              "solidity": 0.2
             }
            },
            "type": "barpolar"
           }
          ],
          "carpet": [
           {
            "aaxis": {
             "endlinecolor": "#2a3f5f",
             "gridcolor": "white",
             "linecolor": "white",
             "minorgridcolor": "white",
             "startlinecolor": "#2a3f5f"
            },
            "baxis": {
             "endlinecolor": "#2a3f5f",
             "gridcolor": "white",
             "linecolor": "white",
             "minorgridcolor": "white",
             "startlinecolor": "#2a3f5f"
            },
            "type": "carpet"
           }
          ],
          "choropleth": [
           {
            "colorbar": {
             "outlinewidth": 0,
             "ticks": ""
            },
            "type": "choropleth"
           }
          ],
          "contour": [
           {
            "colorbar": {
             "outlinewidth": 0,
             "ticks": ""
            },
            "colorscale": [
             [
              0,
              "#0d0887"
             ],
             [
              0.1111111111111111,
              "#46039f"
             ],
             [
              0.2222222222222222,
              "#7201a8"
             ],
             [
              0.3333333333333333,
              "#9c179e"
             ],
             [
              0.4444444444444444,
              "#bd3786"
             ],
             [
              0.5555555555555556,
              "#d8576b"
             ],
             [
              0.6666666666666666,
              "#ed7953"
             ],
             [
              0.7777777777777778,
              "#fb9f3a"
             ],
             [
              0.8888888888888888,
              "#fdca26"
             ],
             [
              1,
              "#f0f921"
             ]
            ],
            "type": "contour"
           }
          ],
          "contourcarpet": [
           {
            "colorbar": {
             "outlinewidth": 0,
             "ticks": ""
            },
            "type": "contourcarpet"
           }
          ],
          "heatmap": [
           {
            "colorbar": {
             "outlinewidth": 0,
             "ticks": ""
            },
            "colorscale": [
             [
              0,
              "#0d0887"
             ],
             [
              0.1111111111111111,
              "#46039f"
             ],
             [
              0.2222222222222222,
              "#7201a8"
             ],
             [
              0.3333333333333333,
              "#9c179e"
             ],
             [
              0.4444444444444444,
              "#bd3786"
             ],
             [
              0.5555555555555556,
              "#d8576b"
             ],
             [
              0.6666666666666666,
              "#ed7953"
             ],
             [
              0.7777777777777778,
              "#fb9f3a"
             ],
             [
              0.8888888888888888,
              "#fdca26"
             ],
             [
              1,
              "#f0f921"
             ]
            ],
            "type": "heatmap"
           }
          ],
          "heatmapgl": [
           {
            "colorbar": {
             "outlinewidth": 0,
             "ticks": ""
            },
            "colorscale": [
             [
              0,
              "#0d0887"
             ],
             [
              0.1111111111111111,
              "#46039f"
             ],
             [
              0.2222222222222222,
              "#7201a8"
             ],
             [
              0.3333333333333333,
              "#9c179e"
             ],
             [
              0.4444444444444444,
              "#bd3786"
             ],
             [
              0.5555555555555556,
              "#d8576b"
             ],
             [
              0.6666666666666666,
              "#ed7953"
             ],
             [
              0.7777777777777778,
              "#fb9f3a"
             ],
             [
              0.8888888888888888,
              "#fdca26"
             ],
             [
              1,
              "#f0f921"
             ]
            ],
            "type": "heatmapgl"
           }
          ],
          "histogram": [
           {
            "marker": {
             "pattern": {
              "fillmode": "overlay",
              "size": 10,
              "solidity": 0.2
             }
            },
            "type": "histogram"
           }
          ],
          "histogram2d": [
           {
            "colorbar": {
             "outlinewidth": 0,
             "ticks": ""
            },
            "colorscale": [
             [
              0,
              "#0d0887"
             ],
             [
              0.1111111111111111,
              "#46039f"
             ],
             [
              0.2222222222222222,
              "#7201a8"
             ],
             [
              0.3333333333333333,
              "#9c179e"
             ],
             [
              0.4444444444444444,
              "#bd3786"
             ],
             [
              0.5555555555555556,
              "#d8576b"
             ],
             [
              0.6666666666666666,
              "#ed7953"
             ],
             [
              0.7777777777777778,
              "#fb9f3a"
             ],
             [
              0.8888888888888888,
              "#fdca26"
             ],
             [
              1,
              "#f0f921"
             ]
            ],
            "type": "histogram2d"
           }
          ],
          "histogram2dcontour": [
           {
            "colorbar": {
             "outlinewidth": 0,
             "ticks": ""
            },
            "colorscale": [
             [
              0,
              "#0d0887"
             ],
             [
              0.1111111111111111,
              "#46039f"
             ],
             [
              0.2222222222222222,
              "#7201a8"
             ],
             [
              0.3333333333333333,
              "#9c179e"
             ],
             [
              0.4444444444444444,
              "#bd3786"
             ],
             [
              0.5555555555555556,
              "#d8576b"
             ],
             [
              0.6666666666666666,
              "#ed7953"
             ],
             [
              0.7777777777777778,
              "#fb9f3a"
             ],
             [
              0.8888888888888888,
              "#fdca26"
             ],
             [
              1,
              "#f0f921"
             ]
            ],
            "type": "histogram2dcontour"
           }
          ],
          "mesh3d": [
           {
            "colorbar": {
             "outlinewidth": 0,
             "ticks": ""
            },
            "type": "mesh3d"
           }
          ],
          "parcoords": [
           {
            "line": {
             "colorbar": {
              "outlinewidth": 0,
              "ticks": ""
             }
            },
            "type": "parcoords"
           }
          ],
          "pie": [
           {
            "automargin": true,
            "type": "pie"
           }
          ],
          "scatter": [
           {
            "fillpattern": {
             "fillmode": "overlay",
             "size": 10,
             "solidity": 0.2
            },
            "type": "scatter"
           }
          ],
          "scatter3d": [
           {
            "line": {
             "colorbar": {
              "outlinewidth": 0,
              "ticks": ""
             }
            },
            "marker": {
             "colorbar": {
              "outlinewidth": 0,
              "ticks": ""
             }
            },
            "type": "scatter3d"
           }
          ],
          "scattercarpet": [
           {
            "marker": {
             "colorbar": {
              "outlinewidth": 0,
              "ticks": ""
             }
            },
            "type": "scattercarpet"
           }
          ],
          "scattergeo": [
           {
            "marker": {
             "colorbar": {
              "outlinewidth": 0,
              "ticks": ""
             }
            },
            "type": "scattergeo"
           }
          ],
          "scattergl": [
           {
            "marker": {
             "colorbar": {
              "outlinewidth": 0,
              "ticks": ""
             }
            },
            "type": "scattergl"
           }
          ],
          "scattermapbox": [
           {
            "marker": {
             "colorbar": {
              "outlinewidth": 0,
              "ticks": ""
             }
            },
            "type": "scattermapbox"
           }
          ],
          "scatterpolar": [
           {
            "marker": {
             "colorbar": {
              "outlinewidth": 0,
              "ticks": ""
             }
            },
            "type": "scatterpolar"
           }
          ],
          "scatterpolargl": [
           {
            "marker": {
             "colorbar": {
              "outlinewidth": 0,
              "ticks": ""
             }
            },
            "type": "scatterpolargl"
           }
          ],
          "scatterternary": [
           {
            "marker": {
             "colorbar": {
              "outlinewidth": 0,
              "ticks": ""
             }
            },
            "type": "scatterternary"
           }
          ],
          "surface": [
           {
            "colorbar": {
             "outlinewidth": 0,
             "ticks": ""
            },
            "colorscale": [
             [
              0,
              "#0d0887"
             ],
             [
              0.1111111111111111,
              "#46039f"
             ],
             [
              0.2222222222222222,
              "#7201a8"
             ],
             [
              0.3333333333333333,
              "#9c179e"
             ],
             [
              0.4444444444444444,
              "#bd3786"
             ],
             [
              0.5555555555555556,
              "#d8576b"
             ],
             [
              0.6666666666666666,
              "#ed7953"
             ],
             [
              0.7777777777777778,
              "#fb9f3a"
             ],
             [
              0.8888888888888888,
              "#fdca26"
             ],
             [
              1,
              "#f0f921"
             ]
            ],
            "type": "surface"
           }
          ],
          "table": [
           {
            "cells": {
             "fill": {
              "color": "#EBF0F8"
             },
             "line": {
              "color": "white"
             }
            },
            "header": {
             "fill": {
              "color": "#C8D4E3"
             },
             "line": {
              "color": "white"
             }
            },
            "type": "table"
           }
          ]
         },
         "layout": {
          "annotationdefaults": {
           "arrowcolor": "#2a3f5f",
           "arrowhead": 0,
           "arrowwidth": 1
          },
          "autotypenumbers": "strict",
          "coloraxis": {
           "colorbar": {
            "outlinewidth": 0,
            "ticks": ""
           }
          },
          "colorscale": {
           "diverging": [
            [
             0,
             "#8e0152"
            ],
            [
             0.1,
             "#c51b7d"
            ],
            [
             0.2,
             "#de77ae"
            ],
            [
             0.3,
             "#f1b6da"
            ],
            [
             0.4,
             "#fde0ef"
            ],
            [
             0.5,
             "#f7f7f7"
            ],
            [
             0.6,
             "#e6f5d0"
            ],
            [
             0.7,
             "#b8e186"
            ],
            [
             0.8,
             "#7fbc41"
            ],
            [
             0.9,
             "#4d9221"
            ],
            [
             1,
             "#276419"
            ]
           ],
           "sequential": [
            [
             0,
             "#0d0887"
            ],
            [
             0.1111111111111111,
             "#46039f"
            ],
            [
             0.2222222222222222,
             "#7201a8"
            ],
            [
             0.3333333333333333,
             "#9c179e"
            ],
            [
             0.4444444444444444,
             "#bd3786"
            ],
            [
             0.5555555555555556,
             "#d8576b"
            ],
            [
             0.6666666666666666,
             "#ed7953"
            ],
            [
             0.7777777777777778,
             "#fb9f3a"
            ],
            [
             0.8888888888888888,
             "#fdca26"
            ],
            [
             1,
             "#f0f921"
            ]
           ],
           "sequentialminus": [
            [
             0,
             "#0d0887"
            ],
            [
             0.1111111111111111,
             "#46039f"
            ],
            [
             0.2222222222222222,
             "#7201a8"
            ],
            [
             0.3333333333333333,
             "#9c179e"
            ],
            [
             0.4444444444444444,
             "#bd3786"
            ],
            [
             0.5555555555555556,
             "#d8576b"
            ],
            [
             0.6666666666666666,
             "#ed7953"
            ],
            [
             0.7777777777777778,
             "#fb9f3a"
            ],
            [
             0.8888888888888888,
             "#fdca26"
            ],
            [
             1,
             "#f0f921"
            ]
           ]
          },
          "colorway": [
           "#636efa",
           "#EF553B",
           "#00cc96",
           "#ab63fa",
           "#FFA15A",
           "#19d3f3",
           "#FF6692",
           "#B6E880",
           "#FF97FF",
           "#FECB52"
          ],
          "font": {
           "color": "#2a3f5f"
          },
          "geo": {
           "bgcolor": "white",
           "lakecolor": "white",
           "landcolor": "#E5ECF6",
           "showlakes": true,
           "showland": true,
           "subunitcolor": "white"
          },
          "hoverlabel": {
           "align": "left"
          },
          "hovermode": "closest",
          "mapbox": {
           "style": "light"
          },
          "paper_bgcolor": "white",
          "plot_bgcolor": "#E5ECF6",
          "polar": {
           "angularaxis": {
            "gridcolor": "white",
            "linecolor": "white",
            "ticks": ""
           },
           "bgcolor": "#E5ECF6",
           "radialaxis": {
            "gridcolor": "white",
            "linecolor": "white",
            "ticks": ""
           }
          },
          "scene": {
           "xaxis": {
            "backgroundcolor": "#E5ECF6",
            "gridcolor": "white",
            "gridwidth": 2,
            "linecolor": "white",
            "showbackground": true,
            "ticks": "",
            "zerolinecolor": "white"
           },
           "yaxis": {
            "backgroundcolor": "#E5ECF6",
            "gridcolor": "white",
            "gridwidth": 2,
            "linecolor": "white",
            "showbackground": true,
            "ticks": "",
            "zerolinecolor": "white"
           },
           "zaxis": {
            "backgroundcolor": "#E5ECF6",
            "gridcolor": "white",
            "gridwidth": 2,
            "linecolor": "white",
            "showbackground": true,
            "ticks": "",
            "zerolinecolor": "white"
           }
          },
          "shapedefaults": {
           "line": {
            "color": "#2a3f5f"
           }
          },
          "ternary": {
           "aaxis": {
            "gridcolor": "white",
            "linecolor": "white",
            "ticks": ""
           },
           "baxis": {
            "gridcolor": "white",
            "linecolor": "white",
            "ticks": ""
           },
           "bgcolor": "#E5ECF6",
           "caxis": {
            "gridcolor": "white",
            "linecolor": "white",
            "ticks": ""
           }
          },
          "title": {
           "x": 0.05
          },
          "xaxis": {
           "automargin": true,
           "gridcolor": "white",
           "linecolor": "white",
           "ticks": "",
           "title": {
            "standoff": 15
           },
           "zerolinecolor": "white",
           "zerolinewidth": 2
          },
          "yaxis": {
           "automargin": true,
           "gridcolor": "white",
           "linecolor": "white",
           "ticks": "",
           "title": {
            "standoff": 15
           },
           "zerolinecolor": "white",
           "zerolinewidth": 2
          }
         }
        },
        "title": {
         "text": "3D Temperature Profile vs. Radius and Height (q_values)"
        },
        "width": 800
       }
      }
     },
     "metadata": {},
     "output_type": "display_data"
    }
   ],
   "source": [
    "# Pre-compute the temperature matrix using the plot function\n",
    "r_coolant_infinity = Geometrical_Data.cladding_outer_diameter / 2 + Geometrical_Data.pin_pitch / np.sqrt(3)\n",
    "r_coolant_cladding = Geometrical_Data.cladding_outer_diameter / 2\n",
    "r_cladding_gap = Geometrical_Data.cladding_outer_diameter / 2 - Geometrical_Data.thickness_cladding\n",
    "r_gap_fuel = Geometrical_Data.fuel_outer_diameter / 2\n",
    "r_end = Geometrical_Data.fuel_inner_diameter / 2\n",
    "\n",
    "r_coolant = np.linspace(r_coolant_infinity, r_coolant_cladding, 2)[0:-1]\n",
    "r_cladding = np.linspace(r_coolant_cladding, r_cladding_gap, 2)[0:-1]\n",
    "r_gap = np.linspace(r_cladding_gap, r_gap_fuel,5)[0:-1]\n",
    "r_fuel = np.linspace(r_gap_fuel, r_end, 10)\n",
    "\n",
    "r_plot = np.concatenate((r_coolant, r_cladding, r_gap, r_fuel))\n",
    "# print(r_plot)\n",
    "print(len(r_plot))\n",
    "# r_plot = np.linspace(Geometrical_Data.cladding_outer_diameter/2 + 3e-3, 0, 100)\n",
    "\n",
    "# 3D plot of the temperature profile\n",
    "T_fuel_out = 1500 # K (Initial guess)\n",
    "vars.T_map = f.temperature_profile_3D(r_plot, Resistances, Coolant_Proprieties, ThermoHydraulics, Geometrical_Data, T_fuel_out, Burnup)\n",
    "\n",
    "# Create a 3D surface plot\n",
    "fig = go.Figure(data=[go.Surface(z=vars.T_map.T, x=vars.T_map.r*1e3, y=vars.T_map.h*1e3, colorscale='Viridis')])\n",
    "\n",
    "# Update the layout\n",
    "fig.update_layout(\n",
    "    scene=dict(\n",
    "        xaxis_title='Radius (mm)',\n",
    "        yaxis_title='Height (mm)',\n",
    "        zaxis_title='Temperature (K)'\n",
    "    ),\n",
    "    title=\"3D Temperature Profile vs. Radius and Height (q_values)\",\n",
    "    autosize=False,\n",
    "    width=800,\n",
    "    height=800\n",
    ")\n",
    "\n",
    "# Show the plot\n",
    "fig.show()\n",
    "    "
   ]
  },
  {
   "cell_type": "markdown",
   "metadata": {},
   "source": [
    "We can get the temperature value at any point"
   ]
  },
  {
   "cell_type": "code",
   "execution_count": 91,
   "metadata": {},
   "outputs": [
    {
     "name": "stdout",
     "output_type": "stream",
     "text": [
      "Temperature at height 0.0 mm and radius 8.0 mm: 688.81 K\n"
     ]
    }
   ],
   "source": [
    "# Get temperature at a specific point (height and radius) using pre-computed data\n",
    "height = 0e-3 # mm\n",
    "radius = 8e-3 # mm\n",
    "temperature_at_point = f.get_temperature_at_point(height, radius, vars.T_map)\n",
    "print(f\"Temperature at height {height*1e3} mm and radius {radius*1e3} mm: {temperature_at_point:.2f} K\")"
   ]
  },
  {
   "cell_type": "markdown",
   "metadata": {},
   "source": [
    "We can plot the radial temperature profile"
   ]
  },
  {
   "cell_type": "code",
   "execution_count": 92,
   "metadata": {},
   "outputs": [
    {
     "data": {
      "image/png": "[encoded data removed]",
      "text/plain": [
       "<Figure size 640x480 with 1 Axes>"
      ]
     },
     "metadata": {},
     "output_type": "display_data"
    }
   ],
   "source": [
    "# 2D plot of the temperature profile\n",
    "temp_plot_bottom = [f.get_temperature_at_point(0, r, vars.T_map) for r in r_plot]\n",
    "temp_plot_center = [f.get_temperature_at_point(0.425, r, vars.T_map) for r in r_plot]\n",
    "temp_plot_top = [f.get_temperature_at_point(0.850, r, vars.T_map) for r in r_plot]\n",
    "\n",
    "# Create plot\n",
    "plt.plot(r_plot * 1e3, temp_plot_bottom, label='Bottom', marker='o')\n",
    "plt.plot(r_plot * 1e3, temp_plot_center, label='Center', marker='o')\n",
    "plt.plot(r_plot * 1e3, temp_plot_top, label='Top', marker='o')\n",
    "\n",
    "r_0 = Geometrical_Data.fuel_inner_diameter/2 * 1e3\n",
    "r_1 = Geometrical_Data.fuel_outer_diameter/2 * 1e3\n",
    "r_2 = Geometrical_Data.cladding_outer_diameter/2 * 1e3 - Geometrical_Data.thickness_cladding * 1e3\n",
    "r_3 = Geometrical_Data.cladding_outer_diameter/2 * 1e3 \n",
    "r_4 = r_plot[0]*1e3\n",
    "\n",
    "# Add shading to different regions\n",
    "colors = ['#00008B', '#0000CD', '#4169E1', '#6495ED', '#87CEEB']\n",
    "plt.axvspan(r_3, r_4, color=colors[1], alpha=0.3, label='Coolant Region')\n",
    "plt.axvspan(r_2, r_3, color=colors[2], alpha=0.3, label='Cladding Region')\n",
    "plt.axvspan(r_1, r_2, color=colors[3], alpha=0.3, label='Gap Region')\n",
    "plt.axvspan(r_0, r_1, color=colors[4], alpha=0.3, label='Fuel Region')\n",
    "\n",
    "# Set title and axis labels\n",
    "plt.title('Temperature Profile')\n",
    "plt.xlabel('Radius [mm]')\n",
    "plt.xlim(r_0, r_4)\n",
    "plt.ylabel('Temperature [K]')\n",
    "\n",
    "# Add legend to the plot\n",
    "plt.legend()\n",
    "\n",
    "# Put the legend out of the figure\n",
    "plt.legend(loc='center left', bbox_to_anchor=(1, 0.5))\n",
    "\n",
    "# Show the figure\n",
    "plt.show()"
   ]
  },
  {
   "cell_type": "code",
   "execution_count": 93,
   "metadata": {},
   "outputs": [
    {
     "data": {
      "image/png": "[encoded data removed]",
      "text/plain": [
       "<Figure size 640x480 with 1 Axes>"
      ]
     },
     "metadata": {},
     "output_type": "display_data"
    }
   ],
   "source": [
    "# 2D plot of the temperature profiles along the axial direction\n",
    "r_to_plot = [vars.T_map.r[-1],\n",
    "             Geometrical_Data.cladding_outer_diameter/2,\n",
    "             Geometrical_Data.cladding_outer_diameter / 2 - Geometrical_Data.thickness_cladding,\n",
    "             Geometrical_Data.fuel_outer_diameter/2,\n",
    "             Geometrical_Data.fuel_inner_diameter/2]\n",
    "\n",
    "labels = ['Coolant', \n",
    "          'Cladding-Coolant Interface', \n",
    "          'Gap-Cladding Interface', \n",
    "          'Fuel-Gap Interface', \n",
    "          'Fuel Center']\n",
    "\n",
    "colors = ['#00008B', '#0000CD', '#4169E1', '#6495ED', '#87CEEB']\n",
    "h_vals = Geometrical_Data.h_values\n",
    "\n",
    "to_plot = 5\n",
    "for i in range(to_plot):\n",
    "    temp_axial = [f.get_temperature_at_point(h, r_to_plot[i], vars.T_map) for h in h_vals]\n",
    "    plt.plot(temp_axial, h_vals*1e3, label=labels[i], color=colors[i])\n",
    "\n",
    "# Plot a line at the coolant inlet temperature\n",
    "plt.axvline(x=ThermoHydraulics.coolant_inlet_temp, color='b', linestyle='--', label='Coolant Inlet Temperature')\n",
    "\n",
    "# Plot a line at the coolant boling temperature\n",
    "plt.axvline(x=Coolant_Proprieties.Boiling_Temperature + 273, color='r', linestyle='--', label='Coolant Boiling Temperature')\n",
    "\n",
    "# Plot a line at the cladding melting temperature\n",
    "plt.axvline(x=Cladding_Proprieties.Melting_Temperature, color='r', linestyle='--', label='Cladding Melting Temperature')\n",
    "\n",
    "# Plot a line at the fuel melting temperature\n",
    "stechiometry = 2 - Fuel_Proprieties.Oxigen_to_metal_ratio\n",
    "pu_weight = 0.29\n",
    "plt.axvline(x=Fuel_Proprieties.Melting_Temperature(pu_weight,stechiometry,Burnup), color='r', linestyle='--', label='Fuel Melting Temperature')\n",
    "\n",
    "# Set title and axis labels\n",
    "plt.title('Temperature Profile')\n",
    "plt.ylabel('Height [mm]')\n",
    "plt.ylim(0, 850)\n",
    "plt.xlabel('Temperature [K]')\n",
    "\n",
    "# Put the legend outside the plot\n",
    "plt.legend()\n",
    "plt.legend(loc='center left', bbox_to_anchor=(1, 0.5))\n",
    "\n",
    "# Show the figure\n",
    "plt.show()"
   ]
  },
  {
   "cell_type": "code",
   "execution_count": 94,
   "metadata": {},
   "outputs": [
    {
     "data": {
      "image/png": "[encoded data removed]",
      "text/plain": [
       "<Figure size 640x480 with 1 Axes>"
      ]
     },
     "metadata": {},
     "output_type": "display_data"
    }
   ],
   "source": [
    "# plot the difference between the coolant profile and the cladding profile\n",
    "temp_coolant = [-f.get_temperature_at_point(h, r_to_plot[0], vars.T_map) + f.get_temperature_at_point(h, r_to_plot[1], vars.T_map) for h in h_vals]\n",
    "\n",
    "plt.plot(temp_coolant, h_vals*1e3, label='Coolant', color='blue')\n",
    "plt.show()"
   ]
  },
  {
   "cell_type": "markdown",
   "metadata": {},
   "source": [
    "THERMAL EXPANSION"
   ]
  },
  {
   "cell_type": "code",
   "execution_count": 95,
   "metadata": {},
   "outputs": [
    {
     "data": {
      "image/png": "[encoded data removed]",
      "text/plain": [
       "<Figure size 640x480 with 2 Axes>"
      ]
     },
     "metadata": {},
     "output_type": "display_data"
    }
   ],
   "source": [
    "# Find the outer radius of the fuel in hot geometry\n",
    "void_swell = f.void_swelling(vars.T_map, Geometrical_Data, ThermoHydraulics)\n",
    "# Calculate void swelling and average temperature\n",
    "void_swell = np.array(void_swell)\n",
    "avg_temp = np.mean(vars.T_map.T[:, 0])\n",
    "y_axis = vars.T_map.h[:, 0] * 1e3\n",
    "\n",
    "# Create the main plot for Void Swelling\n",
    "fig, ax1 = plt.subplots()\n",
    "\n",
    "# Plot Void Swelling\n",
    "ax1.plot(void_swell, y_axis, label='Void Swelling', color='blue')\n",
    "ax1.set_xlabel('Void Swelling [%]')\n",
    "ax1.set_ylabel('Height [mm]')\n",
    "ax1.grid(True)\n",
    "ax1.set_xlim(0, 3)\n",
    "\n",
    "# Create a secondary x-axis sharing the same y-axis for Temperature\n",
    "ax2 = ax1.twiny()\n",
    "ax2.plot(vars.T_map.T[:, 0], y_axis, label=f'Temperature (K)', color='red')\n",
    "ax2.set_xlabel('Temperature [K]')\n",
    "ax2.grid(True)\n",
    "# ax2.set_xlim(min(vars.T_map.T[:, 0]), max(vars.T_map.T[:, 0]))\n",
    "\n",
    "# Add the legend and title\n",
    "ax1.legend(loc='upper left')\n",
    "ax2.legend(loc='upper right')\n",
    "plt.title('Void Swelling and Temperature Comparison')\n",
    "plt.ylim(0, 850)\n",
    "plt.axvline(Cladding_Proprieties.Melting_Temperature * 0.4, color='orange', linestyle='--', label='30% Melting Temperature')\n",
    "plt.axvline(Cladding_Proprieties.Melting_Temperature * 0.6, color='orange', linestyle='--', label='60% Melting Temperature')\n",
    "\n",
    "# Show the plot\n",
    "plt.show()\n"
   ]
  },
  {
   "cell_type": "code",
   "execution_count": 96,
   "metadata": {},
   "outputs": [
    {
     "data": {
      "text/plain": [
       "<matplotlib.legend.Legend at 0x1f5bafc4e90>"
      ]
     },
     "execution_count": 96,
     "metadata": {},
     "output_type": "execute_result"
    },
    {
     "data": {
      "image/png": "[encoded data removed]",
      "text/plain": [
       "<Figure size 640x480 with 1 Axes>"
      ]
     },
     "metadata": {},
     "output_type": "display_data"
    }
   ],
   "source": [
    "void_swell = f.void_swelling(vars.T_map, Geometrical_Data, ThermoHydraulics)\n",
    "radius_before = Geometrical_Data.fuel_outer_diameter / 2\n",
    "radius_swelled = [radius_before * np.sqrt(1 + swell) for swell in void_swell]\n",
    "\n",
    "# Plot comparison of the original and swelled fuel radius\n",
    "plt.plot([radius_before*1e3] * 10, y_axis, label='Original Radius', color='blue')\n",
    "plt.plot(np.array(radius_swelled) * 1e3, y_axis, label='Swelled Radius', color='red')\n",
    "plt.axvline(Geometrical_Data.cladding_outer_diameter / 2 * 1e3, color='green', linestyle='--', label='Cladding Outer Diameter')\n",
    "plt.xlabel('Radius [mm]')\n",
    "plt.ylabel('Height [mm]')\n",
    "plt.title('Fuel Radius Comparison')\n",
    "plt.legend()\n"
   ]
  },
  {
   "cell_type": "code",
   "execution_count": 97,
   "metadata": {},
   "outputs": [
    {
     "name": "stdout",
     "output_type": "stream",
     "text": [
      "\u001b[93mThe sum of the qualites values is not 1, default behaviour is ignoring.\u001b[0m\n",
      "\u001b[93mThe sum of the qualites values is not 1, default behaviour is ignoring.\u001b[0m\n"
     ]
    },
    {
     "data": {
      "text/latex": [
       "$\\displaystyle \\text{He Percentage} =19.47\\%$"
      ],
      "text/plain": [
       "<IPython.core.display.Math object>"
      ]
     },
     "metadata": {},
     "output_type": "display_data"
    },
    {
     "data": {
      "text/latex": [
       "$\\displaystyle \\text{Gas Pressure} =3.30\\text{ MPa}$"
      ],
      "text/plain": [
       "<IPython.core.display.Math object>"
      ]
     },
     "metadata": {},
     "output_type": "display_data"
    }
   ],
   "source": [
    "h_plenum = 1  # m\n",
    "He_percentage, Gas_Pressure = f.fission_gas_production(h_plenum, Fuel_Proprieties, ThermoHydraulics, Geometrical_Data, vars.T_map)\n",
    "display(Math(r'\\text{He Percentage} =' + f'{He_percentage:.2f}' + r'\\%'))\n",
    "display(Math(r'\\text{Gas Pressure} =' + f'{Gas_Pressure*1e-6:.2f}' + r'\\text{ MPa}'))"
   ]
  },
  {
   "cell_type": "markdown",
   "metadata": {},
   "source": [
    "RESTRUCTURING VOID :)"
   ]
  },
  {
   "cell_type": "code",
   "execution_count": 98,
   "metadata": {},
   "outputs": [
    {
     "data": {
      "image/png": "[encoded data removed]",
      "text/plain": [
       "<Figure size 640x480 with 1 Axes>"
      ]
     },
     "metadata": {},
     "output_type": "display_data"
    }
   ],
   "source": [
    "r_col = f.get_radius_at_temperature(1800, vars.T_map)\n",
    "r_eq = f.get_radius_at_temperature(1600, vars.T_map)\n",
    "r_void = f.get_R_void(Fuel_Proprieties, r_col, r_eq)\n",
    "\n",
    "\n",
    "# plot the radius profile versus height\n",
    "plt.plot(np.array(r_void)*1e3, np.array(vars.T_map.h[:,0])*1e3, color='navy', label='Void')\n",
    "plt.plot(np.array(r_col)*1e3, np.array(vars.T_map.h[:,0])*1e3, color='purple', label='Columnar')\n",
    "plt.plot(np.array(r_eq)*1e3, np.array(vars.T_map.h[:,0])*1e3, color='pink', label='Equiaxed')\n",
    "\n",
    "plt.axvline(x=Geometrical_Data.fuel_outer_diameter/2 * 1e3, color='brown', linestyle='--', label='Fuel Outer Diameter')\n",
    "\n",
    "plt.title('Pellet Regions')\n",
    "plt.xlabel('Radius [mm]')\n",
    "plt.ylabel('Height [mm]')\n",
    "plt.legend(loc='center left', bbox_to_anchor=(1, 0.5))\n",
    "\n",
    "plt.fill_betweenx(np.array(vars.T_map.h[:,0])*1e3, 0, np.array(r_void)*1e3, color='navy', alpha=0.3)\n",
    "plt.fill_betweenx(np.array(vars.T_map.h[:,0])*1e3, np.array(r_void)*1e3, np.array(r_col)*1e3, color='purple', alpha=0.3)\n",
    "plt.fill_betweenx(np.array(vars.T_map.h[:,0])*1e3, np.array(r_col)*1e3, np.array(r_eq)*1e3, color='pink', alpha=0.3)\n",
    "\n",
    "plt.show()"
   ]
  }
 ],
 "metadata": {
  "kernelspec": {
   "display_name": "base",
   "language": "python",
   "name": "python3"
  },
  "language_info": {
   "codemirror_mode": {
    "name": "ipython",
    "version": 3
   },
   "file_extension": ".py",
   "mimetype": "text/x-python",
   "name": "python",
   "nbconvert_exporter": "python",
   "pygments_lexer": "ipython3",
   "version": "3.11.5"
  }
 },
 "nbformat": 4,
 "nbformat_minor": 2
}
