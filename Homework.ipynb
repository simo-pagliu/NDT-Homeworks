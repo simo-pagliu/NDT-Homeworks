{
 "cells": [
  {
   "cell_type": "markdown",
   "metadata": {},
   "source": [
    "# Homework 2024-25: Preliminary Design and Verification of Fuel Rod"
   ]
  },
  {
   "cell_type": "code",
   "execution_count": 27,
   "metadata": {},
   "outputs": [],
   "source": [
    "\n",
    "# Import Necessary Libraries\n",
    "import numpy as np\n",
    "import sympy as sp\n",
    "import matplotlib.pyplot as plt\n",
    "import functions as f\n",
    "import math\n",
    "from IPython.display import display, Math"
   ]
  },
  {
   "cell_type": "code",
   "execution_count": 28,
   "metadata": {},
   "outputs": [],
   "source": [
    "####################################\n",
    "# MATERIAL PROPERTIES\n",
    "####################################\n",
    "class Material_Proprieties:\n",
    "        def __init__(self, Elem, Qual):\n",
    "            self.Elements = Elem\n",
    "            self.Qualities = Qual\n",
    "\n",
    "# Cladding Composition (wt.%)\n",
    "# cr_content = 15.0\n",
    "# ni_content = 15.0\n",
    "# mo_content = 1.5\n",
    "# mn_content = 1.5\n",
    "# si_content = 0.9\n",
    "# ti_content = 0.4\n",
    "# c_content = 0.09\n",
    "# b_content_ppm = 60\n",
    "Cladding_mat_prop = Material_Proprieties(\n",
    "    Elem = [\"Cr\", \"Ni\", \"Mo\", \"Mn\", \"Si\", \"Ti\", \"C\", \"B [ppm]\"],\n",
    "    Qual = [15, 15, 1.5, 1.5, 0.9, 0.4, 0.09, 60],\n",
    ")\n",
    "\n",
    "# Data for Material Composition\n",
    "# uranium_composition = \"Natural composition\"\n",
    "# plutonium_content = 0.29  # wt.%\n",
    "Fuel_mat_prop = Material_Proprieties(\n",
    "    Elem = [\"U-235\", \"U-238\", \"O-16\", \"Pu\"],\n",
    "    Qual = [0.711 * (1-0.29), (1-0.711) * (1-0.29), 2, 0.29] # To fix since 0.29 is in weight\n",
    ")"
   ]
  },
  {
   "cell_type": "code",
   "execution_count": null,
   "metadata": {},
   "outputs": [],
   "source": [
    "\n",
    "# Data for Fuel Pin Specifications\n",
    "fuel_material = \"Homogeneous MOX\"\n",
    "fuel_column_height = 850  # mm\n",
    "fuel_pellet_outer_diameter = 5.42  # mm\n",
    "fuel_pellet_height = 7  # mm\n",
    "fuel_theoretical_density = 11.31  # g/cm^3\n",
    "fuel_density_percent_td = 94.5  # %\n",
    "fuel_grain_diameter = 10  # μm\n",
    "oxygen_to_metal_ratio = 1.957\n",
    "cladding_material = \"15-15, Ti stabilized, cold worked stainless steel\"\n",
    "cladding_outer_diameter = 6.55  # mm\n",
    "filling_gas = \"He\"\n",
    "initial_pressure_filling_gas = 0.1  # MPa\n",
    "initial_temperature_filling_gas = 20  # °C\n",
    "\n",
    "# Data for Neutronic Specifications\n",
    "neutron_flux_peak = 6.1  # Neutron Flux (> 100 keV) (10^15 n cm^-2 s^-1) at Peak Power Node\n",
    "\n",
    "# Data for Thermo-Hydraulic Specifications\n",
    "pin_pitch = 8.275  # mm\n",
    "coolant_inlet_temp = 395  # °C\n",
    "coolant_inlet_pressure = 0.1  # MPa\n",
    "coolant_mass_flow_rate = 0.049  # kg/s\n",
    "\n",
    "# Filling Gas Composition\n",
    "he_content = 100  # %\n",
    "\n",
    "# Data for Axial Nodalization of the Fuel Pin\n",
    "node_numbers = [1, 2, 3, 4, 5, 6, 7, 8, 9, 10]\n",
    "heights_of_slice_centre = [42.5, 127.5, 212.5, 297.5, 382.5, 467.5, 552.5, 637.5, 722.5, 807.5]  # mm\n",
    "peak_factors = [0.572, 0.737, 0.868, 0.958, 1, 0.983, 0.912, 0.802, 0.658, 0.498]\n",
    "\n",
    "# Data for Material Properties\n",
    "# Fuel Properties\n",
    "fuel_melting_temp = lambda pu, x, beta: 2964.92 + ((3147 - 364.85 * pu - 1014.15 * x) - 2964.92) * math.exp(-beta)\n",
    "thermal_conductivity = lambda k_inf, beta: 1.755 + (k_inf - 1.755) * math.exp(-beta)\n",
    "linear_thermal_expansion_coeff = 1.2e-5  # 1/°C\n",
    "youngs_modulus_fuel = lambda t, p: (22.43 * 10**4 - 31.19 * t) * (1 - 2.6 * p)  # MPa\n",
    "poissons_ratio_fuel = 0.32\n",
    "swelling_strain_fuel = lambda beta: 0.07 * beta  # %\n",
    "\n",
    "# Cladding Properties\n",
    "cladding_melting_temp = 1673  # K\n",
    "linear_thermal_expansion_cladding = lambda t: -3.101e-4 + 1.545e-5 * t + 2.75e-9 * t**2\n",
    "density_cladding = lambda eth: 7900 * (1 + eth)**-3  # kg/m^3\n",
    "thermal_conductivity_cladding = lambda t: 13.95 + 0.01163 * t  # W/m K\n",
    "youngs_modulus_cladding = lambda t: 202.7 - 0.08167 * t  # GPa\n",
    "poissons_ratio_cladding = lambda t: 0.277 + 6e-5 * t\n",
    "yield_stress_cladding = lambda t: 555.5 - 0.25 * t if t < 600 else (405.5 - 0.775 * (t - 600) if t < 1000 else 345.5 - 0.25 * t)  # MPa\n",
    "ultimate_tensile_strength = lambda t: 700 - 0.3125 * t if t < 600 else (512.5 - 0.969 * (t - 600) if t < 1000 else 437.5 - 0.3125 * t)  # MPa\n",
    "rupture_strain = lambda t: 8 + 4.74e-3 * (t - 500) + 6.2e-5 * (t - 500)**2  # %\n",
    "void_swelling = lambda t: 1.5e-4 * math.exp(-2.5 * (t - 450) / 100)  # %\n",
    "\n",
    "# Coolant Properties\n",
    "coolant_melting_temp = 98  # °C\n",
    "coolant_boiling_temp = 882  # °C\n",
    "isobaric_specific_heat = lambda t: 1608 - 0.7481 * t + 3.929e-4 * t**2  # J/kg K\n",
    "density_coolant = lambda t_f: 954.1579 + t_f * (t_f * (0.9667e-9 - 0.46e-5) - 0.1273534)  # kg/m^3\n",
    "dynamic_viscosity_coolant = lambda t: math.exp(-2.530 + -234.48 / t)  # mPa s\n",
    "thermal_conductivity_coolant = lambda t: 110 - 0.0648 * t + 1.16e-5 * t**2  # W/m K\n",
    "nusselt_number = lambda pe: 7 + 0.025 * pe**0.8\n",
    "\n",
    "# Filling Gas Thermal Conductivity\n",
    "thermal_conductivity_he = lambda t: 15.8e-4 * t**0.79  # W/m K\n",
    "\n",
    "# Data for Indicative Design Limits\n",
    "max_fuel_temp = 2600  # °C\n",
    "max_cladding_temp = 650  # °C\n",
    "max_plenum_pressure = 5  # MPa\n",
    "max_cladding_plastic_strain = 0.5  # %\n",
    "max_cladding_swelling = 3  # %\n",
    "max_coolant_velocity = 8  # m/s\n"
   ]
  },
  {
   "cell_type": "markdown",
   "metadata": {},
   "source": [
    "## Thermal - Hydraulics Analysis\n",
    "Done:\n",
    "- Power Profile and Peak Power  \n",
    "- Velocity of the flow \n",
    "- suca"
   ]
  },
  {
   "cell_type": "code",
   "execution_count": 34,
   "metadata": {},
   "outputs": [
    {
     "data": {
      "text/latex": [
       "$\\displaystyle \\rho_{coolant} =903.14\\text{ kg/m}^3$"
      ],
      "text/plain": [
       "<IPython.core.display.Math object>"
      ]
     },
     "metadata": {},
     "output_type": "display_data"
    },
    {
     "data": {
      "text/latex": [
       "$\\displaystyle v_{coolant} =4.24\\text{ m/s}$"
      ],
      "text/plain": [
       "<IPython.core.display.Math object>"
      ]
     },
     "metadata": {},
     "output_type": "display_data"
    },
    {
     "data": {
      "text/latex": [
       "$\\displaystyle A_{passage} =12.80\\text{ mm}^2$"
      ],
      "text/plain": [
       "<IPython.core.display.Math object>"
      ]
     },
     "metadata": {},
     "output_type": "display_data"
    }
   ],
   "source": [
    "# Velocity and Passage Area Calculation\n",
    "# To be modified with a proper evaluation\n",
    "density = density_coolant(395)\n",
    "display(Math(r'\\rho_{coolant} =' + f'{density:.2f}' + r'\\text{ kg/m}^3' ))\n",
    "velocity, passage_area= f.hydraulic_flow(coolant_mass_flow_rate, density, pin_pitch*1e-3, cladding_outer_diameter*1e-3)\n",
    "display(Math(r'v_{coolant} =' + f'{velocity:.2f}' + r'\\text{ m/s}' ))\n",
    "display(Math(r'A_{passage} =' + f'{passage_area*1e6:.2f}' + r'\\text{ mm}^2' ))\n"
   ]
  },
  {
   "cell_type": "code",
   "execution_count": 30,
   "metadata": {},
   "outputs": [
    {
     "data": {
      "image/png": "[encoded data removed]",
      "text/plain": [
       "<Figure size 640x480 with 1 Axes>"
      ]
     },
     "metadata": {},
     "output_type": "display_data"
    }
   ],
   "source": [
    "# Plotting the Axial Power Profile\n",
    "power_profile = f.power_profile(1, heights_of_slice_centre, peak_factors, 850)\n",
    "z_plot = np.linspace(0, 850, 1000)\n",
    "power_plot = power_profile(z_plot)\n",
    "plt.plot(power_plot, z_plot)\n",
    "plt.grid()\n",
    "plt.xlabel(\"Power Profile (W/m)\")\n",
    "plt.ylabel(\"Height (mm)\")\n",
    "# make the y-axis line dot-dash line\n",
    "plt.gca().spines['left'].set_linestyle('-.')\n",
    "plt.show()"
   ]
  },
  {
   "cell_type": "markdown",
   "metadata": {},
   "source": [
    "\n",
    "To Do:\n",
    "- Temperature profile in cold geometry\n",
    "- What can we neglect?\n",
    "- Thermal Expansion\n",
    "- Temperature profile in hot geometry (with proper neglectionsz)\n",
    "- Stress calculations"
   ]
  },
  {
   "cell_type": "markdown",
   "metadata": {},
   "source": [
    "## Sizing"
   ]
  },
  {
   "cell_type": "markdown",
   "metadata": {},
   "source": [
    "### Cladding Thickness"
   ]
  },
  {
   "cell_type": "code",
   "execution_count": null,
   "metadata": {},
   "outputs": [],
   "source": []
  },
  {
   "cell_type": "markdown",
   "metadata": {},
   "source": [
    "### Gap Thickness"
   ]
  },
  {
   "cell_type": "code",
   "execution_count": null,
   "metadata": {},
   "outputs": [],
   "source": []
  },
  {
   "cell_type": "markdown",
   "metadata": {},
   "source": [
    "### Plenum Height"
   ]
  },
  {
   "cell_type": "code",
   "execution_count": null,
   "metadata": {},
   "outputs": [],
   "source": []
  },
  {
   "cell_type": "code",
   "execution_count": 31,
   "metadata": {},
   "outputs": [],
   "source": [
    "\n",
    "# 2. Verification\n",
    "## Margin to Melting of the Fuel\n",
    "# Code to verify that the fuel temperature remains below the limit.\n",
    "\n",
    "## Temperature of the Cladding\n",
    "# Code for cladding temperature calculations.\n",
    "\n",
    "## Yielding of the Cladding\n",
    "# Code to determine the safety against yielding based on stress analysis.\n",
    "\n",
    "## Time to Rupture for Thermal Creep of the Cladding\n",
    "# Calculation and analysis of thermal creep failure time.\n",
    "\n",
    "# 3. Considerations for Double Irradiation Time\n",
    "# Identify critical aspects to be considered if the irradiation time is doubled.\n",
    "\n",
    "# Results Visualization\n",
    "# Create plots where necessary, for example:\n",
    "# - Temperature profiles\n",
    "# - Creep stress against time"
   ]
  }
 ],
 "metadata": {
  "kernelspec": {
   "display_name": "base",
   "language": "python",
   "name": "python3"
  },
  "language_info": {
   "codemirror_mode": {
    "name": "ipython",
    "version": 3
   },
   "file_extension": ".py",
   "mimetype": "text/x-python",
   "name": "python",
   "nbconvert_exporter": "python",
   "pygments_lexer": "ipython3",
   "version": "3.11.5"
  }
 },
 "nbformat": 4,
 "nbformat_minor": 2
}
